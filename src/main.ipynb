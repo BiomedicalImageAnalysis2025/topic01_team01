{
 "cells": [
  {
   "cell_type": "markdown",
   "metadata": {},
   "source": [
    "# Face Recognition using k-Nearest Neighbor\n",
    "\n",
    "---\n",
    "\n",
    "### Contents\n",
    "<ol>\n",
    "    <li><a href=\"#data-preprocessing\" style=\"color: currentColor\">Data Preprocessing</a></li>\n",
    "    <li><a href=\"#pca\" style=\"color: currentColor\">Principal Component Analysis</a></li>\n",
    "    <li><a href=\"#knn\" style=\"color: currentColor\">kNN-Algorithm</a></li>\n",
    "    <li><a href=\"#testing\" style=\"color: currentColor\">Model Testing</a></li>\n",
    "    <li><a href=\"#accuracy\" style=\"color: currentColor\">Accuracy Evaluation</a></li>\n",
    "    <li><a href=\"#further-analysis\" style=\"color: currentColor\">Further Analysis</a></li>\n",
    "</ol>\n",
    "<br>\n",
    "\n",
    "---\n",
    "\n",
    "### Libraries"
   ]
  },
  {
   "cell_type": "code",
   "execution_count": 73,
   "metadata": {},
   "outputs": [],
   "source": [
    "import os\n",
    "import numpy as np\n",
    "import matplotlib.pyplot as plt\n",
    "from PIL import Image\n",
    "\n",
    "import sys\n",
    "sys.path.append(os.path.abspath(\"../functions\"))\n",
    "\n",
    "import preprocessing\n",
    "import pca\n",
    "import knn"
   ]
  },
  {
   "cell_type": "markdown",
   "metadata": {},
   "source": [
    "---\n",
    "\n",
    "## <a id=\"pca\"></a> 1. Data Preprocessing"
   ]
  },
  {
   "cell_type": "markdown",
   "metadata": {},
   "source": [
    "---\n",
    "\n",
    "## <a id=\"pca\"></a> 2. Pricinpal Component Analysis"
   ]
  },
  {
   "cell_type": "code",
   "execution_count": 74,
   "metadata": {},
   "outputs": [
    {
     "name": "stdout",
     "output_type": "stream",
     "text": [
      "PCA dataset shape: (120, 100)\n",
      "PCA dataset shape: (45, 45)\n"
     ]
    }
   ],
   "source": [
    "train_projection_matrix, train_variance_values = pca.svd_for_pca(train_centered, k=100)\n",
    "\n",
    "train_pca_matrix = PCA(train_projection_matrix, train_centered)\n",
    "\n",
    "test_projection_matrix, test_variance_values = pca.svd_for_pca(test_centered, k=100)\n",
    "\n",
    "test_pca_matrix = PCA(test_projection_matrix, test_centered)"
   ]
  },
  {
   "cell_type": "markdown",
   "metadata": {},
   "source": [
    "---\n",
    "\n",
    "## <a id=\"knn\"></a> 3. kNN-Algorithm"
   ]
  },
  {
   "cell_type": "markdown",
   "metadata": {},
   "source": [
    "---\n",
    "\n",
    "## <a id=\"testing\"></a> 4. Model Testing"
   ]
  },
  {
   "cell_type": "markdown",
   "metadata": {},
   "source": [
    "---\n",
    "\n",
    "## <a id=\"accuracy\"></a> 5. Accuracy Evaluation"
   ]
  },
  {
   "cell_type": "markdown",
   "metadata": {},
   "source": [
    "---\n",
    "\n",
    "## <a id=\"further-analysis\"></a> 6. Further Analysis"
   ]
  }
 ],
 "metadata": {
  "kernelspec": {
   "display_name": "Python 3",
   "language": "python",
   "name": "python3"
  },
  "language_info": {
   "codemirror_mode": {
    "name": "ipython",
    "version": 3
   },
   "file_extension": ".py",
   "mimetype": "text/x-python",
   "name": "python",
   "nbconvert_exporter": "python",
   "pygments_lexer": "ipython3",
   "version": "3.12.3"
  }
 },
 "nbformat": 4,
 "nbformat_minor": 2
}

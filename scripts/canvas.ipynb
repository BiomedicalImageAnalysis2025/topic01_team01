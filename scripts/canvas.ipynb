{
 "cells": [
  {
   "cell_type": "markdown",
   "id": "e2d3fb0d",
   "metadata": {},
   "source": [
    "# Face recognition using k-Nearest Neighbor\n",
    "\n",
    "---\n",
    "\n",
    "### Contents\n",
    "<ol>\n",
    "    <li><a href=\"#data-preprocessing\" style=\"color: currentColor\">Data preprocessing</a></li>\n",
    "    <li><a href=\"#pca\" style=\"color: currentColor\">Principal Component Analysis</a></li>\n",
    "    <li><a href=\"#knn\" style=\"color: currentColor\">kNN-algorithm</a></li>\n",
    "    <li><a href=\"#testing\" style=\"color: currentColor\">Model testing</a></li>\n",
    "    <li><a href=\"#accuracy\" style=\"color: currentColor\">Accuracy evaluation</a></li>\n",
    "    <li><a href=\"#further-analysis\" style=\"color: currentColor\">Further Analysis</a></li>\n",
    "</ol>\n",
    "<br>\n",
    "\n",
    "---\n",
    "\n",
    "### Libraries"
   ]
  },
  {
   "cell_type": "code",
   "execution_count": 1,
   "id": "ba059aac",
   "metadata": {},
   "outputs": [],
   "source": [
    "import os\n",
    "import numpy as np\n",
    "import matplotlib.pyplot as plt\n",
    "from PIL import Image"
   ]
  },
  {
   "cell_type": "markdown",
   "id": "2fe094a5",
   "metadata": {},
   "source": [
    "---\n",
    "\n",
    "## <a id=\"image-loading\"></a> 1. Image loading\n",
    "\n"
   ]
  },
  {
   "cell_type": "code",
   "execution_count": 2,
   "id": "d95d4f62",
   "metadata": {},
   "outputs": [],
   "source": [
    "# Loading the image path as a string\n",
    "image_path = \"/Users/matspanke/Documents/GitHub/topic01_team01/datasets\"\n",
    "\n",
    "# Creating a new list with only .gif files. \n",
    "# -> Every file from the dataset.\n",
    "image_files = [f for f in os.listdir(image_path) if f.endswith(\".gif\")] \n",
    "\n",
    "# Store umprocessed images.\n",
    "all_raw_images = []\n",
    "\n",
    "# Sorting the list\n",
    "# Windows does it automatically but not Mac\n",
    "image_files.sort()\n",
    "\n",
    "# Combines the data elements with each .gif file.\n",
    "joined_img_path = [os.path.join(image_path, f) for f in image_files]\n",
    "\n",
    "for img_path in joined_img_path:\n",
    "    # Get the image data.\n",
    "    with Image.open(img_path) as img:\n",
    "        # Ensure grayscale.\n",
    "        img = img.convert(\"L\")\n",
    "        \n",
    "        # Convert the image object to a matrix representation\n",
    "        # of the pixel values of the image.\n",
    "        image_data = np.array(img) \n",
    "\n",
    "        # Add the data to all loaded images.\n",
    "        all_raw_images.append(image_data)"
   ]
  },
  {
   "cell_type": "markdown",
   "id": "87081749",
   "metadata": {},
   "source": [
    "---\n",
    "\n",
    "## <a id=\"data-preprocessing\"></a> 2. Data preprocessing \n",
    "\n"
   ]
  },
  {
   "cell_type": "markdown",
   "id": "b70d9ffb",
   "metadata": {},
   "source": [
    "### Test / Training Split"
   ]
  },
  {
   "cell_type": "code",
   "execution_count": null,
   "id": "d2781c80",
   "metadata": {},
   "outputs": [],
   "source": [
    "# Total amount of images.\n",
    "N = 165\n",
    "\n",
    "# We extract all indices and assign them to their individual.\n",
    "# 165 divided by 11 individual images for 15 people.\n",
    "test_img_indices = [[i for i in range(N) if i // 11 == j] for j in range(15)]\n",
    "\n",
    "# For each individual we take 3 random images for our test set.\n",
    "# The test-list should have 45 images, 3 of each individual\n",
    "test_raw_images = [int(i) for individual in test_img_indices for i in np.random.choice(individual, 3, replace=False)]\n",
    "\n",
    "# For the train set we just get access to every image that is not in the test set.\n",
    "train_raw_images = [i for i in range(N) if i not in test_img_indices]"
   ]
  },
  {
   "cell_type": "markdown",
   "id": "93245c87",
   "metadata": {},
   "source": [
    "### Image Preprocessing"
   ]
  },
  {
   "cell_type": "code",
   "execution_count": null,
   "id": "4a486ea5",
   "metadata": {},
   "outputs": [],
   "source": [
    "# The images have to be flattened so they fit into one matrix\n",
    "X = [img.flatten() for img in (all_raw_images)]\n",
    "\n",
    "# Calculation of the mean face.\n",
    "# As each row represents one image with the amount of pixels, \n",
    "# the matrix dimension is (165, 777 600).\n",
    "# Therefore we need to calculate the mean of each column.\n",
    "mean_face = np.mean(X, axis=0)\n",
    "\n",
    "# Center the data.\n",
    "X_centered = X - mean_face"
   ]
  },
  {
   "cell_type": "markdown",
   "id": "4f251224",
   "metadata": {},
   "source": [
    "---\n",
    "\n",
    "## <a id=\"pca\"></a> 3. Pricinpal component analysis"
   ]
  },
  {
   "cell_type": "markdown",
   "id": "8ddf2ce2",
   "metadata": {},
   "source": [
    "---\n",
    "\n",
    "## <a id=\"knn\"></a> 4. kNN-algorithm"
   ]
  },
  {
   "cell_type": "markdown",
   "id": "285b2eac",
   "metadata": {},
   "source": [
    "---\n",
    "\n",
    "## <a id=\"testing\"></a> 5. Model testing"
   ]
  },
  {
   "cell_type": "markdown",
   "id": "930d6ba8",
   "metadata": {},
   "source": [
    "---\n",
    "\n",
    "## <a id=\"accuracy\"></a> 6. Accuracy evaluation"
   ]
  },
  {
   "cell_type": "markdown",
   "id": "cfb70e98",
   "metadata": {},
   "source": [
    "---\n",
    "\n",
    "## <a id=\"further-analysis\"></a> 7. Further analysis"
   ]
  }
 ],
 "metadata": {
  "kernelspec": {
   "display_name": "Python 3",
   "language": "python",
   "name": "python3"
  },
  "language_info": {
   "codemirror_mode": {
    "name": "ipython",
    "version": 3
   },
   "file_extension": ".py",
   "mimetype": "text/x-python",
   "name": "python",
   "nbconvert_exporter": "python",
   "pygments_lexer": "ipython3",
   "version": "3.13.3"
  }
 },
 "nbformat": 4,
 "nbformat_minor": 5
}

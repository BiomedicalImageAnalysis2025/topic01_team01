{
 "cells": [
  {
   "cell_type": "markdown",
   "id": "e2d3fb0d",
   "metadata": {},
   "source": [
    "# Face recognition using k-Nearest Neighbor\n",
    "\n",
    "---\n",
    "\n",
    "### Contents\n",
    "<ol>\n",
    "    <li><a href=\"#image-loading\" style=\"color: white\">Image loading</a></li>\n",
    "    <li><a href=\"#data-preprocessing\" style=\"color: white\">Data preprocessing</a></li>\n",
    "    <li><a href=\"#pca\" style=\"color: white\">Principal Component Analysis</a></li>\n",
    "    <li><a href=\"#knn\" style=\"color: white\">kNN-algorithm</a></li>\n",
    "    <li><a href=\"#testing\" style=\"color: white\">Model testing</a></li>\n",
    "    <li><a href=\"#accuracy\" style=\"color: white\">Accuracy evaluation</a></li>\n",
    "    <li><a href=\"#further-analysis\" style=\"color: white\">Further Analysis</a></li>\n",
    "</ol>\n",
    "<br>\n",
    "\n",
    "---\n",
    "\n",
    "### Libraries"
   ]
  },
  {
   "cell_type": "code",
   "execution_count": 6,
   "id": "ba059aac",
   "metadata": {},
   "outputs": [
    {
     "ename": "ModuleNotFoundError",
     "evalue": "No module named 'numpy'",
     "output_type": "error",
     "traceback": [
      "\u001b[31m---------------------------------------------------------------------------\u001b[39m",
      "\u001b[31mModuleNotFoundError\u001b[39m                       Traceback (most recent call last)",
      "\u001b[36mCell\u001b[39m\u001b[36m \u001b[39m\u001b[32mIn[6]\u001b[39m\u001b[32m, line 2\u001b[39m\n\u001b[32m      1\u001b[39m \u001b[38;5;28;01mimport\u001b[39;00m\u001b[38;5;250m \u001b[39m\u001b[34;01mos\u001b[39;00m\n\u001b[32m----> \u001b[39m\u001b[32m2\u001b[39m \u001b[38;5;28;01mimport\u001b[39;00m\u001b[38;5;250m \u001b[39m\u001b[34;01mnumpy\u001b[39;00m\u001b[38;5;250m \u001b[39m\u001b[38;5;28;01mas\u001b[39;00m\u001b[38;5;250m \u001b[39m\u001b[34;01mnp\u001b[39;00m\n\u001b[32m      3\u001b[39m \u001b[38;5;28;01mimport\u001b[39;00m\u001b[38;5;250m \u001b[39m\u001b[34;01mmatplotlib\u001b[39;00m\u001b[34;01m.\u001b[39;00m\u001b[34;01mpyplot\u001b[39;00m\u001b[38;5;250m \u001b[39m\u001b[38;5;28;01mas\u001b[39;00m\u001b[38;5;250m \u001b[39m\u001b[34;01mplt\u001b[39;00m\n\u001b[32m      4\u001b[39m \u001b[38;5;28;01mfrom\u001b[39;00m\u001b[38;5;250m \u001b[39m\u001b[34;01mPIL\u001b[39;00m\u001b[38;5;250m \u001b[39m\u001b[38;5;28;01mimport\u001b[39;00m Image\n",
      "\u001b[31mModuleNotFoundError\u001b[39m: No module named 'numpy'"
     ]
    }
   ],
   "source": [
    "import os\n",
    "import numpy as np\n",
    "import matplotlib.pyplot as plt\n",
    "from PIL import Image\n",
    " "
   ]
  },
  {
   "cell_type": "markdown",
   "id": "2fe094a5",
   "metadata": {},
   "source": [
    "---\n",
    "\n",
    "## <a id=\"image-loading\"></a> 1. Image loading\n",
    "\n"
   ]
  },
  {
   "cell_type": "markdown",
   "id": "87081749",
   "metadata": {},
   "source": [
    "---\n",
    "\n",
    "## <a id=\"data-preprocessing\"></a> 2. Data preprocessing \n",
    "\n",
    "I would add splitting dataset here, as it is part of preprocessing **(discuss if we do some stuff with a lot of code in functions folder in order to keep markdown readable => applicaple for each part of project)**"
   ]
  },
  {
   "cell_type": "markdown",
   "id": "4f251224",
   "metadata": {},
   "source": [
    "---\n",
    "\n",
    "## <a id=\"pca\"></a> 3. Pricinpal component analysis"
   ]
  },
  {
   "cell_type": "markdown",
   "id": "8ddf2ce2",
   "metadata": {},
   "source": [
    "---\n",
    "\n",
    "## <a id=\"knn\"></a> 4. kNN-algorithm"
   ]
  },
  {
   "cell_type": "markdown",
   "id": "285b2eac",
   "metadata": {},
   "source": [
    "---\n",
    "\n",
    "## <a id=\"testing\"></a> 5. Model testing"
   ]
  },
  {
   "cell_type": "markdown",
   "id": "930d6ba8",
   "metadata": {},
   "source": [
    "---\n",
    "\n",
    "## <a id=\"accuracy\"></a> 6. Accuracy evaluation"
   ]
  },
  {
   "cell_type": "markdown",
   "id": "cfb70e98",
   "metadata": {},
   "source": [
    "---\n",
    "\n",
    "## <a id=\"further-analysis\"></a> 7. Further analysis"
   ]
  }
 ],
 "metadata": {
  "kernelspec": {
   "display_name": "Python 3",
   "language": "python",
   "name": "python3"
  },
  "language_info": {
   "codemirror_mode": {
    "name": "ipython",
    "version": 3
   },
   "file_extension": ".py",
   "mimetype": "text/x-python",
   "name": "python",
   "nbconvert_exporter": "python",
   "pygments_lexer": "ipython3",
   "version": "3.12.4"
  }
 },
 "nbformat": 4,
 "nbformat_minor": 5
}

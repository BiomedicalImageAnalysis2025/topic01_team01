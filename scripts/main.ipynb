{
 "cells": [
  {
   "cell_type": "markdown",
   "id": "e2d3fb0d",
   "metadata": {},
   "source": [
    "# Face recognition using k-Nearest Neighbor\n",
    "\n",
    "---\n",
    "\n",
    "### Contents\n",
    "<ol>\n",
    "    <li><a href=\"#image-loading\" style=\"color: currentColor\">Image loading</a></li>\n",
    "    <li><a href=\"#data-preprocessing\" style=\"color: currentColor\">Data preprocessing</a></li>\n",
    "    <li><a href=\"#pca\" style=\"color: currentColor\">Principal Component Analysis</a></li>\n",
    "    <li><a href=\"#knn\" style=\"color: currentColor\">kNN-algorithm</a></li>\n",
    "    <li><a href=\"#testing\" style=\"color: currentColor\">Model testing</a></li>\n",
    "    <li><a href=\"#accuracy\" style=\"color: currentColor\">Accuracy evaluation</a></li>\n",
    "    <li><a href=\"#further-analysis\" style=\"color: currentColor\">Further Analysis</a></li>\n",
    "</ol>\n",
    "<br>\n",
    "\n",
    "---\n",
    "\n",
    "### Libraries"
   ]
  },
  {
   "cell_type": "code",
   "execution_count": 18,
   "id": "ba059aac",
   "metadata": {},
   "outputs": [],
   "source": [
    "#! C:\\Users\\fedbe\\OneDrive\\Dokumente\\GitHub\\topic01_team01\\venv\\Scripts\\python.exe\n",
    "\n",
    "import os\n",
    "import numpy as np\n",
    "import matplotlib.pyplot as plt\n",
    "from PIL import Image\n",
    " "
   ]
  },
  {
   "cell_type": "markdown",
   "id": "2fe094a5",
   "metadata": {},
   "source": [
    "---\n",
    "\n",
    "## <a id=\"image-loading\"></a> 1. Image loading\n",
    "\n"
   ]
  },
  {
   "cell_type": "code",
   "execution_count": 19,
   "id": "b5826ec8",
   "metadata": {},
   "outputs": [
    {
     "ename": "FileNotFoundError",
     "evalue": "[Errno 2] No such file or directory",
     "output_type": "error",
     "traceback": [
      "\u001b[31m---------------------------------------------------------------------------\u001b[39m",
      "\u001b[31mFileNotFoundError\u001b[39m                         Traceback (most recent call last)",
      "\u001b[36mCell\u001b[39m\u001b[36m \u001b[39m\u001b[32mIn[19]\u001b[39m\u001b[32m, line 2\u001b[39m\n\u001b[32m      1\u001b[39m \u001b[38;5;66;03m#path to dataset\u001b[39;00m\n\u001b[32m----> \u001b[39m\u001b[32m2\u001b[39m img_folder = os.path.join(\u001b[43mos\u001b[49m\u001b[43m.\u001b[49m\u001b[43mgetcwd\u001b[49m\u001b[43m(\u001b[49m\u001b[43m)\u001b[49m, \u001b[33m\"\u001b[39m\u001b[33m../datasets\u001b[39m\u001b[33m\"\u001b[39m)\n\u001b[32m      4\u001b[39m \u001b[38;5;66;03m#store total amount of images \u001b[39;00m\n\u001b[32m      5\u001b[39m N = \u001b[32m165\u001b[39m \n",
      "\u001b[31mFileNotFoundError\u001b[39m: [Errno 2] No such file or directory"
     ]
    }
   ],
   "source": [
    "#path to dataset\n",
    "img_folder = os.path.join(os.getcwd(), \"../datasets\")\n",
    "\n",
    "#store total amount of images \n",
    "N = 165 \n",
    "\n",
    "#two empty list to hold the image data\n",
    "image_arrays = []\n",
    "image_names = []\n",
    " \n",
    "\n",
    "for img_file in os.listdir(img_folder):\n",
    "    #only load .gif images \n",
    "    if img_file.endswith(\".gif\"): \n",
    "        #get full file path \n",
    "        file_path = os.path.join(img_folder, img_file)\n",
    "\n",
    "        img = Image.open(file_path)\n",
    "        #convert to Numpy array\n",
    "        img_array = np.array(img)\n",
    "\n",
    "        #add arrays to empty lists\n",
    "        image_arrays.append(img_array)\n",
    "        image_names.append(img_file)\n",
    "\n",
    "\n",
    "\n"
   ]
  },
  {
   "cell_type": "markdown",
   "id": "87081749",
   "metadata": {},
   "source": [
    "---\n",
    "\n",
    "## <a id=\"data-preprocessing\"></a> 2. Data preprocessing \n",
    "\n",
    "I would add splitting dataset here, as it is part of preprocessing **(discuss if we do some stuff with a lot of code in functions folder in order to keep markdown readable => applicaple for each part of project)**"
   ]
  },
  {
   "cell_type": "code",
   "execution_count": null,
   "id": "8e06963a",
   "metadata": {},
   "outputs": [],
   "source": [
    "#Extract all indices of the pictures that correspond to the last 3 images of each subject\n",
    "test_image_indices = [ i for i in range(N) if (i % 11) in {8, 9, 10} ] \n",
    "\n",
    "#split training dataset from test dataset\n",
    "training_raw_images = [img for i, img in enumerate(image_arrays)if i not in test_image_indices]\n",
    "test_raw_images = [img for i, img in enumerate(image_arrays)if i in test_image_indices]\n",
    "\n",
    "\n"
   ]
  },
  {
   "cell_type": "markdown",
   "id": "c5f3fa41",
   "metadata": {},
   "source": [
    "### now the raw images have to be flattened, centered and normalized"
   ]
  },
  {
   "cell_type": "code",
   "execution_count": null,
   "id": "4de2ffb6",
   "metadata": {},
   "outputs": [],
   "source": [
    "#flattening the images \n",
    "#2D --> 1D\n",
    "X = [ img.flatten() for img in training_raw_images ]\n",
    "X_testset = [ img.flatten() for img in test_raw_images ]\n",
    "\n",
    "#creating the meanface for centering\n",
    "#axis 0 --> mean for each pixel\n",
    "mean_face = np.mean(X, axis= 0)\n",
    "\n",
    "#centering \n",
    "X_centered = X - mean_face\n",
    "X_testset_centered = X_testset - mean_face\n",
    "\n",
    "#normalising\n",
    "X_normalised = X_centered / np.linalg.norm(X_centered)\n",
    "X_testset_normalised = X_testset_centered / np.linalg.norm(X_testset_centered)\n"
   ]
  },
  {
   "cell_type": "markdown",
   "id": "4f251224",
   "metadata": {},
   "source": [
    "---\n",
    "\n",
    "## <a id=\"pca\"></a> 3. Pricinpal component analysis"
   ]
  },
  {
   "cell_type": "markdown",
   "id": "d066fc29",
   "metadata": {},
   "source": [
    "#### using svd the dimensions are reduced via PCA \n"
   ]
  },
  {
   "cell_type": "code",
   "execution_count": null,
   "id": "db55425e",
   "metadata": {},
   "outputs": [
    {
     "data": {
      "text/plain": [
       "(array([[-0.00855621,  0.07375859, -0.06631712, ...,  0.00315763,\n",
       "          0.00188348,  0.01101   ],\n",
       "        [-0.08725211,  0.03436491,  0.00134766, ...,  0.02774429,\n",
       "          0.01895208, -0.01607961],\n",
       "        [ 0.07890903,  0.03437058,  0.06142554, ...,  0.08216572,\n",
       "          0.06308874,  0.10792335],\n",
       "        ...,\n",
       "        [-0.04916946,  0.08094005, -0.13116492, ...,  0.01863853,\n",
       "         -0.01317564,  0.00837996],\n",
       "        [ 0.03348046,  0.06064459,  0.12426734, ..., -0.07941685,\n",
       "          0.25579863, -0.03105167],\n",
       "        [ 0.03514964,  0.01754592, -0.02431475, ...,  0.08151375,\n",
       "          0.03496107, -0.04207439]], shape=(120, 100)),\n",
       " array([0.55310218, 0.37001763, 0.31073541, 0.25808422, 0.21960009,\n",
       "        0.21852628, 0.17173187, 0.14776376, 0.14237273, 0.12899068,\n",
       "        0.12091529, 0.10816533, 0.1010261 , 0.10012002, 0.09609794,\n",
       "        0.09344412, 0.08728925, 0.08253316, 0.07993395, 0.07513275,\n",
       "        0.07204441, 0.06988282, 0.06675385, 0.06537095, 0.06192083,\n",
       "        0.06124872, 0.05999389, 0.05807697, 0.05655664, 0.05553924,\n",
       "        0.05408742, 0.05157671, 0.0506113 , 0.04967913, 0.04837697,\n",
       "        0.04718375, 0.04570952, 0.04528869, 0.04508737, 0.04424763,\n",
       "        0.04384742, 0.0427138 , 0.04179998, 0.04061188, 0.04042288,\n",
       "        0.03956297, 0.03813742, 0.03781968, 0.03725447, 0.03687804,\n",
       "        0.03657634, 0.03618555, 0.03545604, 0.03520735, 0.0345665 ,\n",
       "        0.03449812, 0.03400235, 0.03343133, 0.03319546, 0.03267169,\n",
       "        0.03193337, 0.03140021, 0.03114775, 0.03111388, 0.03066563,\n",
       "        0.03024548, 0.02987572, 0.02872451, 0.02850577, 0.02813929,\n",
       "        0.02802002, 0.02756086, 0.02736926, 0.02677087, 0.02654418,\n",
       "        0.02597777, 0.02572113, 0.02534814, 0.02481366, 0.02448398,\n",
       "        0.02435984, 0.02413042, 0.02386342, 0.02315562, 0.02283163,\n",
       "        0.02242413, 0.02158436, 0.02139878, 0.0211076 , 0.020738  ,\n",
       "        0.02030601, 0.01996428, 0.01973052, 0.01921114, 0.01906685,\n",
       "        0.0184938 , 0.01829164, 0.01803662, 0.01756634, 0.01729926]),\n",
       " array([[ 2.23238644e-04,  4.27311107e-04,  5.33107181e-04, ...,\n",
       "          0.00000000e+00,  0.00000000e+00,  0.00000000e+00],\n",
       "        [ 5.93063297e-04,  8.03554130e-04,  9.00088697e-04, ...,\n",
       "          0.00000000e+00,  0.00000000e+00,  0.00000000e+00],\n",
       "        [-3.63840929e-04, -3.46424294e-04, -2.61243425e-04, ...,\n",
       "          0.00000000e+00,  0.00000000e+00,  0.00000000e+00],\n",
       "        ...,\n",
       "        [-5.39963271e-04, -6.22815959e-04, -8.56556057e-04, ...,\n",
       "          0.00000000e+00,  0.00000000e+00,  0.00000000e+00],\n",
       "        [ 9.81662800e-05, -4.48330276e-04, -1.75609104e-04, ...,\n",
       "          0.00000000e+00,  0.00000000e+00,  0.00000000e+00],\n",
       "        [ 3.53843482e-04,  8.80265622e-05,  4.00332598e-04, ...,\n",
       "          0.00000000e+00,  0.00000000e+00,  0.00000000e+00]],\n",
       "       shape=(100, 77760)),\n",
       " array([[-4.73245716e-03,  2.72919766e-02, -2.06070786e-02, ...,\n",
       "          5.69528937e-05,  3.30857948e-05,  1.90464835e-04],\n",
       "        [-4.82593313e-02,  1.27156221e-02,  4.18765887e-04, ...,\n",
       "          5.00413145e-04,  3.32918683e-04, -2.78165245e-04],\n",
       "        [ 4.36447590e-02,  1.27177195e-02,  1.90870919e-02, ...,\n",
       "          1.48199171e-03,  1.10823803e-03,  1.86699373e-03],\n",
       "        ...,\n",
       "        [-2.71957332e-02,  2.99492465e-02, -4.07575864e-02, ...,\n",
       "          3.36176012e-04, -2.31447762e-04,  1.44967148e-04],\n",
       "        [ 1.85181160e-02,  2.24395660e-02,  3.86142640e-02, ...,\n",
       "         -1.43241142e-03,  4.49344512e-03, -5.37170832e-04],\n",
       "        [ 1.94413404e-02,  6.49229847e-03, -7.55545289e-03, ...,\n",
       "          1.47023240e-03,  6.14138014e-04, -7.27855654e-04]],\n",
       "       shape=(120, 100)))"
      ]
     },
     "execution_count": 15,
     "metadata": {},
     "output_type": "execute_result"
    }
   ],
   "source": [
    "#reducing dimension with PCA\n",
    "def  reduce_dim(X, n_components):\n",
    "    #performing SVD\n",
    "    #we use full_matrices=False to get reduced matrices\n",
    "    U, S, Vt = np.linalg.svd(X, full_matrices=False)\n",
    "    #selecting the first n_components\n",
    "    eigenfaces = U[:, :n_components]\n",
    "    S_reduced = S[:n_components]\n",
    "    V_reduced  = Vt[:n_components, :]\n",
    "\n",
    "    \n",
    "    #projecting the data onto the reduced space \n",
    "    X_reduced = X @ V_reduced.T\n",
    "\n",
    "    #defining the eigenvalues \n",
    "    eigenvalues = S_reduced ** 2\n",
    "    #returning reduced data\n",
    "    return eigenfaces, S_reduced, V_reduced, X_reduced, eigenvalues\n",
    "\n",
    "\n",
    "\n",
    "\n",
    "reduce_dim(X_normalised, n_components=100)\n",
    "\n",
    "\n",
    "\n",
    "\n",
    "    "
   ]
  },
  {
   "cell_type": "markdown",
   "id": "e4ad1121",
   "metadata": {},
   "source": []
  },
  {
   "cell_type": "markdown",
   "id": "8ddf2ce2",
   "metadata": {},
   "source": [
    "---\n",
    "\n",
    "## <a id=\"knn\"></a> 4. kNN-algorithm"
   ]
  },
  {
   "cell_type": "markdown",
   "id": "285b2eac",
   "metadata": {},
   "source": [
    "---\n",
    "\n",
    "## <a id=\"testing\"></a> 5. Model testing"
   ]
  },
  {
   "cell_type": "markdown",
   "id": "930d6ba8",
   "metadata": {},
   "source": [
    "---\n",
    "\n",
    "## <a id=\"accuracy\"></a> 6. Accuracy evaluation"
   ]
  },
  {
   "cell_type": "markdown",
   "id": "cfb70e98",
   "metadata": {},
   "source": [
    "---\n",
    "\n",
    "## <a id=\"further-analysis\"></a> 7. Further analysis"
   ]
  }
 ],
 "metadata": {
  "kernelspec": {
   "display_name": "Python 3",
   "language": "python",
   "name": "python3"
  },
  "language_info": {
   "codemirror_mode": {
    "name": "ipython",
    "version": 3
   },
   "file_extension": ".py",
   "mimetype": "text/x-python",
   "name": "python",
   "nbconvert_exporter": "python",
   "pygments_lexer": "ipython3",
   "version": "3.13.3"
  }
 },
 "nbformat": 4,
 "nbformat_minor": 5
}

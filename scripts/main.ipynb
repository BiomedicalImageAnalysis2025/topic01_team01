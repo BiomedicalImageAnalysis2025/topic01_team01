{
 "cells": [
  {
   "cell_type": "markdown",
   "id": "e2d3fb0d",
   "metadata": {},
   "source": [
    "# Face recognition using k-Nearest Neighbor\n",
    "\n",
    "---\n",
    "\n",
    "### Contents\n",
    "<ol>\n",
    "    <li><a href=\"#image-loading\">Image loading</a></li>\n",
    "    <li><a href=\"#data-preprocessing\">Data preprocessing</a></li>\n",
    "    <li><a href=\"#pca\">Principal Component Analysis</a></li>\n",
    "    <li><a href=\"#knn\">kNN-algorithm</a></li>\n",
    "    <li><a href=\"#testing\">Model testing</a></li>\n",
    "    <li><a href=\"#accuracy\">Accuracy evaluation</a></li>\n",
    "    <li><a href=\"#further-analysis\">Further Analysis</a></li>\n",
    "</ol>\n",
    "<br>\n",
    "\n",
    "---\n",
    "\n",
    "### Libraries"
   ]
  },
  {
   "cell_type": "code",
   "execution_count": null,
   "id": "ba059aac",
   "metadata": {},
   "outputs": [
    {
     "ename": "ModuleNotFoundError",
     "evalue": "No module named 'numpy'",
     "output_type": "error",
     "traceback": [
      "\u001b[31m---------------------------------------------------------------------------\u001b[39m",
      "\u001b[31mModuleNotFoundError\u001b[39m                       Traceback (most recent call last)",
      "\u001b[36mCell\u001b[39m\u001b[36m \u001b[39m\u001b[32mIn[2]\u001b[39m\u001b[32m, line 2\u001b[39m\n\u001b[32m      1\u001b[39m \u001b[38;5;28;01mimport\u001b[39;00m\u001b[38;5;250m \u001b[39m\u001b[34;01mos\u001b[39;00m\n\u001b[32m----> \u001b[39m\u001b[32m2\u001b[39m \u001b[38;5;28;01mimport\u001b[39;00m\u001b[38;5;250m \u001b[39m\u001b[34;01mnumpy\u001b[39;00m\u001b[38;5;250m \u001b[39m\u001b[38;5;28;01mas\u001b[39;00m\u001b[38;5;250m \u001b[39m\u001b[34;01mnp\u001b[39;00m\n\u001b[32m      3\u001b[39m \u001b[38;5;28;01mimport\u001b[39;00m\u001b[38;5;250m \u001b[39m\u001b[34;01mmatplotlib\u001b[39;00m\u001b[34;01m.\u001b[39;00m\u001b[34;01mpyplot\u001b[39;00m\u001b[38;5;250m \u001b[39m\u001b[38;5;28;01mas\u001b[39;00m\u001b[38;5;250m \u001b[39m\u001b[34;01mplt\u001b[39;00m\n",
      "\u001b[31mModuleNotFoundError\u001b[39m: No module named 'numpy'"
     ]
    }
   ],
   "source": [
    "import os\n",
    "import numpy as np\n",
    "import matplotlib.pyplot as plt\n",
    "from PIL import Image\n",
    " "
   ]
  },
  {
   "cell_type": "markdown",
   "id": "2fe094a5",
   "metadata": {},
   "source": [
    "---\n",
    "\n",
    "## <a id=\"image-loading\"></a> 1. Image loading\n",
    "\n"
   ]
  }
 ],
 "metadata": {
  "kernelspec": {
   "display_name": "Python 3",
   "language": "python",
   "name": "python3"
  },
  "language_info": {
   "codemirror_mode": {
    "name": "ipython",
    "version": 3
   },
   "file_extension": ".py",
   "mimetype": "text/x-python",
   "name": "python",
   "nbconvert_exporter": "python",
   "pygments_lexer": "ipython3",
   "version": "3.12.4"
  }
 },
 "nbformat": 4,
 "nbformat_minor": 5
}

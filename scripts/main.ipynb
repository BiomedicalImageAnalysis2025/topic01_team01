{
 "cells": [
  {
   "cell_type": "markdown",
   "id": "e2d3fb0d",
   "metadata": {},
   "source": [
    "# Face recognition using k-Nearest Neighbor\n",
    "\n",
    "---\n",
    "\n",
    "### Contents\n",
    "<ol>\n",
    "    <li><a href=\"#image-loading\" style=\"color: currentColor\">Image loading</a></li>\n",
    "    <li><a href=\"#data-preprocessing\" style=\"color: currentColor\">Data preprocessing</a></li>\n",
    "    <li><a href=\"#pca\" style=\"color: currentColor\">Principal Component Analysis</a></li>\n",
    "    <li><a href=\"#knn\" style=\"color: currentColor\">kNN-algorithm</a></li>\n",
    "    <li><a href=\"#testing\" style=\"color: currentColor\">Model testing</a></li>\n",
    "    <li><a href=\"#accuracy\" style=\"color: currentColor\">Accuracy evaluation</a></li>\n",
    "    <li><a href=\"#further-analysis\" style=\"color: currentColor\">Further Analysis</a></li>\n",
    "</ol>\n",
    "<br>\n",
    "\n",
    "---\n",
    "\n",
    "### Libraries"
   ]
  },
  {
   "cell_type": "code",
   "execution_count": 2,
   "id": "ba059aac",
   "metadata": {},
   "outputs": [],
   "source": [
    "#! C:\\Users\\fedbe\\OneDrive\\Dokumente\\GitHub\\topic01_team01\\venv\\Scripts\\python.exe\n",
    "\n",
    "import os\n",
    "import numpy as np\n",
    "import matplotlib.pyplot as plt\n",
    "from PIL import Image\n",
    " "
   ]
  },
  {
   "cell_type": "markdown",
   "id": "2fe094a5",
   "metadata": {},
   "source": [
    "---\n",
    "\n",
    "## <a id=\"image-loading\"></a> 1. Image loading\n",
    "\n"
   ]
  },
  {
   "cell_type": "code",
   "execution_count": 3,
   "id": "b5826ec8",
   "metadata": {},
   "outputs": [],
   "source": [
    "#path to dataset\n",
    "img_folder = os.path.join(os.getcwd(), \"../datasets\")\n",
    "\n",
    "#store total amount of images \n",
    "N = 165 \n",
    "\n",
    "#two empty list to hold the image data\n",
    "image_arrays = []\n",
    "image_names = []\n",
    " \n",
    "\n",
    "for img_file in os.listdir(img_folder):\n",
    "    #only load .gif images \n",
    "    if img_file.endswith(\".gif\"): \n",
    "        #get full file path \n",
    "        file_path = os.path.join(img_folder, img_file)\n",
    "\n",
    "        img = Image.open(file_path)\n",
    "        #convert to Numpy array\n",
    "        img_array = np.array(img)\n",
    "\n",
    "        #add arrays to empty lists\n",
    "        image_arrays.append(img_array)\n",
    "        image_names.append(img_file)\n",
    "\n",
    "\n",
    "\n"
   ]
  },
  {
   "cell_type": "markdown",
   "id": "87081749",
   "metadata": {},
   "source": [
    "---\n",
    "\n",
    "## <a id=\"data-preprocessing\"></a> 2. Data preprocessing \n",
    "\n",
    "I would add splitting dataset here, as it is part of preprocessing **(discuss if we do some stuff with a lot of code in functions folder in order to keep markdown readable => applicaple for each part of project)**"
   ]
  },
  {
   "cell_type": "code",
   "execution_count": 4,
   "id": "8e06963a",
   "metadata": {},
   "outputs": [],
   "source": [
    "#Extract all indices of the pictures that correspond to the last 3 images of each subject\n",
    "test_image_indices = [ i for i in range(N) if (i % 11) in {8, 9, 10} ] \n",
    "\n",
    "#split training dataset from test dataset\n",
    "training_raw_images = [img for i, img in enumerate(image_arrays)if i not in test_image_indices]\n",
    "test_raw_images = [img for i, img in enumerate(image_arrays)if i in test_image_indices]\n",
    "\n",
    "\n"
   ]
  },
  {
   "cell_type": "markdown",
   "id": "c5f3fa41",
   "metadata": {},
   "source": [
    "### now the raw images have to be flattened, centered and normalized"
   ]
  },
  {
   "cell_type": "code",
   "execution_count": 5,
   "id": "4de2ffb6",
   "metadata": {},
   "outputs": [],
   "source": [
    "#flattening the images \n",
    "#2D --> 1D\n",
    "X = [ img.flatten() for img in training_raw_images ]\n",
    "\n",
    "#creating the meanface for centering\n",
    "#axis 0 --> mean for each pixel\n",
    "mean_face = np.mean(X, axis= 0)\n",
    "\n",
    "#centering \n",
    "X_centered = X - mean_face\n",
    "\n",
    "#normalising\n",
    "X_normalised = X_centered / np.linalg.norm(X_centered)\n",
    "\n",
    "\n"
   ]
  },
  {
   "cell_type": "markdown",
   "id": "4f251224",
   "metadata": {},
   "source": [
    "---\n",
    "\n",
    "## <a id=\"pca\"></a> 3. Pricinpal component analysis"
   ]
  },
  {
   "cell_type": "markdown",
   "id": "8ddf2ce2",
   "metadata": {},
   "source": [
    "---\n",
    "\n",
    "## <a id=\"knn\"></a> 4. kNN-algorithm"
   ]
  },
  {
   "cell_type": "markdown",
   "id": "285b2eac",
   "metadata": {},
   "source": [
    "---\n",
    "\n",
    "## <a id=\"testing\"></a> 5. Model testing"
   ]
  },
  {
   "cell_type": "markdown",
   "id": "930d6ba8",
   "metadata": {},
   "source": [
    "---\n",
    "\n",
    "## <a id=\"accuracy\"></a> 6. Accuracy evaluation"
   ]
  },
  {
   "cell_type": "markdown",
   "id": "cfb70e98",
   "metadata": {},
   "source": [
    "---\n",
    "\n",
    "## <a id=\"further-analysis\"></a> 7. Further analysis"
   ]
  }
 ],
 "metadata": {
  "kernelspec": {
   "display_name": "Python 3",
   "language": "python",
   "name": "python3"
  },
  "language_info": {
   "codemirror_mode": {
    "name": "ipython",
    "version": 3
   },
   "file_extension": ".py",
   "mimetype": "text/x-python",
   "name": "python",
   "nbconvert_exporter": "python",
   "pygments_lexer": "ipython3",
   "version": "3.13.3"
  }
 },
 "nbformat": 4,
 "nbformat_minor": 5
}

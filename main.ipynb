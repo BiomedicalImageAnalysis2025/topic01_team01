{
 "cells": [
  {
   "cell_type": "markdown",
   "id": "e2d3fb0d",
   "metadata": {},
   "source": [
    "# Face recognition using k-Nearest Neighbor\n",
    "\n",
    "---\n",
    "\n",
    "### Contents\n",
    "<ol>\n",
    "    <li><a href=\"#data-preprocessing\" style=\"color: currentColor\">Data preprocessing</a></li>\n",
    "    <li><a href=\"#pca\" style=\"color: currentColor\">Principal Component Analysis</a></li>\n",
    "    <li><a href=\"#knn\" style=\"color: currentColor\">kNN-algorithm</a></li>\n",
    "    <li><a href=\"#testing\" style=\"color: currentColor\">Model testing</a></li>\n",
    "    <li><a href=\"#accuracy\" style=\"color: currentColor\">Accuracy evaluation</a></li>\n",
    "    <li><a href=\"#further-analysis\" style=\"color: currentColor\">Further Analysis</a></li>\n",
    "</ol>\n",
    "<br>\n",
    "\n",
    "<i> Note: To keep the notebook readable, it focuses on executing the code and showing the results. The entire code can be found in the functions folder and the beloging .py files.</i>\n",
    "\n",
    "---\n",
    "\n",
    "### Libraries"
   ]
  },
  {
   "cell_type": "code",
   "execution_count": 8,
   "id": "ba059aac",
   "metadata": {},
   "outputs": [],
   "source": [
    "import os\n",
    "import numpy as np\n",
    "import matplotlib.pyplot as plt\n",
    "from PIL import Image\n",
    "\n",
    "\n",
    "# os.chdir(r\"C:\\Users\\fedbe\\OneDrive\\Dokumente\\GitHub\\topic01_team01\")\n",
    "# checks if the current working directory is correct:\n",
    "# print(os.getcwd())"
   ]
  },
  {
   "cell_type": "markdown",
   "id": "87081749",
   "metadata": {},
   "source": [
    "---\n",
    "\n",
    "## <a id=\"data-preprocessing\"></a> 1. Data preprocessing \n",
    "\n",
    "### 1.1 Image loading & splitting the dataset\n",
    "\n",
    "In the first part of data preprocessing we load and split the dataset into training and test data. The dataset contains 11 images expressing different facial expression and light conditions of 15 subjects each. In order to split these images, 8 images of each subject are choosen randomly to use for training. All remaining images will serve as test data.\n"
   ]
  },
  {
   "cell_type": "code",
   "execution_count": 10,
   "id": "fa2a7d0d",
   "metadata": {},
   "outputs": [
    {
     "name": "stdout",
     "output_type": "stream",
     "text": [
      "Total training images: 120\n",
      "Total testing images: 45\n"
     ]
    }
   ],
   "source": [
    "%run functions\\splitting_data.py"
   ]
  },
  {
   "cell_type": "markdown",
   "id": "4f251224",
   "metadata": {},
   "source": [
    "---\n",
    "\n",
    "## <a id=\"pca\"></a> 2. Pricinpal component analysis"
   ]
  },
  {
   "cell_type": "markdown",
   "id": "8ddf2ce2",
   "metadata": {},
   "source": [
    "---\n",
    "\n",
    "## <a id=\"knn\"></a> 3. kNN-algorithm"
   ]
  },
  {
   "cell_type": "markdown",
   "id": "285b2eac",
   "metadata": {},
   "source": [
    "---\n",
    "\n",
    "## <a id=\"testing\"></a> 4. Model testing"
   ]
  },
  {
   "cell_type": "markdown",
   "id": "930d6ba8",
   "metadata": {},
   "source": [
    "---\n",
    "\n",
    "## <a id=\"accuracy\"></a> 5. Accuracy evaluation"
   ]
  },
  {
   "cell_type": "markdown",
   "id": "cfb70e98",
   "metadata": {},
   "source": [
    "---\n",
    "\n",
    "## <a id=\"further-analysis\"></a> 6. Further analysis"
   ]
  }
 ],
 "metadata": {
  "kernelspec": {
   "display_name": "Python 3",
   "language": "python",
   "name": "python3"
  },
  "language_info": {
   "codemirror_mode": {
    "name": "ipython",
    "version": 3
   },
   "file_extension": ".py",
   "mimetype": "text/x-python",
   "name": "python",
   "nbconvert_exporter": "python",
   "pygments_lexer": "ipython3",
   "version": "3.13.3"
  }
 },
 "nbformat": 4,
 "nbformat_minor": 5
}

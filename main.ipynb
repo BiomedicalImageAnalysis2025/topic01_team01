{
 "cells": [
  {
   "cell_type": "markdown",
   "id": "e2d3fb0d",
   "metadata": {},
   "source": [
    "# Face recognition using k-Nearest Neighbor\n",
    "\n",
    "---\n",
    "\n",
    "### Contents\n",
    "<ol>\n",
    "    <li><a href=\"#data-preprocessing\" style=\"color: currentColor\">Data preprocessing</a></li>\n",
    "    <li><a href=\"#pca\" style=\"color: currentColor\">Principal Component Analysis</a></li>\n",
    "    <li><a href=\"#knn\" style=\"color: currentColor\">k-Nearest-Neighbor</a></li>\n",
    "    <li><a href=\"#testing\" style=\"color: currentColor\">Model testing</a></li>\n",
    "    <li><a href=\"#accuracy\" style=\"color: currentColor\">Accuracy evaluation</a></li>\n",
    "    <li><a href=\"#further-analysis\" style=\"color: currentColor\">Further Analysis</a></li>\n",
    "</ol>\n",
    "<br>\n",
    "\n",
    "<i> Note: To keep the notebook readable, it focuses on executing the code and showing the results. The entire code can be found in the functions folder and the beloging .py files.</i>\n",
    "\n",
    "---\n",
    "\n",
    "### Libraries"
   ]
  },
  {
   "cell_type": "code",
   "execution_count": 10,
   "id": "ba059aac",
   "metadata": {},
   "outputs": [],
   "source": [
    "import os\n",
    "import numpy as np\n",
    "import matplotlib.pyplot as plt\n",
    "from PIL import Image\n",
    "import seaborn as sns\n",
    "from sklearn.metrics import confusion_matrix\n",
    "import plotly.figure_factory as ff\n",
    "import pandas as pd\n",
    "import plotly.graph_objects as go\n",
    "\n",
    "\n",
    "# os.chdir(r\"C:\\Users\\fedbe\\OneDrive\\Dokumente\\GitHub\\topic01_team01\")\n",
    "# checks if the current working directory is correct:\n",
    "# print(os.getcwd())"
   ]
  },
  {
   "cell_type": "markdown",
   "id": "87081749",
   "metadata": {},
   "source": [
    "---\n",
    "\n",
    "## <a id=\"data-preprocessing\"></a> 1. Data preprocessing \n",
    "\n",
    "(INSERT SOURCES?) (INCLUDE MORE INFO; e.g. FORMULAS TO DESCRIBE ALL STEPS BETTER?)\n",
    "\n",
    "In the first part, we need to perform different preprocessing steps before we can move on to Principal component analysis (PCA).\\\n",
    "First, we transform each image into a 1D vector to create a 2D data matrix where each row is a single sample (image) and each column corrresponds to one feature (pixel). This procedure is called <b> flattening</b>.\\\n",
    "Secondly, we <b> convert the integer formats to floating point</b> so that arithmetic operations behave correctly and <b> normalize </b> the data to the range [0,1] to ensure that each pixel has a similar scale.\\\n",
    "Before performing further preprocessing steps, we split the dataset into training and test data. The dataset contains 11 images expressing different facial expression and light conditions of 15 subjects each. In order to split these images, 8 images of each subject are choosen randomly to use for training. All remaining images will serve as test data.\n",
    "Next, we <b> center our data </b> . This is done, by subtracting the mean value for each pixel position across the dataset. This ensures that your dataset has a zero mean, which is essential because PCA will then capture the directions of maximum variance around this mean.\\\n",
    "Lastly, we <b> standardize</b>  the data by subtracting the mean and then dividing by the standard deviation for each feature (also called <b> z-transformation</b>)."
   ]
  },
  {
   "cell_type": "code",
   "execution_count": 3,
   "id": "fa2a7d0d",
   "metadata": {},
   "outputs": [
    {
     "name": "stdout",
     "output_type": "stream",
     "text": [
      "Total training images: 120\n",
      "Total testing images: 45\n",
      "\n",
      "After preprocessing:\n",
      "Training data shape: (120, 77760)\n",
      "Testing data shape: (45, 77760)\n",
      "\n",
      "Verification of preprocessing:\n",
      "First training image: Mean ≈ 0.3996, Std ≈ 0.6604\n"
     ]
    }
   ],
   "source": [
    "# for MacOS users, the path separator is a forward slash, please uncomment the following line and comment the other one:\n",
    "%run functions/preprocessing.py\n",
    "\n",
    "#%run functions\\preprocessing.py\n"
   ]
  },
  {
   "cell_type": "markdown",
   "id": "4f251224",
   "metadata": {},
   "source": [
    "---\n",
    "\n",
    "## <a id=\"pca\"></a> 2. Pricinpal component analysis"
   ]
  },
  {
   "cell_type": "code",
   "execution_count": 4,
   "id": "1b09623e",
   "metadata": {},
   "outputs": [
    {
     "name": "stdout",
     "output_type": "stream",
     "text": [
      "Succesfully reduced Matrix from (120, 77760) to (120, 40)\n",
      "\n",
      "Succesfully transformed Matrix from (45, 77760) to (45, 40)\n"
     ]
    }
   ],
   "source": [
    "from functions.pca import svd_pca\n",
    "from functions.pca import pca_transform\n",
    "\n",
    "n_components = 40  # Number of components to keep, can be adjusted later\n",
    "# semicolon is used to suppress output of the last line in Jupyter notebooks, so in our case it prevents the return output\n",
    "projection_matrix, train_reduced, explained_variance_ratio = svd_pca(final_train,n_components)\n",
    "test_reduced = pca_transform(final_test,projection_matrix)\n",
    "# Maybe already implement here some Plots, to show which PC are the most important ones\n",
    "# and what number of n_components is the best to use for our model instead of doing everything in 5.?\n",
    "# "
   ]
  },
  {
   "cell_type": "markdown",
   "id": "8ddf2ce2",
   "metadata": {},
   "source": [
    "---\n",
    "\n",
    "## <a id=\"knn\"></a> 3. k-Nearest-Neighbor"
   ]
  },
  {
   "cell_type": "code",
   "execution_count": 5,
   "id": "0bfd0875",
   "metadata": {},
   "outputs": [
    {
     "name": "stdout",
     "output_type": "stream",
     "text": [
      "k-NN Classification Accuracy: 77.78%\n"
     ]
    },
    {
     "data": {
      "application/vnd.plotly.v1+json": {
       "config": {
        "plotlyServerURL": "https://plot.ly"
       },
       "data": [
        {
         "colorscale": [
          [
           0,
           "rgb(247,251,255)"
          ],
          [
           0.125,
           "rgb(222,235,247)"
          ],
          [
           0.25,
           "rgb(198,219,239)"
          ],
          [
           0.375,
           "rgb(158,202,225)"
          ],
          [
           0.5,
           "rgb(107,174,214)"
          ],
          [
           0.625,
           "rgb(66,146,198)"
          ],
          [
           0.75,
           "rgb(33,113,181)"
          ],
          [
           0.875,
           "rgb(8,81,156)"
          ],
          [
           1,
           "rgb(8,48,107)"
          ]
         ],
         "reversescale": false,
         "showscale": false,
         "type": "heatmap",
         "x": [
          "subject01",
          "subject02",
          "subject03",
          "subject04",
          "subject05",
          "subject06",
          "subject07",
          "subject08",
          "subject09",
          "subject10",
          "subject11",
          "subject12",
          "subject13",
          "subject14",
          "subject15"
         ],
         "y": [
          "subject01",
          "subject02",
          "subject03",
          "subject04",
          "subject05",
          "subject06",
          "subject07",
          "subject08",
          "subject09",
          "subject10",
          "subject11",
          "subject12",
          "subject13",
          "subject14",
          "subject15"
         ],
         "z": {
          "bdata": "AgAAAAEAAAAAAAAAAAAAAAIAAAAAAAABAAAAAAAAAAADAAAAAAAAAAAAAAAAAAAAAwAAAAAAAAAAAAAAAAAAAAIAAAABAAAAAAAAAAAAAAADAAAAAAAAAAAAAAAAAAAAAQABAQAAAAAAAAAAAAAAAAECAAAAAAAAAAAAAAAAAAECAAAAAAAAAAAAAAAAAAAAAwAAAAAAAAAAAAAAAAAAAAMAAAAAAAAAAAAAAAAAAAADAAAAAAAAAAAAAAAAAAAAAwAAAAAAAAAAAAABAAAAAAIAAAAAAAAAAAEAAAAAAAAC",
          "dtype": "i1",
          "shape": "15, 15"
         }
        }
       ],
       "layout": {
        "annotations": [
         {
          "font": {
           "color": "#FFFFFF"
          },
          "showarrow": false,
          "text": "2",
          "x": "subject01",
          "xref": "x",
          "y": "subject01",
          "yref": "y"
         },
         {
          "font": {
           "color": "#000000"
          },
          "showarrow": false,
          "text": "0",
          "x": "subject02",
          "xref": "x",
          "y": "subject01",
          "yref": "y"
         },
         {
          "font": {
           "color": "#000000"
          },
          "showarrow": false,
          "text": "0",
          "x": "subject03",
          "xref": "x",
          "y": "subject01",
          "yref": "y"
         },
         {
          "font": {
           "color": "#000000"
          },
          "showarrow": false,
          "text": "0",
          "x": "subject04",
          "xref": "x",
          "y": "subject01",
          "yref": "y"
         },
         {
          "font": {
           "color": "#000000"
          },
          "showarrow": false,
          "text": "1",
          "x": "subject05",
          "xref": "x",
          "y": "subject01",
          "yref": "y"
         },
         {
          "font": {
           "color": "#000000"
          },
          "showarrow": false,
          "text": "0",
          "x": "subject06",
          "xref": "x",
          "y": "subject01",
          "yref": "y"
         },
         {
          "font": {
           "color": "#000000"
          },
          "showarrow": false,
          "text": "0",
          "x": "subject07",
          "xref": "x",
          "y": "subject01",
          "yref": "y"
         },
         {
          "font": {
           "color": "#000000"
          },
          "showarrow": false,
          "text": "0",
          "x": "subject08",
          "xref": "x",
          "y": "subject01",
          "yref": "y"
         },
         {
          "font": {
           "color": "#000000"
          },
          "showarrow": false,
          "text": "0",
          "x": "subject09",
          "xref": "x",
          "y": "subject01",
          "yref": "y"
         },
         {
          "font": {
           "color": "#000000"
          },
          "showarrow": false,
          "text": "0",
          "x": "subject10",
          "xref": "x",
          "y": "subject01",
          "yref": "y"
         },
         {
          "font": {
           "color": "#000000"
          },
          "showarrow": false,
          "text": "0",
          "x": "subject11",
          "xref": "x",
          "y": "subject01",
          "yref": "y"
         },
         {
          "font": {
           "color": "#000000"
          },
          "showarrow": false,
          "text": "0",
          "x": "subject12",
          "xref": "x",
          "y": "subject01",
          "yref": "y"
         },
         {
          "font": {
           "color": "#000000"
          },
          "showarrow": false,
          "text": "0",
          "x": "subject13",
          "xref": "x",
          "y": "subject01",
          "yref": "y"
         },
         {
          "font": {
           "color": "#000000"
          },
          "showarrow": false,
          "text": "0",
          "x": "subject14",
          "xref": "x",
          "y": "subject01",
          "yref": "y"
         },
         {
          "font": {
           "color": "#000000"
          },
          "showarrow": false,
          "text": "0",
          "x": "subject15",
          "xref": "x",
          "y": "subject01",
          "yref": "y"
         },
         {
          "font": {
           "color": "#000000"
          },
          "showarrow": false,
          "text": "0",
          "x": "subject01",
          "xref": "x",
          "y": "subject02",
          "yref": "y"
         },
         {
          "font": {
           "color": "#FFFFFF"
          },
          "showarrow": false,
          "text": "2",
          "x": "subject02",
          "xref": "x",
          "y": "subject02",
          "yref": "y"
         },
         {
          "font": {
           "color": "#000000"
          },
          "showarrow": false,
          "text": "0",
          "x": "subject03",
          "xref": "x",
          "y": "subject02",
          "yref": "y"
         },
         {
          "font": {
           "color": "#000000"
          },
          "showarrow": false,
          "text": "0",
          "x": "subject04",
          "xref": "x",
          "y": "subject02",
          "yref": "y"
         },
         {
          "font": {
           "color": "#000000"
          },
          "showarrow": false,
          "text": "0",
          "x": "subject05",
          "xref": "x",
          "y": "subject02",
          "yref": "y"
         },
         {
          "font": {
           "color": "#000000"
          },
          "showarrow": false,
          "text": "0",
          "x": "subject06",
          "xref": "x",
          "y": "subject02",
          "yref": "y"
         },
         {
          "font": {
           "color": "#000000"
          },
          "showarrow": false,
          "text": "0",
          "x": "subject07",
          "xref": "x",
          "y": "subject02",
          "yref": "y"
         },
         {
          "font": {
           "color": "#000000"
          },
          "showarrow": false,
          "text": "0",
          "x": "subject08",
          "xref": "x",
          "y": "subject02",
          "yref": "y"
         },
         {
          "font": {
           "color": "#000000"
          },
          "showarrow": false,
          "text": "1",
          "x": "subject09",
          "xref": "x",
          "y": "subject02",
          "yref": "y"
         },
         {
          "font": {
           "color": "#000000"
          },
          "showarrow": false,
          "text": "0",
          "x": "subject10",
          "xref": "x",
          "y": "subject02",
          "yref": "y"
         },
         {
          "font": {
           "color": "#000000"
          },
          "showarrow": false,
          "text": "0",
          "x": "subject11",
          "xref": "x",
          "y": "subject02",
          "yref": "y"
         },
         {
          "font": {
           "color": "#000000"
          },
          "showarrow": false,
          "text": "0",
          "x": "subject12",
          "xref": "x",
          "y": "subject02",
          "yref": "y"
         },
         {
          "font": {
           "color": "#000000"
          },
          "showarrow": false,
          "text": "0",
          "x": "subject13",
          "xref": "x",
          "y": "subject02",
          "yref": "y"
         },
         {
          "font": {
           "color": "#000000"
          },
          "showarrow": false,
          "text": "0",
          "x": "subject14",
          "xref": "x",
          "y": "subject02",
          "yref": "y"
         },
         {
          "font": {
           "color": "#000000"
          },
          "showarrow": false,
          "text": "0",
          "x": "subject15",
          "xref": "x",
          "y": "subject02",
          "yref": "y"
         },
         {
          "font": {
           "color": "#000000"
          },
          "showarrow": false,
          "text": "0",
          "x": "subject01",
          "xref": "x",
          "y": "subject03",
          "yref": "y"
         },
         {
          "font": {
           "color": "#000000"
          },
          "showarrow": false,
          "text": "0",
          "x": "subject02",
          "xref": "x",
          "y": "subject03",
          "yref": "y"
         },
         {
          "font": {
           "color": "#FFFFFF"
          },
          "showarrow": false,
          "text": "3",
          "x": "subject03",
          "xref": "x",
          "y": "subject03",
          "yref": "y"
         },
         {
          "font": {
           "color": "#000000"
          },
          "showarrow": false,
          "text": "0",
          "x": "subject04",
          "xref": "x",
          "y": "subject03",
          "yref": "y"
         },
         {
          "font": {
           "color": "#000000"
          },
          "showarrow": false,
          "text": "0",
          "x": "subject05",
          "xref": "x",
          "y": "subject03",
          "yref": "y"
         },
         {
          "font": {
           "color": "#000000"
          },
          "showarrow": false,
          "text": "0",
          "x": "subject06",
          "xref": "x",
          "y": "subject03",
          "yref": "y"
         },
         {
          "font": {
           "color": "#000000"
          },
          "showarrow": false,
          "text": "0",
          "x": "subject07",
          "xref": "x",
          "y": "subject03",
          "yref": "y"
         },
         {
          "font": {
           "color": "#000000"
          },
          "showarrow": false,
          "text": "0",
          "x": "subject08",
          "xref": "x",
          "y": "subject03",
          "yref": "y"
         },
         {
          "font": {
           "color": "#000000"
          },
          "showarrow": false,
          "text": "0",
          "x": "subject09",
          "xref": "x",
          "y": "subject03",
          "yref": "y"
         },
         {
          "font": {
           "color": "#000000"
          },
          "showarrow": false,
          "text": "0",
          "x": "subject10",
          "xref": "x",
          "y": "subject03",
          "yref": "y"
         },
         {
          "font": {
           "color": "#000000"
          },
          "showarrow": false,
          "text": "0",
          "x": "subject11",
          "xref": "x",
          "y": "subject03",
          "yref": "y"
         },
         {
          "font": {
           "color": "#000000"
          },
          "showarrow": false,
          "text": "0",
          "x": "subject12",
          "xref": "x",
          "y": "subject03",
          "yref": "y"
         },
         {
          "font": {
           "color": "#000000"
          },
          "showarrow": false,
          "text": "0",
          "x": "subject13",
          "xref": "x",
          "y": "subject03",
          "yref": "y"
         },
         {
          "font": {
           "color": "#000000"
          },
          "showarrow": false,
          "text": "0",
          "x": "subject14",
          "xref": "x",
          "y": "subject03",
          "yref": "y"
         },
         {
          "font": {
           "color": "#000000"
          },
          "showarrow": false,
          "text": "0",
          "x": "subject15",
          "xref": "x",
          "y": "subject03",
          "yref": "y"
         },
         {
          "font": {
           "color": "#000000"
          },
          "showarrow": false,
          "text": "0",
          "x": "subject01",
          "xref": "x",
          "y": "subject04",
          "yref": "y"
         },
         {
          "font": {
           "color": "#000000"
          },
          "showarrow": false,
          "text": "0",
          "x": "subject02",
          "xref": "x",
          "y": "subject04",
          "yref": "y"
         },
         {
          "font": {
           "color": "#000000"
          },
          "showarrow": false,
          "text": "0",
          "x": "subject03",
          "xref": "x",
          "y": "subject04",
          "yref": "y"
         },
         {
          "font": {
           "color": "#FFFFFF"
          },
          "showarrow": false,
          "text": "3",
          "x": "subject04",
          "xref": "x",
          "y": "subject04",
          "yref": "y"
         },
         {
          "font": {
           "color": "#000000"
          },
          "showarrow": false,
          "text": "0",
          "x": "subject05",
          "xref": "x",
          "y": "subject04",
          "yref": "y"
         },
         {
          "font": {
           "color": "#000000"
          },
          "showarrow": false,
          "text": "0",
          "x": "subject06",
          "xref": "x",
          "y": "subject04",
          "yref": "y"
         },
         {
          "font": {
           "color": "#000000"
          },
          "showarrow": false,
          "text": "0",
          "x": "subject07",
          "xref": "x",
          "y": "subject04",
          "yref": "y"
         },
         {
          "font": {
           "color": "#000000"
          },
          "showarrow": false,
          "text": "0",
          "x": "subject08",
          "xref": "x",
          "y": "subject04",
          "yref": "y"
         },
         {
          "font": {
           "color": "#000000"
          },
          "showarrow": false,
          "text": "0",
          "x": "subject09",
          "xref": "x",
          "y": "subject04",
          "yref": "y"
         },
         {
          "font": {
           "color": "#000000"
          },
          "showarrow": false,
          "text": "0",
          "x": "subject10",
          "xref": "x",
          "y": "subject04",
          "yref": "y"
         },
         {
          "font": {
           "color": "#000000"
          },
          "showarrow": false,
          "text": "0",
          "x": "subject11",
          "xref": "x",
          "y": "subject04",
          "yref": "y"
         },
         {
          "font": {
           "color": "#000000"
          },
          "showarrow": false,
          "text": "0",
          "x": "subject12",
          "xref": "x",
          "y": "subject04",
          "yref": "y"
         },
         {
          "font": {
           "color": "#000000"
          },
          "showarrow": false,
          "text": "0",
          "x": "subject13",
          "xref": "x",
          "y": "subject04",
          "yref": "y"
         },
         {
          "font": {
           "color": "#000000"
          },
          "showarrow": false,
          "text": "0",
          "x": "subject14",
          "xref": "x",
          "y": "subject04",
          "yref": "y"
         },
         {
          "font": {
           "color": "#000000"
          },
          "showarrow": false,
          "text": "0",
          "x": "subject15",
          "xref": "x",
          "y": "subject04",
          "yref": "y"
         },
         {
          "font": {
           "color": "#000000"
          },
          "showarrow": false,
          "text": "0",
          "x": "subject01",
          "xref": "x",
          "y": "subject05",
          "yref": "y"
         },
         {
          "font": {
           "color": "#000000"
          },
          "showarrow": false,
          "text": "0",
          "x": "subject02",
          "xref": "x",
          "y": "subject05",
          "yref": "y"
         },
         {
          "font": {
           "color": "#000000"
          },
          "showarrow": false,
          "text": "0",
          "x": "subject03",
          "xref": "x",
          "y": "subject05",
          "yref": "y"
         },
         {
          "font": {
           "color": "#000000"
          },
          "showarrow": false,
          "text": "0",
          "x": "subject04",
          "xref": "x",
          "y": "subject05",
          "yref": "y"
         },
         {
          "font": {
           "color": "#FFFFFF"
          },
          "showarrow": false,
          "text": "2",
          "x": "subject05",
          "xref": "x",
          "y": "subject05",
          "yref": "y"
         },
         {
          "font": {
           "color": "#000000"
          },
          "showarrow": false,
          "text": "0",
          "x": "subject06",
          "xref": "x",
          "y": "subject05",
          "yref": "y"
         },
         {
          "font": {
           "color": "#000000"
          },
          "showarrow": false,
          "text": "0",
          "x": "subject07",
          "xref": "x",
          "y": "subject05",
          "yref": "y"
         },
         {
          "font": {
           "color": "#000000"
          },
          "showarrow": false,
          "text": "0",
          "x": "subject08",
          "xref": "x",
          "y": "subject05",
          "yref": "y"
         },
         {
          "font": {
           "color": "#000000"
          },
          "showarrow": false,
          "text": "1",
          "x": "subject09",
          "xref": "x",
          "y": "subject05",
          "yref": "y"
         },
         {
          "font": {
           "color": "#000000"
          },
          "showarrow": false,
          "text": "0",
          "x": "subject10",
          "xref": "x",
          "y": "subject05",
          "yref": "y"
         },
         {
          "font": {
           "color": "#000000"
          },
          "showarrow": false,
          "text": "0",
          "x": "subject11",
          "xref": "x",
          "y": "subject05",
          "yref": "y"
         },
         {
          "font": {
           "color": "#000000"
          },
          "showarrow": false,
          "text": "0",
          "x": "subject12",
          "xref": "x",
          "y": "subject05",
          "yref": "y"
         },
         {
          "font": {
           "color": "#000000"
          },
          "showarrow": false,
          "text": "0",
          "x": "subject13",
          "xref": "x",
          "y": "subject05",
          "yref": "y"
         },
         {
          "font": {
           "color": "#000000"
          },
          "showarrow": false,
          "text": "0",
          "x": "subject14",
          "xref": "x",
          "y": "subject05",
          "yref": "y"
         },
         {
          "font": {
           "color": "#000000"
          },
          "showarrow": false,
          "text": "0",
          "x": "subject15",
          "xref": "x",
          "y": "subject05",
          "yref": "y"
         },
         {
          "font": {
           "color": "#000000"
          },
          "showarrow": false,
          "text": "0",
          "x": "subject01",
          "xref": "x",
          "y": "subject06",
          "yref": "y"
         },
         {
          "font": {
           "color": "#000000"
          },
          "showarrow": false,
          "text": "0",
          "x": "subject02",
          "xref": "x",
          "y": "subject06",
          "yref": "y"
         },
         {
          "font": {
           "color": "#000000"
          },
          "showarrow": false,
          "text": "0",
          "x": "subject03",
          "xref": "x",
          "y": "subject06",
          "yref": "y"
         },
         {
          "font": {
           "color": "#000000"
          },
          "showarrow": false,
          "text": "0",
          "x": "subject04",
          "xref": "x",
          "y": "subject06",
          "yref": "y"
         },
         {
          "font": {
           "color": "#000000"
          },
          "showarrow": false,
          "text": "0",
          "x": "subject05",
          "xref": "x",
          "y": "subject06",
          "yref": "y"
         },
         {
          "font": {
           "color": "#FFFFFF"
          },
          "showarrow": false,
          "text": "3",
          "x": "subject06",
          "xref": "x",
          "y": "subject06",
          "yref": "y"
         },
         {
          "font": {
           "color": "#000000"
          },
          "showarrow": false,
          "text": "0",
          "x": "subject07",
          "xref": "x",
          "y": "subject06",
          "yref": "y"
         },
         {
          "font": {
           "color": "#000000"
          },
          "showarrow": false,
          "text": "0",
          "x": "subject08",
          "xref": "x",
          "y": "subject06",
          "yref": "y"
         },
         {
          "font": {
           "color": "#000000"
          },
          "showarrow": false,
          "text": "0",
          "x": "subject09",
          "xref": "x",
          "y": "subject06",
          "yref": "y"
         },
         {
          "font": {
           "color": "#000000"
          },
          "showarrow": false,
          "text": "0",
          "x": "subject10",
          "xref": "x",
          "y": "subject06",
          "yref": "y"
         },
         {
          "font": {
           "color": "#000000"
          },
          "showarrow": false,
          "text": "0",
          "x": "subject11",
          "xref": "x",
          "y": "subject06",
          "yref": "y"
         },
         {
          "font": {
           "color": "#000000"
          },
          "showarrow": false,
          "text": "0",
          "x": "subject12",
          "xref": "x",
          "y": "subject06",
          "yref": "y"
         },
         {
          "font": {
           "color": "#000000"
          },
          "showarrow": false,
          "text": "0",
          "x": "subject13",
          "xref": "x",
          "y": "subject06",
          "yref": "y"
         },
         {
          "font": {
           "color": "#000000"
          },
          "showarrow": false,
          "text": "0",
          "x": "subject14",
          "xref": "x",
          "y": "subject06",
          "yref": "y"
         },
         {
          "font": {
           "color": "#000000"
          },
          "showarrow": false,
          "text": "0",
          "x": "subject15",
          "xref": "x",
          "y": "subject06",
          "yref": "y"
         },
         {
          "font": {
           "color": "#000000"
          },
          "showarrow": false,
          "text": "0",
          "x": "subject01",
          "xref": "x",
          "y": "subject07",
          "yref": "y"
         },
         {
          "font": {
           "color": "#000000"
          },
          "showarrow": false,
          "text": "0",
          "x": "subject02",
          "xref": "x",
          "y": "subject07",
          "yref": "y"
         },
         {
          "font": {
           "color": "#000000"
          },
          "showarrow": false,
          "text": "0",
          "x": "subject03",
          "xref": "x",
          "y": "subject07",
          "yref": "y"
         },
         {
          "font": {
           "color": "#000000"
          },
          "showarrow": false,
          "text": "0",
          "x": "subject04",
          "xref": "x",
          "y": "subject07",
          "yref": "y"
         },
         {
          "font": {
           "color": "#000000"
          },
          "showarrow": false,
          "text": "0",
          "x": "subject05",
          "xref": "x",
          "y": "subject07",
          "yref": "y"
         },
         {
          "font": {
           "color": "#000000"
          },
          "showarrow": false,
          "text": "0",
          "x": "subject06",
          "xref": "x",
          "y": "subject07",
          "yref": "y"
         },
         {
          "font": {
           "color": "#000000"
          },
          "showarrow": false,
          "text": "1",
          "x": "subject07",
          "xref": "x",
          "y": "subject07",
          "yref": "y"
         },
         {
          "font": {
           "color": "#000000"
          },
          "showarrow": false,
          "text": "0",
          "x": "subject08",
          "xref": "x",
          "y": "subject07",
          "yref": "y"
         },
         {
          "font": {
           "color": "#000000"
          },
          "showarrow": false,
          "text": "1",
          "x": "subject09",
          "xref": "x",
          "y": "subject07",
          "yref": "y"
         },
         {
          "font": {
           "color": "#000000"
          },
          "showarrow": false,
          "text": "1",
          "x": "subject10",
          "xref": "x",
          "y": "subject07",
          "yref": "y"
         },
         {
          "font": {
           "color": "#000000"
          },
          "showarrow": false,
          "text": "0",
          "x": "subject11",
          "xref": "x",
          "y": "subject07",
          "yref": "y"
         },
         {
          "font": {
           "color": "#000000"
          },
          "showarrow": false,
          "text": "0",
          "x": "subject12",
          "xref": "x",
          "y": "subject07",
          "yref": "y"
         },
         {
          "font": {
           "color": "#000000"
          },
          "showarrow": false,
          "text": "0",
          "x": "subject13",
          "xref": "x",
          "y": "subject07",
          "yref": "y"
         },
         {
          "font": {
           "color": "#000000"
          },
          "showarrow": false,
          "text": "0",
          "x": "subject14",
          "xref": "x",
          "y": "subject07",
          "yref": "y"
         },
         {
          "font": {
           "color": "#000000"
          },
          "showarrow": false,
          "text": "0",
          "x": "subject15",
          "xref": "x",
          "y": "subject07",
          "yref": "y"
         },
         {
          "font": {
           "color": "#000000"
          },
          "showarrow": false,
          "text": "0",
          "x": "subject01",
          "xref": "x",
          "y": "subject08",
          "yref": "y"
         },
         {
          "font": {
           "color": "#000000"
          },
          "showarrow": false,
          "text": "0",
          "x": "subject02",
          "xref": "x",
          "y": "subject08",
          "yref": "y"
         },
         {
          "font": {
           "color": "#000000"
          },
          "showarrow": false,
          "text": "0",
          "x": "subject03",
          "xref": "x",
          "y": "subject08",
          "yref": "y"
         },
         {
          "font": {
           "color": "#000000"
          },
          "showarrow": false,
          "text": "0",
          "x": "subject04",
          "xref": "x",
          "y": "subject08",
          "yref": "y"
         },
         {
          "font": {
           "color": "#000000"
          },
          "showarrow": false,
          "text": "0",
          "x": "subject05",
          "xref": "x",
          "y": "subject08",
          "yref": "y"
         },
         {
          "font": {
           "color": "#000000"
          },
          "showarrow": false,
          "text": "0",
          "x": "subject06",
          "xref": "x",
          "y": "subject08",
          "yref": "y"
         },
         {
          "font": {
           "color": "#000000"
          },
          "showarrow": false,
          "text": "0",
          "x": "subject07",
          "xref": "x",
          "y": "subject08",
          "yref": "y"
         },
         {
          "font": {
           "color": "#000000"
          },
          "showarrow": false,
          "text": "1",
          "x": "subject08",
          "xref": "x",
          "y": "subject08",
          "yref": "y"
         },
         {
          "font": {
           "color": "#FFFFFF"
          },
          "showarrow": false,
          "text": "2",
          "x": "subject09",
          "xref": "x",
          "y": "subject08",
          "yref": "y"
         },
         {
          "font": {
           "color": "#000000"
          },
          "showarrow": false,
          "text": "0",
          "x": "subject10",
          "xref": "x",
          "y": "subject08",
          "yref": "y"
         },
         {
          "font": {
           "color": "#000000"
          },
          "showarrow": false,
          "text": "0",
          "x": "subject11",
          "xref": "x",
          "y": "subject08",
          "yref": "y"
         },
         {
          "font": {
           "color": "#000000"
          },
          "showarrow": false,
          "text": "0",
          "x": "subject12",
          "xref": "x",
          "y": "subject08",
          "yref": "y"
         },
         {
          "font": {
           "color": "#000000"
          },
          "showarrow": false,
          "text": "0",
          "x": "subject13",
          "xref": "x",
          "y": "subject08",
          "yref": "y"
         },
         {
          "font": {
           "color": "#000000"
          },
          "showarrow": false,
          "text": "0",
          "x": "subject14",
          "xref": "x",
          "y": "subject08",
          "yref": "y"
         },
         {
          "font": {
           "color": "#000000"
          },
          "showarrow": false,
          "text": "0",
          "x": "subject15",
          "xref": "x",
          "y": "subject08",
          "yref": "y"
         },
         {
          "font": {
           "color": "#000000"
          },
          "showarrow": false,
          "text": "0",
          "x": "subject01",
          "xref": "x",
          "y": "subject09",
          "yref": "y"
         },
         {
          "font": {
           "color": "#000000"
          },
          "showarrow": false,
          "text": "0",
          "x": "subject02",
          "xref": "x",
          "y": "subject09",
          "yref": "y"
         },
         {
          "font": {
           "color": "#000000"
          },
          "showarrow": false,
          "text": "0",
          "x": "subject03",
          "xref": "x",
          "y": "subject09",
          "yref": "y"
         },
         {
          "font": {
           "color": "#000000"
          },
          "showarrow": false,
          "text": "0",
          "x": "subject04",
          "xref": "x",
          "y": "subject09",
          "yref": "y"
         },
         {
          "font": {
           "color": "#000000"
          },
          "showarrow": false,
          "text": "0",
          "x": "subject05",
          "xref": "x",
          "y": "subject09",
          "yref": "y"
         },
         {
          "font": {
           "color": "#000000"
          },
          "showarrow": false,
          "text": "0",
          "x": "subject06",
          "xref": "x",
          "y": "subject09",
          "yref": "y"
         },
         {
          "font": {
           "color": "#000000"
          },
          "showarrow": false,
          "text": "0",
          "x": "subject07",
          "xref": "x",
          "y": "subject09",
          "yref": "y"
         },
         {
          "font": {
           "color": "#000000"
          },
          "showarrow": false,
          "text": "1",
          "x": "subject08",
          "xref": "x",
          "y": "subject09",
          "yref": "y"
         },
         {
          "font": {
           "color": "#FFFFFF"
          },
          "showarrow": false,
          "text": "2",
          "x": "subject09",
          "xref": "x",
          "y": "subject09",
          "yref": "y"
         },
         {
          "font": {
           "color": "#000000"
          },
          "showarrow": false,
          "text": "0",
          "x": "subject10",
          "xref": "x",
          "y": "subject09",
          "yref": "y"
         },
         {
          "font": {
           "color": "#000000"
          },
          "showarrow": false,
          "text": "0",
          "x": "subject11",
          "xref": "x",
          "y": "subject09",
          "yref": "y"
         },
         {
          "font": {
           "color": "#000000"
          },
          "showarrow": false,
          "text": "0",
          "x": "subject12",
          "xref": "x",
          "y": "subject09",
          "yref": "y"
         },
         {
          "font": {
           "color": "#000000"
          },
          "showarrow": false,
          "text": "0",
          "x": "subject13",
          "xref": "x",
          "y": "subject09",
          "yref": "y"
         },
         {
          "font": {
           "color": "#000000"
          },
          "showarrow": false,
          "text": "0",
          "x": "subject14",
          "xref": "x",
          "y": "subject09",
          "yref": "y"
         },
         {
          "font": {
           "color": "#000000"
          },
          "showarrow": false,
          "text": "0",
          "x": "subject15",
          "xref": "x",
          "y": "subject09",
          "yref": "y"
         },
         {
          "font": {
           "color": "#000000"
          },
          "showarrow": false,
          "text": "0",
          "x": "subject01",
          "xref": "x",
          "y": "subject10",
          "yref": "y"
         },
         {
          "font": {
           "color": "#000000"
          },
          "showarrow": false,
          "text": "0",
          "x": "subject02",
          "xref": "x",
          "y": "subject10",
          "yref": "y"
         },
         {
          "font": {
           "color": "#000000"
          },
          "showarrow": false,
          "text": "0",
          "x": "subject03",
          "xref": "x",
          "y": "subject10",
          "yref": "y"
         },
         {
          "font": {
           "color": "#000000"
          },
          "showarrow": false,
          "text": "0",
          "x": "subject04",
          "xref": "x",
          "y": "subject10",
          "yref": "y"
         },
         {
          "font": {
           "color": "#000000"
          },
          "showarrow": false,
          "text": "0",
          "x": "subject05",
          "xref": "x",
          "y": "subject10",
          "yref": "y"
         },
         {
          "font": {
           "color": "#000000"
          },
          "showarrow": false,
          "text": "0",
          "x": "subject06",
          "xref": "x",
          "y": "subject10",
          "yref": "y"
         },
         {
          "font": {
           "color": "#000000"
          },
          "showarrow": false,
          "text": "0",
          "x": "subject07",
          "xref": "x",
          "y": "subject10",
          "yref": "y"
         },
         {
          "font": {
           "color": "#000000"
          },
          "showarrow": false,
          "text": "0",
          "x": "subject08",
          "xref": "x",
          "y": "subject10",
          "yref": "y"
         },
         {
          "font": {
           "color": "#000000"
          },
          "showarrow": false,
          "text": "0",
          "x": "subject09",
          "xref": "x",
          "y": "subject10",
          "yref": "y"
         },
         {
          "font": {
           "color": "#FFFFFF"
          },
          "showarrow": false,
          "text": "3",
          "x": "subject10",
          "xref": "x",
          "y": "subject10",
          "yref": "y"
         },
         {
          "font": {
           "color": "#000000"
          },
          "showarrow": false,
          "text": "0",
          "x": "subject11",
          "xref": "x",
          "y": "subject10",
          "yref": "y"
         },
         {
          "font": {
           "color": "#000000"
          },
          "showarrow": false,
          "text": "0",
          "x": "subject12",
          "xref": "x",
          "y": "subject10",
          "yref": "y"
         },
         {
          "font": {
           "color": "#000000"
          },
          "showarrow": false,
          "text": "0",
          "x": "subject13",
          "xref": "x",
          "y": "subject10",
          "yref": "y"
         },
         {
          "font": {
           "color": "#000000"
          },
          "showarrow": false,
          "text": "0",
          "x": "subject14",
          "xref": "x",
          "y": "subject10",
          "yref": "y"
         },
         {
          "font": {
           "color": "#000000"
          },
          "showarrow": false,
          "text": "0",
          "x": "subject15",
          "xref": "x",
          "y": "subject10",
          "yref": "y"
         },
         {
          "font": {
           "color": "#000000"
          },
          "showarrow": false,
          "text": "0",
          "x": "subject01",
          "xref": "x",
          "y": "subject11",
          "yref": "y"
         },
         {
          "font": {
           "color": "#000000"
          },
          "showarrow": false,
          "text": "0",
          "x": "subject02",
          "xref": "x",
          "y": "subject11",
          "yref": "y"
         },
         {
          "font": {
           "color": "#000000"
          },
          "showarrow": false,
          "text": "0",
          "x": "subject03",
          "xref": "x",
          "y": "subject11",
          "yref": "y"
         },
         {
          "font": {
           "color": "#000000"
          },
          "showarrow": false,
          "text": "0",
          "x": "subject04",
          "xref": "x",
          "y": "subject11",
          "yref": "y"
         },
         {
          "font": {
           "color": "#000000"
          },
          "showarrow": false,
          "text": "0",
          "x": "subject05",
          "xref": "x",
          "y": "subject11",
          "yref": "y"
         },
         {
          "font": {
           "color": "#000000"
          },
          "showarrow": false,
          "text": "0",
          "x": "subject06",
          "xref": "x",
          "y": "subject11",
          "yref": "y"
         },
         {
          "font": {
           "color": "#000000"
          },
          "showarrow": false,
          "text": "0",
          "x": "subject07",
          "xref": "x",
          "y": "subject11",
          "yref": "y"
         },
         {
          "font": {
           "color": "#000000"
          },
          "showarrow": false,
          "text": "0",
          "x": "subject08",
          "xref": "x",
          "y": "subject11",
          "yref": "y"
         },
         {
          "font": {
           "color": "#000000"
          },
          "showarrow": false,
          "text": "0",
          "x": "subject09",
          "xref": "x",
          "y": "subject11",
          "yref": "y"
         },
         {
          "font": {
           "color": "#000000"
          },
          "showarrow": false,
          "text": "0",
          "x": "subject10",
          "xref": "x",
          "y": "subject11",
          "yref": "y"
         },
         {
          "font": {
           "color": "#FFFFFF"
          },
          "showarrow": false,
          "text": "3",
          "x": "subject11",
          "xref": "x",
          "y": "subject11",
          "yref": "y"
         },
         {
          "font": {
           "color": "#000000"
          },
          "showarrow": false,
          "text": "0",
          "x": "subject12",
          "xref": "x",
          "y": "subject11",
          "yref": "y"
         },
         {
          "font": {
           "color": "#000000"
          },
          "showarrow": false,
          "text": "0",
          "x": "subject13",
          "xref": "x",
          "y": "subject11",
          "yref": "y"
         },
         {
          "font": {
           "color": "#000000"
          },
          "showarrow": false,
          "text": "0",
          "x": "subject14",
          "xref": "x",
          "y": "subject11",
          "yref": "y"
         },
         {
          "font": {
           "color": "#000000"
          },
          "showarrow": false,
          "text": "0",
          "x": "subject15",
          "xref": "x",
          "y": "subject11",
          "yref": "y"
         },
         {
          "font": {
           "color": "#000000"
          },
          "showarrow": false,
          "text": "0",
          "x": "subject01",
          "xref": "x",
          "y": "subject12",
          "yref": "y"
         },
         {
          "font": {
           "color": "#000000"
          },
          "showarrow": false,
          "text": "0",
          "x": "subject02",
          "xref": "x",
          "y": "subject12",
          "yref": "y"
         },
         {
          "font": {
           "color": "#000000"
          },
          "showarrow": false,
          "text": "0",
          "x": "subject03",
          "xref": "x",
          "y": "subject12",
          "yref": "y"
         },
         {
          "font": {
           "color": "#000000"
          },
          "showarrow": false,
          "text": "0",
          "x": "subject04",
          "xref": "x",
          "y": "subject12",
          "yref": "y"
         },
         {
          "font": {
           "color": "#000000"
          },
          "showarrow": false,
          "text": "0",
          "x": "subject05",
          "xref": "x",
          "y": "subject12",
          "yref": "y"
         },
         {
          "font": {
           "color": "#000000"
          },
          "showarrow": false,
          "text": "0",
          "x": "subject06",
          "xref": "x",
          "y": "subject12",
          "yref": "y"
         },
         {
          "font": {
           "color": "#000000"
          },
          "showarrow": false,
          "text": "0",
          "x": "subject07",
          "xref": "x",
          "y": "subject12",
          "yref": "y"
         },
         {
          "font": {
           "color": "#000000"
          },
          "showarrow": false,
          "text": "0",
          "x": "subject08",
          "xref": "x",
          "y": "subject12",
          "yref": "y"
         },
         {
          "font": {
           "color": "#000000"
          },
          "showarrow": false,
          "text": "0",
          "x": "subject09",
          "xref": "x",
          "y": "subject12",
          "yref": "y"
         },
         {
          "font": {
           "color": "#000000"
          },
          "showarrow": false,
          "text": "0",
          "x": "subject10",
          "xref": "x",
          "y": "subject12",
          "yref": "y"
         },
         {
          "font": {
           "color": "#000000"
          },
          "showarrow": false,
          "text": "0",
          "x": "subject11",
          "xref": "x",
          "y": "subject12",
          "yref": "y"
         },
         {
          "font": {
           "color": "#FFFFFF"
          },
          "showarrow": false,
          "text": "3",
          "x": "subject12",
          "xref": "x",
          "y": "subject12",
          "yref": "y"
         },
         {
          "font": {
           "color": "#000000"
          },
          "showarrow": false,
          "text": "0",
          "x": "subject13",
          "xref": "x",
          "y": "subject12",
          "yref": "y"
         },
         {
          "font": {
           "color": "#000000"
          },
          "showarrow": false,
          "text": "0",
          "x": "subject14",
          "xref": "x",
          "y": "subject12",
          "yref": "y"
         },
         {
          "font": {
           "color": "#000000"
          },
          "showarrow": false,
          "text": "0",
          "x": "subject15",
          "xref": "x",
          "y": "subject12",
          "yref": "y"
         },
         {
          "font": {
           "color": "#000000"
          },
          "showarrow": false,
          "text": "0",
          "x": "subject01",
          "xref": "x",
          "y": "subject13",
          "yref": "y"
         },
         {
          "font": {
           "color": "#000000"
          },
          "showarrow": false,
          "text": "0",
          "x": "subject02",
          "xref": "x",
          "y": "subject13",
          "yref": "y"
         },
         {
          "font": {
           "color": "#000000"
          },
          "showarrow": false,
          "text": "0",
          "x": "subject03",
          "xref": "x",
          "y": "subject13",
          "yref": "y"
         },
         {
          "font": {
           "color": "#000000"
          },
          "showarrow": false,
          "text": "0",
          "x": "subject04",
          "xref": "x",
          "y": "subject13",
          "yref": "y"
         },
         {
          "font": {
           "color": "#000000"
          },
          "showarrow": false,
          "text": "0",
          "x": "subject05",
          "xref": "x",
          "y": "subject13",
          "yref": "y"
         },
         {
          "font": {
           "color": "#000000"
          },
          "showarrow": false,
          "text": "0",
          "x": "subject06",
          "xref": "x",
          "y": "subject13",
          "yref": "y"
         },
         {
          "font": {
           "color": "#000000"
          },
          "showarrow": false,
          "text": "0",
          "x": "subject07",
          "xref": "x",
          "y": "subject13",
          "yref": "y"
         },
         {
          "font": {
           "color": "#000000"
          },
          "showarrow": false,
          "text": "0",
          "x": "subject08",
          "xref": "x",
          "y": "subject13",
          "yref": "y"
         },
         {
          "font": {
           "color": "#000000"
          },
          "showarrow": false,
          "text": "0",
          "x": "subject09",
          "xref": "x",
          "y": "subject13",
          "yref": "y"
         },
         {
          "font": {
           "color": "#000000"
          },
          "showarrow": false,
          "text": "0",
          "x": "subject10",
          "xref": "x",
          "y": "subject13",
          "yref": "y"
         },
         {
          "font": {
           "color": "#000000"
          },
          "showarrow": false,
          "text": "0",
          "x": "subject11",
          "xref": "x",
          "y": "subject13",
          "yref": "y"
         },
         {
          "font": {
           "color": "#000000"
          },
          "showarrow": false,
          "text": "0",
          "x": "subject12",
          "xref": "x",
          "y": "subject13",
          "yref": "y"
         },
         {
          "font": {
           "color": "#FFFFFF"
          },
          "showarrow": false,
          "text": "3",
          "x": "subject13",
          "xref": "x",
          "y": "subject13",
          "yref": "y"
         },
         {
          "font": {
           "color": "#000000"
          },
          "showarrow": false,
          "text": "0",
          "x": "subject14",
          "xref": "x",
          "y": "subject13",
          "yref": "y"
         },
         {
          "font": {
           "color": "#000000"
          },
          "showarrow": false,
          "text": "0",
          "x": "subject15",
          "xref": "x",
          "y": "subject13",
          "yref": "y"
         },
         {
          "font": {
           "color": "#000000"
          },
          "showarrow": false,
          "text": "0",
          "x": "subject01",
          "xref": "x",
          "y": "subject14",
          "yref": "y"
         },
         {
          "font": {
           "color": "#000000"
          },
          "showarrow": false,
          "text": "0",
          "x": "subject02",
          "xref": "x",
          "y": "subject14",
          "yref": "y"
         },
         {
          "font": {
           "color": "#000000"
          },
          "showarrow": false,
          "text": "0",
          "x": "subject03",
          "xref": "x",
          "y": "subject14",
          "yref": "y"
         },
         {
          "font": {
           "color": "#000000"
          },
          "showarrow": false,
          "text": "0",
          "x": "subject04",
          "xref": "x",
          "y": "subject14",
          "yref": "y"
         },
         {
          "font": {
           "color": "#000000"
          },
          "showarrow": false,
          "text": "0",
          "x": "subject05",
          "xref": "x",
          "y": "subject14",
          "yref": "y"
         },
         {
          "font": {
           "color": "#000000"
          },
          "showarrow": false,
          "text": "0",
          "x": "subject06",
          "xref": "x",
          "y": "subject14",
          "yref": "y"
         },
         {
          "font": {
           "color": "#000000"
          },
          "showarrow": false,
          "text": "0",
          "x": "subject07",
          "xref": "x",
          "y": "subject14",
          "yref": "y"
         },
         {
          "font": {
           "color": "#000000"
          },
          "showarrow": false,
          "text": "0",
          "x": "subject08",
          "xref": "x",
          "y": "subject14",
          "yref": "y"
         },
         {
          "font": {
           "color": "#000000"
          },
          "showarrow": false,
          "text": "1",
          "x": "subject09",
          "xref": "x",
          "y": "subject14",
          "yref": "y"
         },
         {
          "font": {
           "color": "#000000"
          },
          "showarrow": false,
          "text": "0",
          "x": "subject10",
          "xref": "x",
          "y": "subject14",
          "yref": "y"
         },
         {
          "font": {
           "color": "#000000"
          },
          "showarrow": false,
          "text": "0",
          "x": "subject11",
          "xref": "x",
          "y": "subject14",
          "yref": "y"
         },
         {
          "font": {
           "color": "#000000"
          },
          "showarrow": false,
          "text": "0",
          "x": "subject12",
          "xref": "x",
          "y": "subject14",
          "yref": "y"
         },
         {
          "font": {
           "color": "#000000"
          },
          "showarrow": false,
          "text": "0",
          "x": "subject13",
          "xref": "x",
          "y": "subject14",
          "yref": "y"
         },
         {
          "font": {
           "color": "#FFFFFF"
          },
          "showarrow": false,
          "text": "2",
          "x": "subject14",
          "xref": "x",
          "y": "subject14",
          "yref": "y"
         },
         {
          "font": {
           "color": "#000000"
          },
          "showarrow": false,
          "text": "0",
          "x": "subject15",
          "xref": "x",
          "y": "subject14",
          "yref": "y"
         },
         {
          "font": {
           "color": "#000000"
          },
          "showarrow": false,
          "text": "0",
          "x": "subject01",
          "xref": "x",
          "y": "subject15",
          "yref": "y"
         },
         {
          "font": {
           "color": "#000000"
          },
          "showarrow": false,
          "text": "0",
          "x": "subject02",
          "xref": "x",
          "y": "subject15",
          "yref": "y"
         },
         {
          "font": {
           "color": "#000000"
          },
          "showarrow": false,
          "text": "0",
          "x": "subject03",
          "xref": "x",
          "y": "subject15",
          "yref": "y"
         },
         {
          "font": {
           "color": "#000000"
          },
          "showarrow": false,
          "text": "0",
          "x": "subject04",
          "xref": "x",
          "y": "subject15",
          "yref": "y"
         },
         {
          "font": {
           "color": "#000000"
          },
          "showarrow": false,
          "text": "0",
          "x": "subject05",
          "xref": "x",
          "y": "subject15",
          "yref": "y"
         },
         {
          "font": {
           "color": "#000000"
          },
          "showarrow": false,
          "text": "0",
          "x": "subject06",
          "xref": "x",
          "y": "subject15",
          "yref": "y"
         },
         {
          "font": {
           "color": "#000000"
          },
          "showarrow": false,
          "text": "0",
          "x": "subject07",
          "xref": "x",
          "y": "subject15",
          "yref": "y"
         },
         {
          "font": {
           "color": "#000000"
          },
          "showarrow": false,
          "text": "1",
          "x": "subject08",
          "xref": "x",
          "y": "subject15",
          "yref": "y"
         },
         {
          "font": {
           "color": "#000000"
          },
          "showarrow": false,
          "text": "0",
          "x": "subject09",
          "xref": "x",
          "y": "subject15",
          "yref": "y"
         },
         {
          "font": {
           "color": "#000000"
          },
          "showarrow": false,
          "text": "0",
          "x": "subject10",
          "xref": "x",
          "y": "subject15",
          "yref": "y"
         },
         {
          "font": {
           "color": "#000000"
          },
          "showarrow": false,
          "text": "0",
          "x": "subject11",
          "xref": "x",
          "y": "subject15",
          "yref": "y"
         },
         {
          "font": {
           "color": "#000000"
          },
          "showarrow": false,
          "text": "0",
          "x": "subject12",
          "xref": "x",
          "y": "subject15",
          "yref": "y"
         },
         {
          "font": {
           "color": "#000000"
          },
          "showarrow": false,
          "text": "0",
          "x": "subject13",
          "xref": "x",
          "y": "subject15",
          "yref": "y"
         },
         {
          "font": {
           "color": "#000000"
          },
          "showarrow": false,
          "text": "0",
          "x": "subject14",
          "xref": "x",
          "y": "subject15",
          "yref": "y"
         },
         {
          "font": {
           "color": "#FFFFFF"
          },
          "showarrow": false,
          "text": "2",
          "x": "subject15",
          "xref": "x",
          "y": "subject15",
          "yref": "y"
         }
        ],
        "autosize": false,
        "height": 650,
        "template": {
         "data": {
          "bar": [
           {
            "error_x": {
             "color": "#2a3f5f"
            },
            "error_y": {
             "color": "#2a3f5f"
            },
            "marker": {
             "line": {
              "color": "#E5ECF6",
              "width": 0.5
             },
             "pattern": {
              "fillmode": "overlay",
              "size": 10,
              "solidity": 0.2
             }
            },
            "type": "bar"
           }
          ],
          "barpolar": [
           {
            "marker": {
             "line": {
              "color": "#E5ECF6",
              "width": 0.5
             },
             "pattern": {
              "fillmode": "overlay",
              "size": 10,
              "solidity": 0.2
             }
            },
            "type": "barpolar"
           }
          ],
          "carpet": [
           {
            "aaxis": {
             "endlinecolor": "#2a3f5f",
             "gridcolor": "white",
             "linecolor": "white",
             "minorgridcolor": "white",
             "startlinecolor": "#2a3f5f"
            },
            "baxis": {
             "endlinecolor": "#2a3f5f",
             "gridcolor": "white",
             "linecolor": "white",
             "minorgridcolor": "white",
             "startlinecolor": "#2a3f5f"
            },
            "type": "carpet"
           }
          ],
          "choropleth": [
           {
            "colorbar": {
             "outlinewidth": 0,
             "ticks": ""
            },
            "type": "choropleth"
           }
          ],
          "contour": [
           {
            "colorbar": {
             "outlinewidth": 0,
             "ticks": ""
            },
            "colorscale": [
             [
              0,
              "#0d0887"
             ],
             [
              0.1111111111111111,
              "#46039f"
             ],
             [
              0.2222222222222222,
              "#7201a8"
             ],
             [
              0.3333333333333333,
              "#9c179e"
             ],
             [
              0.4444444444444444,
              "#bd3786"
             ],
             [
              0.5555555555555556,
              "#d8576b"
             ],
             [
              0.6666666666666666,
              "#ed7953"
             ],
             [
              0.7777777777777778,
              "#fb9f3a"
             ],
             [
              0.8888888888888888,
              "#fdca26"
             ],
             [
              1,
              "#f0f921"
             ]
            ],
            "type": "contour"
           }
          ],
          "contourcarpet": [
           {
            "colorbar": {
             "outlinewidth": 0,
             "ticks": ""
            },
            "type": "contourcarpet"
           }
          ],
          "heatmap": [
           {
            "colorbar": {
             "outlinewidth": 0,
             "ticks": ""
            },
            "colorscale": [
             [
              0,
              "#0d0887"
             ],
             [
              0.1111111111111111,
              "#46039f"
             ],
             [
              0.2222222222222222,
              "#7201a8"
             ],
             [
              0.3333333333333333,
              "#9c179e"
             ],
             [
              0.4444444444444444,
              "#bd3786"
             ],
             [
              0.5555555555555556,
              "#d8576b"
             ],
             [
              0.6666666666666666,
              "#ed7953"
             ],
             [
              0.7777777777777778,
              "#fb9f3a"
             ],
             [
              0.8888888888888888,
              "#fdca26"
             ],
             [
              1,
              "#f0f921"
             ]
            ],
            "type": "heatmap"
           }
          ],
          "histogram": [
           {
            "marker": {
             "pattern": {
              "fillmode": "overlay",
              "size": 10,
              "solidity": 0.2
             }
            },
            "type": "histogram"
           }
          ],
          "histogram2d": [
           {
            "colorbar": {
             "outlinewidth": 0,
             "ticks": ""
            },
            "colorscale": [
             [
              0,
              "#0d0887"
             ],
             [
              0.1111111111111111,
              "#46039f"
             ],
             [
              0.2222222222222222,
              "#7201a8"
             ],
             [
              0.3333333333333333,
              "#9c179e"
             ],
             [
              0.4444444444444444,
              "#bd3786"
             ],
             [
              0.5555555555555556,
              "#d8576b"
             ],
             [
              0.6666666666666666,
              "#ed7953"
             ],
             [
              0.7777777777777778,
              "#fb9f3a"
             ],
             [
              0.8888888888888888,
              "#fdca26"
             ],
             [
              1,
              "#f0f921"
             ]
            ],
            "type": "histogram2d"
           }
          ],
          "histogram2dcontour": [
           {
            "colorbar": {
             "outlinewidth": 0,
             "ticks": ""
            },
            "colorscale": [
             [
              0,
              "#0d0887"
             ],
             [
              0.1111111111111111,
              "#46039f"
             ],
             [
              0.2222222222222222,
              "#7201a8"
             ],
             [
              0.3333333333333333,
              "#9c179e"
             ],
             [
              0.4444444444444444,
              "#bd3786"
             ],
             [
              0.5555555555555556,
              "#d8576b"
             ],
             [
              0.6666666666666666,
              "#ed7953"
             ],
             [
              0.7777777777777778,
              "#fb9f3a"
             ],
             [
              0.8888888888888888,
              "#fdca26"
             ],
             [
              1,
              "#f0f921"
             ]
            ],
            "type": "histogram2dcontour"
           }
          ],
          "mesh3d": [
           {
            "colorbar": {
             "outlinewidth": 0,
             "ticks": ""
            },
            "type": "mesh3d"
           }
          ],
          "parcoords": [
           {
            "line": {
             "colorbar": {
              "outlinewidth": 0,
              "ticks": ""
             }
            },
            "type": "parcoords"
           }
          ],
          "pie": [
           {
            "automargin": true,
            "type": "pie"
           }
          ],
          "scatter": [
           {
            "fillpattern": {
             "fillmode": "overlay",
             "size": 10,
             "solidity": 0.2
            },
            "type": "scatter"
           }
          ],
          "scatter3d": [
           {
            "line": {
             "colorbar": {
              "outlinewidth": 0,
              "ticks": ""
             }
            },
            "marker": {
             "colorbar": {
              "outlinewidth": 0,
              "ticks": ""
             }
            },
            "type": "scatter3d"
           }
          ],
          "scattercarpet": [
           {
            "marker": {
             "colorbar": {
              "outlinewidth": 0,
              "ticks": ""
             }
            },
            "type": "scattercarpet"
           }
          ],
          "scattergeo": [
           {
            "marker": {
             "colorbar": {
              "outlinewidth": 0,
              "ticks": ""
             }
            },
            "type": "scattergeo"
           }
          ],
          "scattergl": [
           {
            "marker": {
             "colorbar": {
              "outlinewidth": 0,
              "ticks": ""
             }
            },
            "type": "scattergl"
           }
          ],
          "scattermap": [
           {
            "marker": {
             "colorbar": {
              "outlinewidth": 0,
              "ticks": ""
             }
            },
            "type": "scattermap"
           }
          ],
          "scattermapbox": [
           {
            "marker": {
             "colorbar": {
              "outlinewidth": 0,
              "ticks": ""
             }
            },
            "type": "scattermapbox"
           }
          ],
          "scatterpolar": [
           {
            "marker": {
             "colorbar": {
              "outlinewidth": 0,
              "ticks": ""
             }
            },
            "type": "scatterpolar"
           }
          ],
          "scatterpolargl": [
           {
            "marker": {
             "colorbar": {
              "outlinewidth": 0,
              "ticks": ""
             }
            },
            "type": "scatterpolargl"
           }
          ],
          "scatterternary": [
           {
            "marker": {
             "colorbar": {
              "outlinewidth": 0,
              "ticks": ""
             }
            },
            "type": "scatterternary"
           }
          ],
          "surface": [
           {
            "colorbar": {
             "outlinewidth": 0,
             "ticks": ""
            },
            "colorscale": [
             [
              0,
              "#0d0887"
             ],
             [
              0.1111111111111111,
              "#46039f"
             ],
             [
              0.2222222222222222,
              "#7201a8"
             ],
             [
              0.3333333333333333,
              "#9c179e"
             ],
             [
              0.4444444444444444,
              "#bd3786"
             ],
             [
              0.5555555555555556,
              "#d8576b"
             ],
             [
              0.6666666666666666,
              "#ed7953"
             ],
             [
              0.7777777777777778,
              "#fb9f3a"
             ],
             [
              0.8888888888888888,
              "#fdca26"
             ],
             [
              1,
              "#f0f921"
             ]
            ],
            "type": "surface"
           }
          ],
          "table": [
           {
            "cells": {
             "fill": {
              "color": "#EBF0F8"
             },
             "line": {
              "color": "white"
             }
            },
            "header": {
             "fill": {
              "color": "#C8D4E3"
             },
             "line": {
              "color": "white"
             }
            },
            "type": "table"
           }
          ]
         },
         "layout": {
          "annotationdefaults": {
           "arrowcolor": "#2a3f5f",
           "arrowhead": 0,
           "arrowwidth": 1
          },
          "autotypenumbers": "strict",
          "coloraxis": {
           "colorbar": {
            "outlinewidth": 0,
            "ticks": ""
           }
          },
          "colorscale": {
           "diverging": [
            [
             0,
             "#8e0152"
            ],
            [
             0.1,
             "#c51b7d"
            ],
            [
             0.2,
             "#de77ae"
            ],
            [
             0.3,
             "#f1b6da"
            ],
            [
             0.4,
             "#fde0ef"
            ],
            [
             0.5,
             "#f7f7f7"
            ],
            [
             0.6,
             "#e6f5d0"
            ],
            [
             0.7,
             "#b8e186"
            ],
            [
             0.8,
             "#7fbc41"
            ],
            [
             0.9,
             "#4d9221"
            ],
            [
             1,
             "#276419"
            ]
           ],
           "sequential": [
            [
             0,
             "#0d0887"
            ],
            [
             0.1111111111111111,
             "#46039f"
            ],
            [
             0.2222222222222222,
             "#7201a8"
            ],
            [
             0.3333333333333333,
             "#9c179e"
            ],
            [
             0.4444444444444444,
             "#bd3786"
            ],
            [
             0.5555555555555556,
             "#d8576b"
            ],
            [
             0.6666666666666666,
             "#ed7953"
            ],
            [
             0.7777777777777778,
             "#fb9f3a"
            ],
            [
             0.8888888888888888,
             "#fdca26"
            ],
            [
             1,
             "#f0f921"
            ]
           ],
           "sequentialminus": [
            [
             0,
             "#0d0887"
            ],
            [
             0.1111111111111111,
             "#46039f"
            ],
            [
             0.2222222222222222,
             "#7201a8"
            ],
            [
             0.3333333333333333,
             "#9c179e"
            ],
            [
             0.4444444444444444,
             "#bd3786"
            ],
            [
             0.5555555555555556,
             "#d8576b"
            ],
            [
             0.6666666666666666,
             "#ed7953"
            ],
            [
             0.7777777777777778,
             "#fb9f3a"
            ],
            [
             0.8888888888888888,
             "#fdca26"
            ],
            [
             1,
             "#f0f921"
            ]
           ]
          },
          "colorway": [
           "#636efa",
           "#EF553B",
           "#00cc96",
           "#ab63fa",
           "#FFA15A",
           "#19d3f3",
           "#FF6692",
           "#B6E880",
           "#FF97FF",
           "#FECB52"
          ],
          "font": {
           "color": "#2a3f5f"
          },
          "geo": {
           "bgcolor": "white",
           "lakecolor": "white",
           "landcolor": "#E5ECF6",
           "showlakes": true,
           "showland": true,
           "subunitcolor": "white"
          },
          "hoverlabel": {
           "align": "left"
          },
          "hovermode": "closest",
          "mapbox": {
           "style": "light"
          },
          "paper_bgcolor": "white",
          "plot_bgcolor": "#E5ECF6",
          "polar": {
           "angularaxis": {
            "gridcolor": "white",
            "linecolor": "white",
            "ticks": ""
           },
           "bgcolor": "#E5ECF6",
           "radialaxis": {
            "gridcolor": "white",
            "linecolor": "white",
            "ticks": ""
           }
          },
          "scene": {
           "xaxis": {
            "backgroundcolor": "#E5ECF6",
            "gridcolor": "white",
            "gridwidth": 2,
            "linecolor": "white",
            "showbackground": true,
            "ticks": "",
            "zerolinecolor": "white"
           },
           "yaxis": {
            "backgroundcolor": "#E5ECF6",
            "gridcolor": "white",
            "gridwidth": 2,
            "linecolor": "white",
            "showbackground": true,
            "ticks": "",
            "zerolinecolor": "white"
           },
           "zaxis": {
            "backgroundcolor": "#E5ECF6",
            "gridcolor": "white",
            "gridwidth": 2,
            "linecolor": "white",
            "showbackground": true,
            "ticks": "",
            "zerolinecolor": "white"
           }
          },
          "shapedefaults": {
           "line": {
            "color": "#2a3f5f"
           }
          },
          "ternary": {
           "aaxis": {
            "gridcolor": "white",
            "linecolor": "white",
            "ticks": ""
           },
           "baxis": {
            "gridcolor": "white",
            "linecolor": "white",
            "ticks": ""
           },
           "bgcolor": "#E5ECF6",
           "caxis": {
            "gridcolor": "white",
            "linecolor": "white",
            "ticks": ""
           }
          },
          "title": {
           "x": 0.05
          },
          "xaxis": {
           "automargin": true,
           "gridcolor": "white",
           "linecolor": "white",
           "ticks": "",
           "title": {
            "standoff": 15
           },
           "zerolinecolor": "white",
           "zerolinewidth": 2
          },
          "yaxis": {
           "automargin": true,
           "gridcolor": "white",
           "linecolor": "white",
           "ticks": "",
           "title": {
            "standoff": 15
           },
           "zerolinecolor": "white",
           "zerolinewidth": 2
          }
         }
        },
        "title": {
         "text": "Confusion Matrix for KNN Classification (k = 4)<br>Total missclassified Images: 10",
         "x": 0.5,
         "xanchor": "center",
         "y": 0.925,
         "yanchor": "top"
        },
        "width": 900,
        "xaxis": {
         "dtick": 1,
         "gridcolor": "rgb(0, 0, 0)",
         "side": "bottom",
         "ticks": "",
         "title": {
          "text": "Predicted Labels"
         }
        },
        "yaxis": {
         "dtick": 1,
         "ticks": "",
         "ticksuffix": "  ",
         "title": {
          "text": "True Labels"
         }
        }
       }
      }
     },
     "metadata": {},
     "output_type": "display_data"
    }
   ],
   "source": [
    "from functions.knn import knn_classifier\n",
    "\n",
    "k = 4 # Number of neighbors to consider\n",
    "predictions = knn_classifier(train_reduced, train_labels, test_reduced, test_labels, k)\n",
    "\n",
    "# Here is a simple example of calculating accuracy:\n",
    "# test_labels is only needed for evaluating the model\n",
    "# therefore we check if it exists in the global scope (dictionary of all variables)\n",
    "\n",
    "# Convert them to NumPy arrays if they aren’t already:\n",
    "true_labels = np.array(test_labels)\n",
    "pred_labels = np.array(predictions)\n",
    "\n",
    "# Compute the confusion matrix. It will have shape (n_classes, n_classes).\n",
    "cm = confusion_matrix(true_labels, pred_labels)\n",
    "\n",
    "# Optional: Determine the unique class labels for better tick labeling.\n",
    "classes = np.unique(np.concatenate((true_labels, pred_labels)))\n",
    "\n",
    "# plt.figure(figsize=(8, 6))\n",
    "# sns.heatmap(cm, annot=True, fmt='d', cmap='Blues',\n",
    "#            xticklabels=classes, yticklabels=classes, cbar=False)\n",
    "# plt.xlabel('Predicted Labels')\n",
    "# plt.ylabel('True Labels')\n",
    "# plt.title(f\"Confusion Matrix for KNN Classification (k = {k})\")\n",
    "# plt.show()\n",
    "\n",
    "\n",
    "# Create annotation text\n",
    "annotations = [[str(cm[i][j]) for j in range(len(classes))] for i in range(len(classes))]\n",
    "\n",
    "# Compute false annotations (misclassified entries)\n",
    "false_annotations = np.sum(cm) - np.trace(cm)  # Sum of non-diagonal entries\n",
    "\n",
    "# Compute missing annotations (count where diagonal != 3)\n",
    "# expected_value = 3  # Expected value on the diagonal\n",
    "# missing_annotations = np.sum(cm.diagonal() != expected_value)\n",
    "\n",
    "# Generate heatmap using Plotly\n",
    "fig = ff.create_annotated_heatmap(z=cm, x=classes.tolist(), y=classes.tolist(), \n",
    "                                  annotation_text=annotations, colorscale='Blues')\n",
    "# Set labels\n",
    "fig.update_layout(title={\n",
    "        \"text\": f\"Confusion Matrix for KNN Classification (k = {k})<br>\"\n",
    "        f\"Total missclassified Images: {false_annotations}\",\n",
    "        \"y\": 0.925,  # Adjust the vertical position (higher value moves it further up)\n",
    "        \"x\": 0.5,   # Keep it centered\n",
    "        \"xanchor\": \"center\",\n",
    "        \"yanchor\": \"top\"},\n",
    "    xaxis_title=\"Predicted Labels\", \n",
    "    yaxis_title=\"True Labels\",\n",
    "    autosize=False, width=900, height=650,\n",
    "    xaxis=dict(side=\"bottom\")\n",
    ")\n",
    "fig.show()"
   ]
  },
  {
   "cell_type": "code",
   "execution_count": 6,
   "id": "16095d25",
   "metadata": {},
   "outputs": [
    {
     "data": {
      "text/plain": [
       "array(['subject01', 'subject05', 'subject01', 'subject02', 'subject02',\n",
       "       'subject09', 'subject03', 'subject03', 'subject03', 'subject04',\n",
       "       'subject04', 'subject04', 'subject05', 'subject05', 'subject09',\n",
       "       'subject06', 'subject06', 'subject06', 'subject10', 'subject07',\n",
       "       'subject09', 'subject09', 'subject09', 'subject08', 'subject08',\n",
       "       'subject09', 'subject09', 'subject10', 'subject10', 'subject10',\n",
       "       'subject11', 'subject11', 'subject11', 'subject12', 'subject12',\n",
       "       'subject12', 'subject13', 'subject13', 'subject13', 'subject14',\n",
       "       'subject14', 'subject09', 'subject15', 'subject08', 'subject15'],\n",
       "      dtype='<U9')"
      ]
     },
     "execution_count": 6,
     "metadata": {},
     "output_type": "execute_result"
    }
   ],
   "source": [
    "pred_labels"
   ]
  },
  {
   "cell_type": "markdown",
   "id": "285b2eac",
   "metadata": {},
   "source": [
    "---\n",
    "\n",
    "## <a id=\"testing\"></a> 4. Model testing"
   ]
  },
  {
   "cell_type": "code",
   "execution_count": 7,
   "id": "dc663ef8",
   "metadata": {},
   "outputs": [
    {
     "name": "stdout",
     "output_type": "stream",
     "text": [
      "Size: (320, 243)\n"
     ]
    }
   ],
   "source": [
    "img_check = Image.open(\"datasets/subject01.glasses.gif\")\n",
    "print(f\"Size: {img_check.size}\")"
   ]
  },
  {
   "cell_type": "code",
   "execution_count": 8,
   "id": "9b45588e",
   "metadata": {},
   "outputs": [
    {
     "name": "stdout",
     "output_type": "stream",
     "text": [
      "final_test shape: (45, 77760)\n",
      "test_images original shape: (45, 243, 320)\n",
      "Total misclassified images found: 10\n",
      "[1, 5, 14, 18, 20, 21, 22, 24, 41, 43]\n"
     ]
    },
    {
     "data": {
      "image/png": "[encoded data removed]",
      "text/plain": [
       "<Figure size 1200x1200 with 10 Axes>"
      ]
     },
     "metadata": {},
     "output_type": "display_data"
    }
   ],
   "source": [
    "# first we rescale the image to the original size of the training images\n",
    "image_height = 243\n",
    "image_width = 320\n",
    "original_shape_test_images = test_arr.reshape(-1, image_height, image_width)\n",
    "print(f\"final_test shape: {test_arr.shape}\")\n",
    "print(f\"test_images original shape: {original_shape_test_images.shape}\")\n",
    "\n",
    "# Determine misclassified indices\n",
    "misclassified_indices = [i for i, (true, pred) in enumerate(zip(test_labels, pred_labels)) if true != pred]\n",
    "# Print the number of misclassified images and their indices\n",
    "print(f\"Total misclassified images found: {len(misclassified_indices)}\")\n",
    "print(misclassified_indices)\n",
    "# Let's plot up to 16 misclassified images (or fewer if not available)\n",
    "num_to_plot = min(16, len(misclassified_indices))\n",
    "# for this a plot with subplots is created\n",
    "plt.figure(figsize=(12, 12))\n",
    "for idx, mis_idx in enumerate(misclassified_indices[:num_to_plot]):\n",
    "    plt.subplot(4, 4, idx+1)\n",
    "    plt.imshow(original_shape_test_images[mis_idx], cmap='gray') # assuming grayscale images\n",
    "    plt.title(f\"True: {test_labels[mis_idx]}\\nPredicted: {pred_labels[mis_idx]}\")\n",
    "    plt.axis('off')\n",
    "plt.suptitle(\"Misclassified Test Images\", fontsize=16)\n",
    "plt.tight_layout(rect=[0, 0.03, 1, 0.95])\n",
    "plt.show()"
   ]
  },
  {
   "cell_type": "markdown",
   "id": "930d6ba8",
   "metadata": {},
   "source": [
    "---\n",
    "\n",
    "## <a id=\"accuracy\"></a> 5. Accuracy evaluation"
   ]
  },
  {
   "cell_type": "markdown",
   "id": "0add2f5e",
   "metadata": {},
   "source": [
    "In section 5 we perform some evaluations in order to optimize our output. As we ran our model before for demonstration, we already used the best parameters based on the evaluations below. Therefore, this section will show why the chosen parameters are the best for our Image analysis model."
   ]
  },
  {
   "cell_type": "markdown",
   "id": "686f9d09",
   "metadata": {},
   "source": [
    "### 5.1  How to split the dataset?\n",
    "\n",
    "The results depend on the way you choose to split the dataset. If you use not enough images for testing, the model might not recongnize unseen images correctly. TEXT ERWEITERN\n",
    "Therefore, we evaluated what kind of splitting is the most efficient one: \n",
    "\n",
    "\n",
    "durchlaufen lassen für accuracy gegen anzahl der train images als plot => scatter plot oder boxplot"
   ]
  },
  {
   "cell_type": "code",
   "execution_count": null,
   "id": "ffce2218",
   "metadata": {},
   "outputs": [],
   "source": []
  },
  {
   "cell_type": "markdown",
   "id": "069bd5cc",
   "metadata": {},
   "source": [
    "### 5.2 Finding perfect amount of principal components\n",
    "\n",
    "After evaluating the dataset splitting, we now want to find out which amount of pricipal components (PC) is the one, which gives us the best accuracy and still processes the data fast. Based on WHAT???( Source needed) we defined a threshold of ... % to be the perfect variance. Therefore we choose .... PCs. The curve shows a horizontal asymptotic behavior towards one. It increases exponentially in the beginning. As the number of components increases, the cumulative explained variance ratio continues to grow, but at a slower rate."
   ]
  },
  {
   "cell_type": "code",
   "execution_count": 11,
   "id": "86f95216",
   "metadata": {},
   "outputs": [
    {
     "name": "stdout",
     "output_type": "stream",
     "text": [
      "Succesfully reduced Matrix from (120, 77760) to (120, 100)\n",
      "\n"
     ]
    },
    {
     "data": {
      "application/vnd.plotly.v1+json": {
       "config": {
        "plotlyServerURL": "https://plot.ly"
       },
       "data": [
        {
         "hoverinfo": "text",
         "mode": "lines+markers",
         "name": "Cumulative Variance Curve",
         "text": [
          "PC: 1<br>Cumulative Variance: 27.41%",
          "PC: 2<br>Cumulative Variance: 45.36%",
          "PC: 3<br>Cumulative Variance: 54.61%",
          "PC: 4<br>Cumulative Variance: 61.66%",
          "PC: 5<br>Cumulative Variance: 65.25%",
          "PC: 6<br>Cumulative Variance: 68.43%",
          "PC: 7<br>Cumulative Variance: 71.47%",
          "PC: 8<br>Cumulative Variance: 73.66%",
          "PC: 9<br>Cumulative Variance: 75.63%",
          "PC: 10<br>Cumulative Variance: 77.29%",
          "PC: 11<br>Cumulative Variance: 78.64%",
          "PC: 12<br>Cumulative Variance: 79.85%",
          "PC: 13<br>Cumulative Variance: 80.87%",
          "PC: 14<br>Cumulative Variance: 81.82%",
          "PC: 15<br>Cumulative Variance: 82.66%",
          "PC: 16<br>Cumulative Variance: 83.47%",
          "PC: 17<br>Cumulative Variance: 84.23%",
          "PC: 18<br>Cumulative Variance: 84.94%",
          "PC: 19<br>Cumulative Variance: 85.64%",
          "PC: 20<br>Cumulative Variance: 86.32%",
          "PC: 21<br>Cumulative Variance: 86.92%",
          "PC: 22<br>Cumulative Variance: 87.49%",
          "PC: 23<br>Cumulative Variance: 88.02%",
          "PC: 24<br>Cumulative Variance: 88.52%",
          "PC: 25<br>Cumulative Variance: 89.00%",
          "PC: 26<br>Cumulative Variance: 89.45%",
          "PC: 27<br>Cumulative Variance: 89.87%",
          "PC: 28<br>Cumulative Variance: 90.28%",
          "PC: 29<br>Cumulative Variance: 90.69%",
          "PC: 30<br>Cumulative Variance: 91.07%",
          "PC: 31<br>Cumulative Variance: 91.43%",
          "PC: 32<br>Cumulative Variance: 91.75%",
          "PC: 33<br>Cumulative Variance: 92.07%",
          "PC: 34<br>Cumulative Variance: 92.38%",
          "PC: 35<br>Cumulative Variance: 92.67%",
          "PC: 36<br>Cumulative Variance: 92.95%",
          "PC: 37<br>Cumulative Variance: 93.20%",
          "PC: 38<br>Cumulative Variance: 93.45%",
          "PC: 39<br>Cumulative Variance: 93.68%",
          "",
          "PC: 41<br>Cumulative Variance: 94.14%",
          "PC: 42<br>Cumulative Variance: 94.35%",
          "PC: 43<br>Cumulative Variance: 94.56%",
          "PC: 44<br>Cumulative Variance: 94.76%",
          "PC: 45<br>Cumulative Variance: 94.96%",
          "PC: 46<br>Cumulative Variance: 95.15%",
          "PC: 47<br>Cumulative Variance: 95.33%",
          "PC: 48<br>Cumulative Variance: 95.50%",
          "PC: 49<br>Cumulative Variance: 95.67%",
          "PC: 50<br>Cumulative Variance: 95.84%",
          "PC: 51<br>Cumulative Variance: 96.00%",
          "PC: 52<br>Cumulative Variance: 96.16%",
          "PC: 53<br>Cumulative Variance: 96.31%",
          "PC: 54<br>Cumulative Variance: 96.46%",
          "PC: 55<br>Cumulative Variance: 96.61%",
          "PC: 56<br>Cumulative Variance: 96.75%",
          "PC: 57<br>Cumulative Variance: 96.89%",
          "PC: 58<br>Cumulative Variance: 97.01%",
          "PC: 59<br>Cumulative Variance: 97.13%",
          "PC: 60<br>Cumulative Variance: 97.25%",
          "PC: 61<br>Cumulative Variance: 97.37%",
          "PC: 62<br>Cumulative Variance: 97.48%",
          "PC: 63<br>Cumulative Variance: 97.59%",
          "PC: 64<br>Cumulative Variance: 97.69%",
          "PC: 65<br>Cumulative Variance: 97.79%",
          "PC: 66<br>Cumulative Variance: 97.89%",
          "PC: 67<br>Cumulative Variance: 97.99%",
          "PC: 68<br>Cumulative Variance: 98.08%",
          "PC: 69<br>Cumulative Variance: 98.17%",
          "PC: 70<br>Cumulative Variance: 98.26%",
          "PC: 71<br>Cumulative Variance: 98.35%",
          "PC: 72<br>Cumulative Variance: 98.43%",
          "PC: 73<br>Cumulative Variance: 98.52%",
          "PC: 74<br>Cumulative Variance: 98.59%",
          "PC: 75<br>Cumulative Variance: 98.67%",
          "PC: 76<br>Cumulative Variance: 98.74%",
          "PC: 77<br>Cumulative Variance: 98.81%",
          "PC: 78<br>Cumulative Variance: 98.88%",
          "PC: 79<br>Cumulative Variance: 98.95%",
          "PC: 80<br>Cumulative Variance: 99.01%",
          "PC: 81<br>Cumulative Variance: 99.08%",
          "PC: 82<br>Cumulative Variance: 99.14%",
          "PC: 83<br>Cumulative Variance: 99.20%",
          "PC: 84<br>Cumulative Variance: 99.26%",
          "PC: 85<br>Cumulative Variance: 99.31%",
          "PC: 86<br>Cumulative Variance: 99.37%",
          "PC: 87<br>Cumulative Variance: 99.42%",
          "PC: 88<br>Cumulative Variance: 99.47%",
          "PC: 89<br>Cumulative Variance: 99.53%",
          "PC: 90<br>Cumulative Variance: 99.57%",
          "PC: 91<br>Cumulative Variance: 99.62%",
          "PC: 92<br>Cumulative Variance: 99.67%",
          "PC: 93<br>Cumulative Variance: 99.72%",
          "PC: 94<br>Cumulative Variance: 99.76%",
          "PC: 95<br>Cumulative Variance: 99.80%",
          "PC: 96<br>Cumulative Variance: 99.85%",
          "PC: 97<br>Cumulative Variance: 99.89%",
          "PC: 98<br>Cumulative Variance: 99.93%",
          "PC: 99<br>Cumulative Variance: 99.96%",
          "PC: 100<br>Cumulative Variance: 100.00%"
         ],
         "type": "scatter",
         "x": {
          "bdata": "AQIDBAUGBwgJCgsMDQ4PEBESExQVFhcYGRobHB0eHyAhIiMkJSYnKCkqKywtLi8wMTIzNDU2Nzg5Ojs8PT4/QEFCQ0RFRkdISUpLTE1OT1BRUlNUVVZXWFlaW1xdXl9gYWJjZA==",
          "dtype": "i1"
         },
         "y": {
          "bdata": "Q0LbQVd1NUI+bVpCKaR2Qr+AgkKF24hC+fKOQhRRk0JLRJdCqpOaQgxGnUKmsZ9C7L2hQseio0JPVKVCcfKmQsZ1qELA46lC/EirQiOjrEKI161CD/2uQtIHsELUC7FCAv6xQvLjskLQvLNCVJC0QsZitUIlI7ZCpdq2QlaBt0JwI7hC4MS4QuBYuUIr5rlC6Wi6QqHkukJfXrtCsNO7QsdFvEJItLxCPh+9Qi6GvUIr7L1Cs0u+QpmpvkLWAb9CJVm/QkWsv0Lm/r9CIVHAQh6gwEJS7cBCFDfBQqB/wUICxsFCZgXCQhlDwkIlgMJCMbvCQjj1wkIOLMNCvGDDQmuUw0IRyMNCZfrDQrYpxELjWMRCfIbEQvqyxEKt3cRCugfFQlYwxUKcV8VCjXzFQo2gxULbw8VCweXFQhIHxkLeJ8ZC4EfGQkxnxkIhhcZCQqHGQuu8xkJo2MZCAPPGQioNx0JkJsdCGD/HQl5Xx0L1bsdC3oXHQvWbx0IhscdC9sXHQtLZx0JS7cdCAADIQg==",
          "dtype": "f4"
         }
        },
        {
         "hovertemplate": "PC: %{x}<br>Cumulative Variance: %{y:.2f}%<extra></extra>",
         "marker": {
          "color": "red",
          "size": 10
         },
         "mode": "markers",
         "name": "Amount of PCs chosen (40)",
         "type": "scatter",
         "x": [
          40
         ],
         "y": [
          93.9134521484375
         ]
        }
       ],
       "layout": {
        "height": 600,
        "legend": {
         "orientation": "h",
         "x": 0.5,
         "xanchor": "center",
         "y": -0.15
        },
        "template": {
         "data": {
          "bar": [
           {
            "error_x": {
             "color": "#2a3f5f"
            },
            "error_y": {
             "color": "#2a3f5f"
            },
            "marker": {
             "line": {
              "color": "#E5ECF6",
              "width": 0.5
             },
             "pattern": {
              "fillmode": "overlay",
              "size": 10,
              "solidity": 0.2
             }
            },
            "type": "bar"
           }
          ],
          "barpolar": [
           {
            "marker": {
             "line": {
              "color": "#E5ECF6",
              "width": 0.5
             },
             "pattern": {
              "fillmode": "overlay",
              "size": 10,
              "solidity": 0.2
             }
            },
            "type": "barpolar"
           }
          ],
          "carpet": [
           {
            "aaxis": {
             "endlinecolor": "#2a3f5f",
             "gridcolor": "white",
             "linecolor": "white",
             "minorgridcolor": "white",
             "startlinecolor": "#2a3f5f"
            },
            "baxis": {
             "endlinecolor": "#2a3f5f",
             "gridcolor": "white",
             "linecolor": "white",
             "minorgridcolor": "white",
             "startlinecolor": "#2a3f5f"
            },
            "type": "carpet"
           }
          ],
          "choropleth": [
           {
            "colorbar": {
             "outlinewidth": 0,
             "ticks": ""
            },
            "type": "choropleth"
           }
          ],
          "contour": [
           {
            "colorbar": {
             "outlinewidth": 0,
             "ticks": ""
            },
            "colorscale": [
             [
              0,
              "#0d0887"
             ],
             [
              0.1111111111111111,
              "#46039f"
             ],
             [
              0.2222222222222222,
              "#7201a8"
             ],
             [
              0.3333333333333333,
              "#9c179e"
             ],
             [
              0.4444444444444444,
              "#bd3786"
             ],
             [
              0.5555555555555556,
              "#d8576b"
             ],
             [
              0.6666666666666666,
              "#ed7953"
             ],
             [
              0.7777777777777778,
              "#fb9f3a"
             ],
             [
              0.8888888888888888,
              "#fdca26"
             ],
             [
              1,
              "#f0f921"
             ]
            ],
            "type": "contour"
           }
          ],
          "contourcarpet": [
           {
            "colorbar": {
             "outlinewidth": 0,
             "ticks": ""
            },
            "type": "contourcarpet"
           }
          ],
          "heatmap": [
           {
            "colorbar": {
             "outlinewidth": 0,
             "ticks": ""
            },
            "colorscale": [
             [
              0,
              "#0d0887"
             ],
             [
              0.1111111111111111,
              "#46039f"
             ],
             [
              0.2222222222222222,
              "#7201a8"
             ],
             [
              0.3333333333333333,
              "#9c179e"
             ],
             [
              0.4444444444444444,
              "#bd3786"
             ],
             [
              0.5555555555555556,
              "#d8576b"
             ],
             [
              0.6666666666666666,
              "#ed7953"
             ],
             [
              0.7777777777777778,
              "#fb9f3a"
             ],
             [
              0.8888888888888888,
              "#fdca26"
             ],
             [
              1,
              "#f0f921"
             ]
            ],
            "type": "heatmap"
           }
          ],
          "histogram": [
           {
            "marker": {
             "pattern": {
              "fillmode": "overlay",
              "size": 10,
              "solidity": 0.2
             }
            },
            "type": "histogram"
           }
          ],
          "histogram2d": [
           {
            "colorbar": {
             "outlinewidth": 0,
             "ticks": ""
            },
            "colorscale": [
             [
              0,
              "#0d0887"
             ],
             [
              0.1111111111111111,
              "#46039f"
             ],
             [
              0.2222222222222222,
              "#7201a8"
             ],
             [
              0.3333333333333333,
              "#9c179e"
             ],
             [
              0.4444444444444444,
              "#bd3786"
             ],
             [
              0.5555555555555556,
              "#d8576b"
             ],
             [
              0.6666666666666666,
              "#ed7953"
             ],
             [
              0.7777777777777778,
              "#fb9f3a"
             ],
             [
              0.8888888888888888,
              "#fdca26"
             ],
             [
              1,
              "#f0f921"
             ]
            ],
            "type": "histogram2d"
           }
          ],
          "histogram2dcontour": [
           {
            "colorbar": {
             "outlinewidth": 0,
             "ticks": ""
            },
            "colorscale": [
             [
              0,
              "#0d0887"
             ],
             [
              0.1111111111111111,
              "#46039f"
             ],
             [
              0.2222222222222222,
              "#7201a8"
             ],
             [
              0.3333333333333333,
              "#9c179e"
             ],
             [
              0.4444444444444444,
              "#bd3786"
             ],
             [
              0.5555555555555556,
              "#d8576b"
             ],
             [
              0.6666666666666666,
              "#ed7953"
             ],
             [
              0.7777777777777778,
              "#fb9f3a"
             ],
             [
              0.8888888888888888,
              "#fdca26"
             ],
             [
              1,
              "#f0f921"
             ]
            ],
            "type": "histogram2dcontour"
           }
          ],
          "mesh3d": [
           {
            "colorbar": {
             "outlinewidth": 0,
             "ticks": ""
            },
            "type": "mesh3d"
           }
          ],
          "parcoords": [
           {
            "line": {
             "colorbar": {
              "outlinewidth": 0,
              "ticks": ""
             }
            },
            "type": "parcoords"
           }
          ],
          "pie": [
           {
            "automargin": true,
            "type": "pie"
           }
          ],
          "scatter": [
           {
            "fillpattern": {
             "fillmode": "overlay",
             "size": 10,
             "solidity": 0.2
            },
            "type": "scatter"
           }
          ],
          "scatter3d": [
           {
            "line": {
             "colorbar": {
              "outlinewidth": 0,
              "ticks": ""
             }
            },
            "marker": {
             "colorbar": {
              "outlinewidth": 0,
              "ticks": ""
             }
            },
            "type": "scatter3d"
           }
          ],
          "scattercarpet": [
           {
            "marker": {
             "colorbar": {
              "outlinewidth": 0,
              "ticks": ""
             }
            },
            "type": "scattercarpet"
           }
          ],
          "scattergeo": [
           {
            "marker": {
             "colorbar": {
              "outlinewidth": 0,
              "ticks": ""
             }
            },
            "type": "scattergeo"
           }
          ],
          "scattergl": [
           {
            "marker": {
             "colorbar": {
              "outlinewidth": 0,
              "ticks": ""
             }
            },
            "type": "scattergl"
           }
          ],
          "scattermap": [
           {
            "marker": {
             "colorbar": {
              "outlinewidth": 0,
              "ticks": ""
             }
            },
            "type": "scattermap"
           }
          ],
          "scattermapbox": [
           {
            "marker": {
             "colorbar": {
              "outlinewidth": 0,
              "ticks": ""
             }
            },
            "type": "scattermapbox"
           }
          ],
          "scatterpolar": [
           {
            "marker": {
             "colorbar": {
              "outlinewidth": 0,
              "ticks": ""
             }
            },
            "type": "scatterpolar"
           }
          ],
          "scatterpolargl": [
           {
            "marker": {
             "colorbar": {
              "outlinewidth": 0,
              "ticks": ""
             }
            },
            "type": "scatterpolargl"
           }
          ],
          "scatterternary": [
           {
            "marker": {
             "colorbar": {
              "outlinewidth": 0,
              "ticks": ""
             }
            },
            "type": "scatterternary"
           }
          ],
          "surface": [
           {
            "colorbar": {
             "outlinewidth": 0,
             "ticks": ""
            },
            "colorscale": [
             [
              0,
              "#0d0887"
             ],
             [
              0.1111111111111111,
              "#46039f"
             ],
             [
              0.2222222222222222,
              "#7201a8"
             ],
             [
              0.3333333333333333,
              "#9c179e"
             ],
             [
              0.4444444444444444,
              "#bd3786"
             ],
             [
              0.5555555555555556,
              "#d8576b"
             ],
             [
              0.6666666666666666,
              "#ed7953"
             ],
             [
              0.7777777777777778,
              "#fb9f3a"
             ],
             [
              0.8888888888888888,
              "#fdca26"
             ],
             [
              1,
              "#f0f921"
             ]
            ],
            "type": "surface"
           }
          ],
          "table": [
           {
            "cells": {
             "fill": {
              "color": "#EBF0F8"
             },
             "line": {
              "color": "white"
             }
            },
            "header": {
             "fill": {
              "color": "#C8D4E3"
             },
             "line": {
              "color": "white"
             }
            },
            "type": "table"
           }
          ]
         },
         "layout": {
          "annotationdefaults": {
           "arrowcolor": "#2a3f5f",
           "arrowhead": 0,
           "arrowwidth": 1
          },
          "autotypenumbers": "strict",
          "coloraxis": {
           "colorbar": {
            "outlinewidth": 0,
            "ticks": ""
           }
          },
          "colorscale": {
           "diverging": [
            [
             0,
             "#8e0152"
            ],
            [
             0.1,
             "#c51b7d"
            ],
            [
             0.2,
             "#de77ae"
            ],
            [
             0.3,
             "#f1b6da"
            ],
            [
             0.4,
             "#fde0ef"
            ],
            [
             0.5,
             "#f7f7f7"
            ],
            [
             0.6,
             "#e6f5d0"
            ],
            [
             0.7,
             "#b8e186"
            ],
            [
             0.8,
             "#7fbc41"
            ],
            [
             0.9,
             "#4d9221"
            ],
            [
             1,
             "#276419"
            ]
           ],
           "sequential": [
            [
             0,
             "#0d0887"
            ],
            [
             0.1111111111111111,
             "#46039f"
            ],
            [
             0.2222222222222222,
             "#7201a8"
            ],
            [
             0.3333333333333333,
             "#9c179e"
            ],
            [
             0.4444444444444444,
             "#bd3786"
            ],
            [
             0.5555555555555556,
             "#d8576b"
            ],
            [
             0.6666666666666666,
             "#ed7953"
            ],
            [
             0.7777777777777778,
             "#fb9f3a"
            ],
            [
             0.8888888888888888,
             "#fdca26"
            ],
            [
             1,
             "#f0f921"
            ]
           ],
           "sequentialminus": [
            [
             0,
             "#0d0887"
            ],
            [
             0.1111111111111111,
             "#46039f"
            ],
            [
             0.2222222222222222,
             "#7201a8"
            ],
            [
             0.3333333333333333,
             "#9c179e"
            ],
            [
             0.4444444444444444,
             "#bd3786"
            ],
            [
             0.5555555555555556,
             "#d8576b"
            ],
            [
             0.6666666666666666,
             "#ed7953"
            ],
            [
             0.7777777777777778,
             "#fb9f3a"
            ],
            [
             0.8888888888888888,
             "#fdca26"
            ],
            [
             1,
             "#f0f921"
            ]
           ]
          },
          "colorway": [
           "#636efa",
           "#EF553B",
           "#00cc96",
           "#ab63fa",
           "#FFA15A",
           "#19d3f3",
           "#FF6692",
           "#B6E880",
           "#FF97FF",
           "#FECB52"
          ],
          "font": {
           "color": "#2a3f5f"
          },
          "geo": {
           "bgcolor": "white",
           "lakecolor": "white",
           "landcolor": "#E5ECF6",
           "showlakes": true,
           "showland": true,
           "subunitcolor": "white"
          },
          "hoverlabel": {
           "align": "left"
          },
          "hovermode": "closest",
          "mapbox": {
           "style": "light"
          },
          "paper_bgcolor": "white",
          "plot_bgcolor": "#E5ECF6",
          "polar": {
           "angularaxis": {
            "gridcolor": "white",
            "linecolor": "white",
            "ticks": ""
           },
           "bgcolor": "#E5ECF6",
           "radialaxis": {
            "gridcolor": "white",
            "linecolor": "white",
            "ticks": ""
           }
          },
          "scene": {
           "xaxis": {
            "backgroundcolor": "#E5ECF6",
            "gridcolor": "white",
            "gridwidth": 2,
            "linecolor": "white",
            "showbackground": true,
            "ticks": "",
            "zerolinecolor": "white"
           },
           "yaxis": {
            "backgroundcolor": "#E5ECF6",
            "gridcolor": "white",
            "gridwidth": 2,
            "linecolor": "white",
            "showbackground": true,
            "ticks": "",
            "zerolinecolor": "white"
           },
           "zaxis": {
            "backgroundcolor": "#E5ECF6",
            "gridcolor": "white",
            "gridwidth": 2,
            "linecolor": "white",
            "showbackground": true,
            "ticks": "",
            "zerolinecolor": "white"
           }
          },
          "shapedefaults": {
           "line": {
            "color": "#2a3f5f"
           }
          },
          "ternary": {
           "aaxis": {
            "gridcolor": "white",
            "linecolor": "white",
            "ticks": ""
           },
           "baxis": {
            "gridcolor": "white",
            "linecolor": "white",
            "ticks": ""
           },
           "bgcolor": "#E5ECF6",
           "caxis": {
            "gridcolor": "white",
            "linecolor": "white",
            "ticks": ""
           }
          },
          "title": {
           "x": 0.05
          },
          "xaxis": {
           "automargin": true,
           "gridcolor": "white",
           "linecolor": "white",
           "ticks": "",
           "title": {
            "standoff": 15
           },
           "zerolinecolor": "white",
           "zerolinewidth": 2
          },
          "yaxis": {
           "automargin": true,
           "gridcolor": "white",
           "linecolor": "white",
           "ticks": "",
           "title": {
            "standoff": 15
           },
           "zerolinecolor": "white",
           "zerolinewidth": 2
          }
         }
        },
        "title": {
         "text": "Cumulative Variance Explained by Principal Components",
         "x": 0.5,
         "y": 0.925
        },
        "width": 1000,
        "xaxis": {
         "title": {
          "text": "Number of Principal Components"
         }
        },
        "yaxis": {
         "title": {
          "text": "Cumulative Variance Explained (%)"
         }
        }
       }
      }
     },
     "metadata": {},
     "output_type": "display_data"
    }
   ],
   "source": [
    "projection_matrix_for_plot, train_reduced_for_plot, explained_variance_ratio_for_plot = svd_pca(final_train,100)\n",
    "\n",
    "n_pcs_for_plot = np.arange(1, 101)  # Range of components from 1 to 100\n",
    "\n",
    "cumulative_variance = np.cumsum(explained_variance_ratio_for_plot)\n",
    "# Normalize to percentages such that the total is 100%\n",
    "cumulative_variance_norm = cumulative_variance / cumulative_variance[-1] * 100\n",
    "\n",
    "#zip is used to create a list of hover texts for each point\n",
    "#it works by combining the number of PCs and the corresponding cumulative variance\n",
    "hover_texts = [f\"PC: {x}<br>Cumulative Variance: {y:.2f}%\" if x != 40 else \"\" for x, y in zip(n_pcs_for_plot, cumulative_variance_norm)]\n",
    "\n",
    "# Create the main trace for the curve\n",
    "curve_trace = go.Scatter(\n",
    "    x=n_pcs_for_plot,\n",
    "    y=cumulative_variance_norm,\n",
    "    mode='lines+markers',\n",
    "    name='Cumulative Variance Curve',\n",
    "    hoverinfo ='text',\n",
    "    text=hover_texts\n",
    ")\n",
    "\n",
    "# Highlight the point at 40 PCs by adding an extra trace\n",
    "highlight_trace = go.Scatter(\n",
    "    x=[n_components],  # x-coordinate at n PCs\n",
    "    y=[cumulative_variance_norm[n_components-1]],  # corresponding cumulative variance\n",
    "    mode='markers',\n",
    "    name=f'Amount of PCs chosen ({n_components})',\n",
    "    marker=dict(size=10, color='red'),\n",
    "    hovertemplate='PC: %{x}<br>Cumulative Variance: %{y:.2f}%<extra></extra>'\n",
    ")\n",
    "# Create the plot\n",
    "fig = go.Figure(data=[curve_trace, highlight_trace])\n",
    "\n",
    "# Update layout for better readability\n",
    "fig.update_layout(title={\n",
    "        \"text\": \"Cumulative Variance Explained by Principal Components\",\n",
    "        \"y\": 0.925,  # Adjust the vertical position (higher value moves it further up)\n",
    "        \"x\": 0.5,   # Keep it centered\n",
    "        },\n",
    "    xaxis_title=\"Number of Principal Components\",\n",
    "    yaxis_title=\"Cumulative Variance Explained (%)\",\n",
    "    width=1000,\n",
    "    height=600,\n",
    "    legend=dict(\n",
    "        orientation=\"h\",  # Makes the legend horizontal\n",
    "        y=-0.15,           \n",
    "        x=0.5,            # Centers the legend horizontally\n",
    "        xanchor=\"center\"  # Anchors the legend to the center\n",
    "    )\n",
    ")\n",
    "\n",
    "fig.show()"
   ]
  },
  {
   "cell_type": "markdown",
   "id": "05a44a79",
   "metadata": {},
   "source": [
    "### 5.3 Finding the best k\n",
    "\n",
    "In the following section we focused on evaluating, which amount of nearest neighbors k leads to the highest accuracy"
   ]
  },
  {
   "cell_type": "code",
   "execution_count": 9,
   "id": "8886746c",
   "metadata": {},
   "outputs": [
    {
     "name": "stdout",
     "output_type": "stream",
     "text": [
      "Evaluation of best \u001b[3m\u001b[1mk\u001b[0m for:\n",
      "\u001b[3m\u001b[1m120\u001b[0m training images and \u001b[3m\u001b[1m45\u001b[0m test images and \u001b[3m\u001b[1m40\u001b[0m principal components\n",
      "k-NN Classification Accuracy: 82.22%\n",
      "k = 2: Classification Accuracy = 80.00%\n",
      "k-NN Classification Accuracy: 77.78%\n",
      "k = 3: Classification Accuracy = 80.00%\n",
      "k-NN Classification Accuracy: 80.00%\n",
      "k = 4: Classification Accuracy = 80.00%\n",
      "k-NN Classification Accuracy: 77.78%\n",
      "k = 5: Classification Accuracy = 80.00%\n",
      "k-NN Classification Accuracy: 77.78%\n",
      "k = 6: Classification Accuracy = 80.00%\n",
      "k-NN Classification Accuracy: 75.56%\n",
      "k = 7: Classification Accuracy = 80.00%\n",
      "k-NN Classification Accuracy: 75.56%\n",
      "k = 8: Classification Accuracy = 80.00%\n",
      "k-NN Classification Accuracy: 73.33%\n",
      "k = 9: Classification Accuracy = 80.00%\n",
      "k-NN Classification Accuracy: 73.33%\n",
      "k = 10: Classification Accuracy = 80.00%\n",
      "k-NN Classification Accuracy: 66.67%\n",
      "k = 11: Classification Accuracy = 80.00%\n",
      "k-NN Classification Accuracy: 66.67%\n",
      "k = 12: Classification Accuracy = 80.00%\n",
      "k-NN Classification Accuracy: 68.89%\n",
      "k = 13: Classification Accuracy = 80.00%\n",
      "k-NN Classification Accuracy: 68.89%\n",
      "k = 14: Classification Accuracy = 80.00%\n",
      "k-NN Classification Accuracy: 60.00%\n",
      "k = 15: Classification Accuracy = 80.00%\n",
      "k-NN Classification Accuracy: 60.00%\n",
      "k = 16: Classification Accuracy = 80.00%\n",
      "k-NN Classification Accuracy: 60.00%\n",
      "k = 17: Classification Accuracy = 80.00%\n",
      "k-NN Classification Accuracy: 53.33%\n",
      "k = 18: Classification Accuracy = 80.00%\n",
      "k-NN Classification Accuracy: 51.11%\n",
      "k = 19: Classification Accuracy = 80.00%\n",
      "k-NN Classification Accuracy: 48.89%\n",
      "k = 20: Classification Accuracy = 80.00%\n",
      "\n",
      "Best k = 2 with accuracy: \u001b[1m80.00%\u001b[0m\n"
     ]
    },
    {
     "data": {
      "image/png": "[encoded data removed]",
      "text/plain": [
       "<Figure size 800x500 with 1 Axes>"
      ]
     },
     "metadata": {},
     "output_type": "display_data"
    }
   ],
   "source": [
    "# Dictionary to store accuracies for each k value.\n",
    "accuracy_dict = {}\n",
    "\n",
    "#\\033[1m stands for bold;\\033[3m stands for italic \\033[0m resets the formatting to normal.\n",
    "print(f\"Evaluation of best \\033[3m\\033[1mk\\033[0m for:\")\n",
    "print(f\"\\033[3m\\033[1m{len(train_reduced)}\\033[0m training images and \\033[3m\\033[1m{len(test_reduced)}\\033[0m test images and \\033[3m\\033[1m{n_components}\\033[0m principal components\")\n",
    "\n",
    "# loop through k values from 2 to 20, as k = 1 \n",
    "for k in range(2, 21):\n",
    "    predicted_labels = knn_classifier(train_reduced, train_labels, test_reduced, test_labels, k)\n",
    "    accuracy = np.mean(np.array(pred_labels) == np.array(test_labels))\n",
    "    # assigns the value of accuracy to the key k in the dictionary accuracy_dict.\n",
    "    # This means for each value of k (the number of neighbors in KNN), you store the corresponding classification accuracy.\n",
    "    accuracy_dict[k] = accuracy\n",
    "    print(f\"k = {k}: Classification Accuracy = {accuracy * 100:.2f}%\")\n",
    "\n",
    "# Identify the best k value based on the highest accuracy\n",
    "best_k = max(accuracy_dict, key=accuracy_dict.get)\n",
    "highest_accuracy = accuracy_dict[best_k]\n",
    "print(f\"\\nBest k = {best_k} with accuracy: \\033[1m{highest_accuracy * 100:.2f}%\\033[0m\")\n",
    "\n",
    "# First, sort the dictionary keys (k values) for plotting in order.\n",
    "k_values = sorted(accuracy_dict.keys())\n",
    "accuracy_values = [accuracy_dict[k] for k in k_values]\n",
    "\n",
    "# Create the plot.\n",
    "plt.figure(figsize=(8, 5))\n",
    "plt.plot(k_values, accuracy_values, marker='o', linestyle='-', color='b')\n",
    "plt.scatter([best_k], [highest_accuracy], color='r', s=50, zorder=5, label='Best Accuracy')\n",
    "# Annotate the plot\n",
    "# plt.title(\"KNN Classification Accuracy vs. k\")\n",
    "plt.xlabel(\"Number of Neighbors (k)\")\n",
    "plt.ylabel(\"Classification Accuracy\")\n",
    "plt.xticks(k_values)  # Set x-ticks to be the k values\n",
    "plt.grid(True)\n",
    "plt.show()"
   ]
  },
  {
   "cell_type": "markdown",
   "id": "8b795e1c",
   "metadata": {},
   "source": [
    "### 5.4 Finding the best Seed\n",
    "\n",
    "In the following section we focused on evaluating, which seed of random splitting the dataset into train and test sets will give us the highest accuracy."
   ]
  },
  {
   "cell_type": "code",
   "execution_count": null,
   "id": "63de7f64",
   "metadata": {},
   "outputs": [],
   "source": [
    "from functions.furtheranalysis_seeds import preprocessing_seed\n",
    "\n",
    "# Lets run the KNN classifier with different random seeds to see how the accuracy changes.\n",
    "seeds = np.array(range(40,43))\n",
    "\n",
    "# We use 50 PCs and k = 3.\n",
    "\n",
    "accuracies = []\n",
    "\n",
    "for seed in seeds:\n",
    "    print(f\"\\nSeed: {seed}\")\n",
    "    final_train, train_labels, final_test, test_labels = preprocessing_seed(seed)\n",
    "\n",
    "    projection_matrix, train_reduced, explained_variance_ratio = svd_pca(final_train, n_components)\n",
    "\n",
    "    test_reduced = pca_transform(final_test, projection_matrix)\n",
    "\n",
    "    predictions = knn_classifier(train_reduced, train_labels, test_reduced, test_labels, k=3)\n",
    "    accuracy = np.mean(np.array(predictions) == np.array(test_labels))\n",
    "    accuracies.append(accuracy)\n",
    "\n",
    "df = pd.DataFrame({\n",
    "    'Seed': seeds,\n",
    "    'Accuracy (%)': np.array(accuracies) * 100\n",
    "})\n",
    "\n",
    "sns.set(style=\"whitegrid\")\n",
    "\n",
    "plt.figure(figsize=(8, 5))\n",
    "sns.lineplot(data=df, x='Seed', y='Accuracy (%)', marker='o')\n",
    "plt.title(\"Accuracy of KNN Classifier with Different Random Seeds\")\n",
    "plt.ylim(0, 100)\n",
    "plt.tight_layout()\n",
    "plt.show()\n"
   ]
  },
  {
   "cell_type": "markdown",
   "id": "5cec2053",
   "metadata": {},
   "source": [
    "### 5.5 Finding the best Split Ratio\n",
    "\n",
    "In the following section we focused on evaluating, which ratio of training / test data will give us the highest accuracy."
   ]
  },
  {
   "cell_type": "code",
   "execution_count": 21,
   "id": "4be7da0b",
   "metadata": {},
   "outputs": [
    {
     "name": "stdout",
     "output_type": "stream",
     "text": [
      "\n",
      "Percentage Training Data: 9.09%\n",
      "Percentage Test Data: 90.91%\n",
      "Total training images: 15\n",
      "Total testing images: 150\n",
      "\n",
      "After preprocessing:\n",
      "Training data shape: (15, 77760)\n",
      "Testing data shape: (150, 77760)\n",
      "Succesfully reduced Matrix from (15, 77760) to (15, 15)\n",
      "\n",
      "Succesfully transformed Matrix from (150, 77760) to (150, 15)\n",
      "k-NN Classification Accuracy: 16.00%\n",
      "\n",
      "Percentage Training Data: 18.18%\n",
      "Percentage Test Data: 81.82%\n",
      "Total training images: 30\n",
      "Total testing images: 135\n",
      "\n",
      "After preprocessing:\n",
      "Training data shape: (30, 77760)\n",
      "Testing data shape: (135, 77760)\n",
      "Succesfully reduced Matrix from (30, 77760) to (30, 30)\n",
      "\n",
      "Succesfully transformed Matrix from (135, 77760) to (135, 30)\n",
      "k-NN Classification Accuracy: 57.04%\n",
      "\n",
      "Percentage Training Data: 36.36%\n",
      "Percentage Test Data: 63.64%\n",
      "Total training images: 60\n",
      "Total testing images: 105\n",
      "\n",
      "After preprocessing:\n",
      "Training data shape: (60, 77760)\n",
      "Testing data shape: (105, 77760)\n",
      "Succesfully reduced Matrix from (60, 77760) to (60, 40)\n",
      "\n",
      "Succesfully transformed Matrix from (105, 77760) to (105, 40)\n",
      "k-NN Classification Accuracy: 56.19%\n",
      "\n",
      "Percentage Training Data: 45.45%\n",
      "Percentage Test Data: 54.55%\n",
      "Total training images: 75\n",
      "Total testing images: 90\n",
      "\n",
      "After preprocessing:\n",
      "Training data shape: (75, 77760)\n",
      "Testing data shape: (90, 77760)\n",
      "Succesfully reduced Matrix from (75, 77760) to (75, 40)\n",
      "\n",
      "Succesfully transformed Matrix from (90, 77760) to (90, 40)\n",
      "k-NN Classification Accuracy: 62.22%\n",
      "\n",
      "Percentage Training Data: 54.55%\n",
      "Percentage Test Data: 45.45%\n",
      "Total training images: 90\n",
      "Total testing images: 75\n",
      "\n",
      "After preprocessing:\n",
      "Training data shape: (90, 77760)\n",
      "Testing data shape: (75, 77760)\n",
      "Succesfully reduced Matrix from (90, 77760) to (90, 40)\n",
      "\n",
      "Succesfully transformed Matrix from (75, 77760) to (75, 40)\n",
      "k-NN Classification Accuracy: 70.67%\n",
      "\n",
      "Percentage Training Data: 63.64%\n",
      "Percentage Test Data: 36.36%\n",
      "Total training images: 105\n",
      "Total testing images: 60\n",
      "\n",
      "After preprocessing:\n",
      "Training data shape: (105, 77760)\n",
      "Testing data shape: (60, 77760)\n",
      "Succesfully reduced Matrix from (105, 77760) to (105, 40)\n",
      "\n",
      "Succesfully transformed Matrix from (60, 77760) to (60, 40)\n",
      "k-NN Classification Accuracy: 76.67%\n",
      "\n",
      "Percentage Training Data: 72.73%\n",
      "Percentage Test Data: 27.27%\n",
      "Total training images: 120\n",
      "Total testing images: 45\n",
      "\n",
      "After preprocessing:\n",
      "Training data shape: (120, 77760)\n",
      "Testing data shape: (45, 77760)\n",
      "Succesfully reduced Matrix from (120, 77760) to (120, 40)\n",
      "\n",
      "Succesfully transformed Matrix from (45, 77760) to (45, 40)\n",
      "k-NN Classification Accuracy: 77.78%\n",
      "\n",
      "Percentage Training Data: 81.82%\n",
      "Percentage Test Data: 18.18%\n",
      "Total training images: 135\n",
      "Total testing images: 30\n",
      "\n",
      "After preprocessing:\n",
      "Training data shape: (135, 77760)\n",
      "Testing data shape: (30, 77760)\n",
      "Succesfully reduced Matrix from (135, 77760) to (135, 40)\n",
      "\n",
      "Succesfully transformed Matrix from (30, 77760) to (30, 40)\n",
      "k-NN Classification Accuracy: 80.00%\n",
      "\n",
      "Percentage Training Data: 90.91%\n",
      "Percentage Test Data: 9.09%\n",
      "Total training images: 150\n",
      "Total testing images: 15\n",
      "\n",
      "After preprocessing:\n",
      "Training data shape: (150, 77760)\n",
      "Testing data shape: (15, 77760)\n",
      "Succesfully reduced Matrix from (150, 77760) to (150, 40)\n",
      "\n",
      "Succesfully transformed Matrix from (15, 77760) to (15, 40)\n",
      "k-NN Classification Accuracy: 73.33%\n"
     ]
    },
    {
     "data": {
      "image/png": "[encoded data removed]",
      "text/plain": [
       "<Figure size 800x500 with 1 Axes>"
      ]
     },
     "metadata": {},
     "output_type": "display_data"
    }
   ],
   "source": [
    "from functions.furtheranalysis_splitratio import preprocessing_split_ratio\n",
    "\n",
    "train_ratios = [1/11, 2/11, 4/11, 5/11, 6/11, 7/11, 8/11, 9/11, 10/11]\n",
    "\n",
    "accuracies = []\n",
    "\n",
    "for train_ratio in train_ratios:\n",
    "    print(f\"\\nPercentage Training Data: {(train_ratio) * 100:.2f}%\")\n",
    "    print(f\"Percentage Test Data: {(1 - train_ratio) * 100:.2f}%\")\n",
    "\n",
    "    final_train, train_labels, final_test, test_labels = preprocessing_split_ratio(train_ratio)\n",
    "\n",
    "    projection_matrix, train_reduced, explained_variance_ratio = svd_pca(final_train, n_components)\n",
    "\n",
    "    test_reduced = pca_transform(final_test, projection_matrix)\n",
    "\n",
    "    predictions = knn_classifier(train_reduced, train_labels, test_reduced, test_labels, k=3)\n",
    "    accuracy = np.mean(np.array(predictions) == np.array(test_labels))\n",
    "    accuracies.append(accuracy)\n",
    "\n",
    "df = pd.DataFrame({\n",
    "    \"Train Split (%)\": [round(r * 100, 2) for r in train_ratios],\n",
    "    \"Accuracy (%)\": [a * 100 for a in accuracies]\n",
    "})\n",
    "\n",
    "plt.figure(figsize=(8, 5))\n",
    "sns.lineplot(data=df, x=\"Train Split (%)\", y=\"Accuracy (%)\", marker=\"o\", linewidth=2.5)\n",
    "\n",
    "plt.title(\"Accuracy of KNN Classifier with Different Training Data Ratios\")\n",
    "plt.xlabel(\"Percentage of used Training Data (%)\")\n",
    "plt.ylabel(\"Accuracy (%)\")\n",
    "plt.ylim(0, 100)\n",
    "plt.grid(True)\n",
    "plt.tight_layout()\n",
    "plt.show()"
   ]
  },
  {
   "cell_type": "markdown",
   "id": "cfb70e98",
   "metadata": {},
   "source": [
    "---"
   ]
  },
  {
   "cell_type": "markdown",
   "id": "2c12490d",
   "metadata": {},
   "source": []
  }
 ],
 "metadata": {
  "kernelspec": {
   "display_name": "Python 3",
   "language": "python",
   "name": "python3"
  },
  "language_info": {
   "codemirror_mode": {
    "name": "ipython",
    "version": 3
   },
   "file_extension": ".py",
   "mimetype": "text/x-python",
   "name": "python",
   "nbconvert_exporter": "python",
   "pygments_lexer": "ipython3",
   "version": "3.13.3"
  }
 },
 "nbformat": 4,
 "nbformat_minor": 5
}

{
 "cells": [
  {
   "cell_type": "markdown",
   "id": "e2d3fb0d",
   "metadata": {},
   "source": [
    "# Face recognition using k-Nearest Neighbor\n",
    "\n",
    "---\n",
    "\n",
    "### Contents\n",
    "<ol>\n",
    "    <li><a href=\"#data-preprocessing\" style=\"color: currentColor\">Data preprocessing</a></li>\n",
    "    <li><a href=\"#pca\" style=\"color: currentColor\">Principal Component Analysis</a></li>\n",
    "    <li><a href=\"#knn\" style=\"color: currentColor\">k-Nearest-Neighbor</a></li>\n",
    "    <li><a href=\"#testing\" style=\"color: currentColor\">Model testing</a></li>\n",
    "    <li><a href=\"#accuracy\" style=\"color: currentColor\">Accuracy evaluation</a></li>\n",
    "    <li><a href=\"#further-analysis\" style=\"color: currentColor\">Further Analysis</a></li>\n",
    "</ol>\n",
    "<br>\n",
    "\n",
    "<i> Note: To keep the notebook readable, it focuses on executing the code and showing the results. The entire code can be found in the functions folder and the beloging .py files.</i>\n",
    "\n",
    "---\n",
    "\n",
    "### Libraries"
   ]
  },
  {
   "cell_type": "code",
   "execution_count": 1,
   "id": "ba059aac",
   "metadata": {},
   "outputs": [],
   "source": [
    "import os\n",
    "import numpy as np\n",
    "import matplotlib.pyplot as plt\n",
    "from PIL import Image\n",
    "\n",
    "\n",
    "# os.chdir(r\"C:\\Users\\fedbe\\OneDrive\\Dokumente\\GitHub\\topic01_team01\")\n",
    "# checks if the current working directory is correct:\n",
    "# print(os.getcwd())"
   ]
  },
  {
   "cell_type": "markdown",
   "id": "87081749",
   "metadata": {},
   "source": [
    "---\n",
    "\n",
    "## <a id=\"data-preprocessing\"></a> 1. Data preprocessing \n",
    "\n",
    "(INSERT SOURCES?) (INCLUDE MORE INFO; e.g. FORMULAS TO DESCRIBE ALL STEPS BETTER?)\n",
    "\n",
    "In the first part, we need to perform different preprocessing steps before we can move on to Principal component analysis (PCA).\\\n",
    "First, we transform each image into a 1D vector to create a 2D data matrix where each row is a single sample (image) and each column corrresponds to one feature (pixel). This procedure is called <b> flattening</b>.\\\n",
    "Secondly, we <b> convert the integer formats to floating point</b> so that arithmetic operations behave correctly and <b> normalize </b> the data to the range [0,1] to ensure that each pixel has a similar scale.\\\n",
    "Before performing further preprocessing steps, we split the dataset into training and test data. The dataset contains 11 images expressing different facial expression and light conditions of 15 subjects each. In order to split these images, 8 images of each subject are choosen randomly to use for training. All remaining images will serve as test data.\n",
    "Next, we <b> center our data </b> . This is done, by subtracting the mean value for each pixel position across the dataset. This ensures that your dataset has a zero mean, which is essential because PCA will then capture the directions of maximum variance around this mean.\\\n",
    "Lastly, we <b> standardize</b>  the data by subtracting the mean and then dividing by the standard deviation for each feature (also called <b> z-transformation</b>)."
   ]
  },
  {
   "cell_type": "code",
   "execution_count": 2,
   "id": "fa2a7d0d",
   "metadata": {},
   "outputs": [
    {
     "name": "stdout",
     "output_type": "stream",
     "text": [
      "Total training images: 120\n",
      "Total testing images: 45\n",
      "\n",
      "After preprocessing:\n",
      "Training data shape: (120, 77760)\n",
      "Testing data shape: (45, 77760)\n",
      "First training image: Mean ≈ -0.1328\n"
     ]
    }
   ],
   "source": [
    "# for MacOS users, the path separator is a forward slash, please uncomment the following line and comment the other one:\n",
    "# %run functions/preprocessing.py\n",
    "\n",
    "%run functions\\preprocessing.py\n"
   ]
  },
  {
   "cell_type": "markdown",
   "id": "4f251224",
   "metadata": {},
   "source": [
    "---\n",
    "\n",
    "## <a id=\"pca\"></a> 2. Pricinpal component analysis"
   ]
  },
  {
   "cell_type": "markdown",
   "id": "1d43e1f0",
   "metadata": {},
   "source": []
  },
  {
   "cell_type": "code",
   "execution_count": null,
   "id": "1b09623e",
   "metadata": {},
   "outputs": [
    {
     "name": "stdout",
     "output_type": "stream",
     "text": [
      "Succesfully reduced Matrix from (120, 77760) to (120, 100)\n",
      "\n",
      "Explained variance ratio by first 5 components:\n",
      " [0.31275734 0.14035824 0.09093067 0.07442182 0.04790089]\n",
      "\n",
      "Succesfully transformed Matrix from (45, 77760) to (45, 100)\n",
      "\n",
      "float32\n"
     ]
    }
   ],
   "source": [
    "from functions.pca import pca\n",
    "from functions.pca import pca_transform\n",
    "\n",
    "# semicolon is used to suppress output of the last line in Jupyter notebooks, so in our case it prevents the return output\n",
    "U_reduced, S_reduced, V_reduced, train_reduced, eigenvalues, variance_explained = pca(final_train,100)\n",
    "test_reduced = pca_transform(final_test,V_reduced);\n",
    "# Maybe already implement here some Plots, to show which PC are the most important ones\n",
    "# and what number of n_components is the best to use for our model instead of doing everything in 5.?\n"
   ]
  },
  {
   "cell_type": "markdown",
   "id": "8ddf2ce2",
   "metadata": {},
   "source": [
    "---\n",
    "\n",
    "## <a id=\"knn\"></a> 3. k-Nearest-Neighbor"
   ]
  },
  {
   "cell_type": "markdown",
   "id": "325cae81",
   "metadata": {},
   "source": []
  },
  {
   "cell_type": "code",
   "execution_count": 4,
   "id": "0bfd0875",
   "metadata": {},
   "outputs": [
    {
     "ename": "UFuncTypeError",
     "evalue": "ufunc 'subtract' did not contain a loop with signature matching types (dtype('float32'), dtype('<U9')) -> None",
     "output_type": "error",
     "traceback": [
      "\u001b[31m---------------------------------------------------------------------------\u001b[39m",
      "\u001b[31mUFuncTypeError\u001b[39m                            Traceback (most recent call last)",
      "\u001b[36mCell\u001b[39m\u001b[36m \u001b[39m\u001b[32mIn[4]\u001b[39m\u001b[32m, line 6\u001b[39m\n\u001b[32m      1\u001b[39m \u001b[38;5;66;03m# for MacOS users, the path separator is a forward slash, please uncomment the following line:\u001b[39;00m\n\u001b[32m      2\u001b[39m \u001b[38;5;66;03m# %run functions/knn.py\u001b[39;00m\n\u001b[32m      3\u001b[39m \u001b[38;5;66;03m# %run functions\\knn.py\u001b[39;00m\n\u001b[32m      4\u001b[39m \u001b[38;5;28;01mfrom\u001b[39;00m\u001b[38;5;250m \u001b[39m\u001b[34;01mfunctions\u001b[39;00m\u001b[34;01m.\u001b[39;00m\u001b[34;01mknn\u001b[39;00m\u001b[38;5;250m \u001b[39m\u001b[38;5;28;01mimport\u001b[39;00m knn_classifier\n\u001b[32m----> \u001b[39m\u001b[32m6\u001b[39m \u001b[43mknn_classifier\u001b[49m\u001b[43m(\u001b[49m\u001b[43mtrain_reduced\u001b[49m\u001b[43m,\u001b[49m\u001b[43m \u001b[49m\u001b[43mtest_reduced\u001b[49m\u001b[43m,\u001b[49m\u001b[43m \u001b[49m\u001b[43mtrain_labels\u001b[49m\u001b[43m,\u001b[49m\u001b[43m \u001b[49m\u001b[32;43m3\u001b[39;49m\u001b[43m)\u001b[49m\n",
      "\u001b[36mFile \u001b[39m\u001b[32mc:\\Users\\fedbe\\OneDrive\\Dokumente\\GitHub\\topic01_team01\\functions\\knn.py:36\u001b[39m, in \u001b[36mknn_classifier\u001b[39m\u001b[34m(train_reduced, train_labels, test_reduced, k)\u001b[39m\n\u001b[32m     30\u001b[39m predictions = []\n\u001b[32m     32\u001b[39m \u001b[38;5;28;01mfor\u001b[39;00m test_point \u001b[38;5;129;01min\u001b[39;00m test_reduced:\n\u001b[32m     33\u001b[39m     \u001b[38;5;66;03m# Compute Euclidean distances between the test point and all training samples.\u001b[39;00m\n\u001b[32m     34\u001b[39m     \u001b[38;5;66;03m# axis=1 ensures that we compute the distance for each row (sample).\u001b[39;00m\n\u001b[32m     35\u001b[39m     \u001b[38;5;66;03m# Using vectorized operations for efficiency.\u001b[39;00m\n\u001b[32m---> \u001b[39m\u001b[32m36\u001b[39m     distances = np.sqrt(np.sum((\u001b[43mtrain_reduced\u001b[49m\u001b[43m \u001b[49m\u001b[43m-\u001b[49m\u001b[43m \u001b[49m\u001b[43mtest_point\u001b[49m) ** \u001b[32m2\u001b[39m, axis=\u001b[32m1\u001b[39m))\n\u001b[32m     38\u001b[39m     \u001b[38;5;66;03m# Get the indices of the k smallest distances.\u001b[39;00m\n\u001b[32m     39\u001b[39m     k_indices = np.argsort(distances)[:k]\n",
      "\u001b[31mUFuncTypeError\u001b[39m: ufunc 'subtract' did not contain a loop with signature matching types (dtype('float32'), dtype('<U9')) -> None"
     ]
    }
   ],
   "source": [
    "# for MacOS users, the path separator is a forward slash, please uncomment the following line:\n",
    "# %run functions/knn.py\n",
    "# %run functions\\knn.py\n",
    "from functions.knn import knn_classifier\n",
    "\n",
    "knn_classifier(train_reduced, test_reduced, train_labels, 3)"
   ]
  },
  {
   "cell_type": "markdown",
   "id": "285b2eac",
   "metadata": {},
   "source": [
    "---\n",
    "\n",
    "## <a id=\"testing\"></a> 4. Model testing"
   ]
  },
  {
   "cell_type": "markdown",
   "id": "930d6ba8",
   "metadata": {},
   "source": [
    "---\n",
    "\n",
    "## <a id=\"accuracy\"></a> 5. Accuracy evaluation"
   ]
  },
  {
   "cell_type": "markdown",
   "id": "cfb70e98",
   "metadata": {},
   "source": [
    "---\n",
    "\n",
    "## <a id=\"further-analysis\"></a> 6. Further analysis"
   ]
  },
  {
   "cell_type": "markdown",
   "id": "a37345c7",
   "metadata": {},
   "source": [
    "\n"
   ]
  },
  {
   "cell_type": "code",
   "execution_count": null,
   "id": "839f2c2a",
   "metadata": {},
   "outputs": [],
   "source": [
    "# for MacOS users, the path separator is a forward slash, please uncomment the following line:\n",
    "# %run functions/furtheranalysis.py\n",
    "\n",
    "%run functions\\furtheranalysis.py"
   ]
  }
 ],
 "metadata": {
  "kernelspec": {
   "display_name": "Python 3",
   "language": "python",
   "name": "python3"
  },
  "language_info": {
   "codemirror_mode": {
    "name": "ipython",
    "version": 3
   },
   "file_extension": ".py",
   "mimetype": "text/x-python",
   "name": "python",
   "nbconvert_exporter": "python",
   "pygments_lexer": "ipython3",
   "version": "3.13.3"
  }
 },
 "nbformat": 4,
 "nbformat_minor": 5
}

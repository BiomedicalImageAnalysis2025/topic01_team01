{
 "cells": [
  {
   "cell_type": "markdown",
   "id": "e2d3fb0d",
   "metadata": {},
   "source": [
    "# Face recognition using k-Nearest Neighbor\n",
    "\n",
    "---\n",
    "\n",
    "### Contents\n",
    "0. Yale Face Dataset A\n",
    "1. Data Preprocessing\n",
    "2. Principal Component Analysis\n",
    "3. k-Nearest-Neighbor\n",
    "4. Evaluation of the Key Parameters used for the max. Performance\n",
    "5. Further Analysis\n",
    "\n",
    "<i> Note: To keep the notebook readable, it focuses on executing the code and showing the results and evaluation. The entire code can be found in the functions folder and the beloging .py files.\n",
    "In section 5 evaluations in order to optimize our output are performed. In Section 1-4 the model runs for demonstration, using the best parameters based on the evaluations below. Therefore, section 5 will show why the chosen parameters are the best for our Image analysis model.</i>\n",
    "\n",
    "---\n",
    "\n",
    "### Libraries"
   ]
  },
  {
   "cell_type": "code",
   "execution_count": 1,
   "id": "ba059aac",
   "metadata": {},
   "outputs": [],
   "source": [
    "import os\n",
    "import numpy as np\n",
    "import matplotlib.pyplot as plt\n",
    "from PIL import Image\n",
    "import seaborn as sns\n",
    "from sklearn.metrics import confusion_matrix\n",
    "from sklearn.neighbors import KNeighborsClassifier\n",
    "from sklearn.model_selection import StratifiedKFold\n",
    "from sklearn.metrics import accuracy_score, precision_score, recall_score, f1_score\n",
    "import pandas as pd"
   ]
  },
  {
   "cell_type": "markdown",
   "id": "6eed32b2",
   "metadata": {},
   "source": [
    "---\n",
    "## 0. Yale Face Dataset A"
   ]
  },
  {
   "cell_type": "markdown",
   "id": "60e700c4",
   "metadata": {},
   "source": [
    "The used *Yale Face Dataset A* contains 165 gray scale .gif files of uniform size includes multiple individuals with varying facial expressions and lighting conditions (*center-light, w/glasses, happy, left-light, w/o glasses, normal, right-light, sad, sleepy, surprised, and wink*).\n",
    "\n",
    "Originally published in 1997 at the Yale University's Center for Computational Vision and Control in the scientific paper \"Eigenfaces vs. Fisherfaces: recognition using class specific linear projection\" it is now used in research for Facial Recognition, PCA and so on. Due to the easy perspective and generell lightning settings, even simple and basic Face Recognition Models can be used to analyize the Dataset, making it possible to get a glimpse at the broad spectrum of Image Analysis without have years of experience in this scientific field of research."
   ]
  },
  {
   "cell_type": "code",
   "execution_count": null,
   "id": "796074eb",
   "metadata": {},
   "outputs": [],
   "source": [
    "img = Image.open(\"Yale_Face_Dataset_A.ppm.png\")\n",
    "plt.figure(figsize=(8, 8))\n",
    "plt.imshow(img)\n",
    "plt.axis(\"off\")\n",
    "plt.show()"
   ]
  },
  {
   "cell_type": "markdown",
   "id": "87081749",
   "metadata": {},
   "source": [
    "---\n",
    "\n",
    "## <a id=\"data-preprocessing\"></a> 1. Data preprocessing"
   ]
  },
  {
   "cell_type": "markdown",
   "id": "04bfe65d",
   "metadata": {},
   "source": [
    "In the first part, we need to perform different preprocessing steps before we can move on to Principal component analysis (PCA).\\\n",
    "First, we transform each image into a 1D vector to create a 2D data matrix where each row is a single sample (image) and each column corrresponds to one feature (pixel). This procedure is called <b> flattening</b>.\\\n",
    "Secondly, we <b> convert the integer formats to floating point</b> so that arithmetic operations behave correctly and <b> normalize </b> the data to the range [0,1] to ensure that each pixel has a similar scale.\\\n",
    "Before performing further preprocessing steps, we split the dataset into training and test data. The dataset contains 11 images of different facial expressions and light conditions of 15 subjects each. In order to split these images, 8 images of each subject are choosen randomly to use for training. All remaining images will serve as test data.\n",
    "Lastly, we <b> standardize</b>  the data by subtracting the mean and then dividing by the standard deviation for each feature (also called <b> z-transformation</b>)."
   ]
  },
  {
   "cell_type": "code",
   "execution_count": 2,
   "id": "fa2a7d0d",
   "metadata": {},
   "outputs": [
    {
     "name": "stdout",
     "output_type": "stream",
     "text": [
      "Total training images: 120\n",
      "Total testing images: 45\n"
     ]
    }
   ],
   "source": [
    "from functions.preprocessing import preprocessing\n",
    "\n",
    "# Path to the dataset folder. os.getcwd() gets the current working directory (in our case main.ipynb).\n",
    "# If the dataset folder is one level up from the current working directory,  use \"../\" before \"datasets\".\n",
    "folder_path = os.path.join(os.getcwd(), \"dataA\")\n",
    "seed = 527\n",
    "split_tt_ratio = 8/11\n",
    "\n",
    "final_train, train_labels, final_test, test_labels, test_arr = preprocessing(folder_path, seed, split_tt_ratio)"
   ]
  },
  {
   "cell_type": "markdown",
   "id": "4f251224",
   "metadata": {},
   "source": [
    "---\n",
    "\n",
    "## <a id=\"pca\"></a> 2. Pricinpal component analysis"
   ]
  },
  {
   "cell_type": "markdown",
   "id": "1d43e1f0",
   "metadata": {},
   "source": [
    "*Principal component analysis* is a frequently employed technique in machine learning and statistics for the management of high-dimensional data. This approach involves the reduction of data and the subsequent focus on the principal components that account for the maximum proportion of variance. After pre-processing our data, we have now entered all the information from the images into a matrix with the following dimensions [120, 77760] and [45, 77760]. However, since we want to use the k<sub>NN</sub> method to compare and assign individual pixels of each image, we must limit ourselves to the essential, meaningful (**principal components**). This dimensionality reduction is justified by the fact that only a few principal components are often sufficient to capture the essential structure of high-dimensional image data. For example, in the context of face recognition, it has been shown that approximately 40 principal components (\"eigenfaces\") are enough to obtain a very good representation of the entire image dataset (Turk & Pentland, 1991).\n",
    "\n",
    "By applying **Singular Value Decomposition (SVD)**, a mathematical operation for decomposing a matrix into orthogonal basis vectors, we identify the principal components of our dataset (highest variance explained by the eigenvalues). These components allow us to project the high-dimensional image data into a lower-dimensional space while preserving as much of the original variance as possible.\n",
    "\n",
    "In practice, we apply SVD to our data matrix to compute a lower dimensional projection matrix, in which we project our preprocessed train and test data. It is important to consider how much explained variance is needed to increase the accuracy of the model without increasing the required computing power too much, for our model this threshold was **26 PCs** with an explained variance of 90%."
   ]
  },
  {
   "cell_type": "code",
   "execution_count": 3,
   "id": "1b09623e",
   "metadata": {},
   "outputs": [
    {
     "name": "stdout",
     "output_type": "stream",
     "text": [
      "\n",
      "Succesfully reduced Matrix from (120, 77760) to (120, 26)\n",
      "\n",
      "Succesfully transformed Matrix from (45, 77760) to (45, 26)\n"
     ]
    }
   ],
   "source": [
    "from functions.pca import svd_pca\n",
    "from functions.pca import pca_transform\n",
    "\n",
    "n_components = 26\n",
    "\n",
    "projection_matrix, train_reduced, explained_variance_ratio = svd_pca(final_train,n_components)\n",
    "\n",
    "test_reduced = pca_transform(final_test,projection_matrix)"
   ]
  },
  {
   "cell_type": "markdown",
   "id": "8ddf2ce2",
   "metadata": {},
   "source": [
    "---\n",
    "\n",
    "## <a id=\"knn\"></a> 3. k-Nearest-Neighbor"
   ]
  },
  {
   "cell_type": "markdown",
   "id": "325cae81",
   "metadata": {},
   "source": [
    "Following the transformation of the data into a more processable format, the next step is to initiate the facial recognition process. The k<sub>NN</sub> algorithm is a simple, non-parametric method which is used for classification and regression. In our case, we use it to classify the test data based on its similarity to the known training examples.\n",
    "\n",
    "As each preprocessed test image is projected into the reduced space, the (euclidean) distance is measured between its position and the k-nearest neighbours of training images. As a result, the analyzed test data point is assigned to person clusters 1-15, whose predefined training data is most frequently below the nearest neighbors.\n",
    "\n",
    "The parameter **k** must be chosen such that enough neighbors are considered to avoid the influence of outliers, but not so many that the decision becomes too generalized or blurred by irrelevant data points. As the last part of the notebook analyzes in more detail, the model runs most accurately with the calculated distance to the nearest **3** neighbors and the subsequent assignment.\n",
    "\n",
    "### Model Performance\n",
    "\n",
    "The output of the k<sub>NN</Sub> algorithm also represents the final result of our project. Each test image is assigned to a person cluster based on its distance to the k nearest neighbors in the training set. This assignment is stored as the prediction. All predictions for the test set are then compared to the corresponding true labels. The final output — **the accuracy** — is calculated as the ratio of correctly predicted labels to the total number of test samples.\n",
    "\n",
    "**Accuracy** = $\\frac{\\text{correct predictions}}{\\text{total predictions}}$\n",
    "\n",
    "We created a confusion matrix to show, which images were wrongly assigned. On the diagonal of the matrix the amount of correct predictions per subject is observed. The colorbar indicates which color belongs to which amount of predictions per subject. A blue color outside of the diagonal means, that one (or several) images were assigned to the wrong person.\n"
   ]
  },
  {
   "cell_type": "code",
   "execution_count": null,
   "id": "0bfd0875",
   "metadata": {},
   "outputs": [
    {
     "name": "stdout",
     "output_type": "stream",
     "text": [
      "k-NN Classification Accuracy: 80.00%\n"
     ]
    },
    {
     "data": {
      "image/png": "[encoded data removed]",
      "text/plain": [
       "<Figure size 1100x600 with 2 Axes>"
      ]
     },
     "metadata": {},
     "output_type": "display_data"
    }
   ],
   "source": [
    "from functions.knn import knn_classifier\n",
    "\n",
    "# Number of neighbors to consider\n",
    "k = 3\n",
    "predictions, acc = knn_classifier(train_reduced, train_labels, test_reduced, test_labels, k)\n",
    "\n",
    "# Convert them to NumPy arrays if they aren’t already:\n",
    "true_labels = np.array(test_labels)\n",
    "pred_labels = np.array(predictions)\n",
    "\n",
    "# Compute the confusion matrix. It will have shape (n_classes, n_classes)\n",
    "cm = confusion_matrix(true_labels, pred_labels)\n",
    "\n",
    "#Determine unique class labels for better tick labeling\n",
    "classes_labels = np.unique(np.concatenate((true_labels, pred_labels)))\n",
    "\n",
    "plt.figure(figsize=(11, 6))\n",
    "heatmap = sns.heatmap(cm, cmap=\"Blues\", xticklabels=classes_labels, yticklabels=classes_labels)\n",
    "\n",
    "# Customize the colorbar annotations\n",
    "cbar = heatmap.collections[0].colorbar\n",
    "# Set specific tick positions\n",
    "cbar.set_ticks([0, 1, 2, 3]) \n",
    "# Labelpad is used to adjust the distance of the label from the colorbar\n",
    "cbar.set_label(\"Predictions per Subject\", rotation=270, labelpad=30)\n",
    "\n",
    "plt.xlabel('\\nPredicted Labels per Subject')\n",
    "plt.ylabel('True Labels per Subject\\n')\n",
    "plt.title(label=f\"\\nConfusion Matrix for KNN Classification (k = {k})\\n\", fontweight='bold')\n",
    "plt.show()"
   ]
  },
  {
   "cell_type": "markdown",
   "id": "755c2ccb",
   "metadata": {},
   "source": [
    "More over, a *missclassified images plot* was created, to visualize which subjects were not correctly assigned. This is a good basis to interpret why these images were missclassified. The plot shows that light conditions as well as glasses are hard to assign correctly. We ran the algorithm several times. The female subject's images (Subject 11) were correclty assigned in each round, indicating that long hair is easy recognizable for the *KNNClassifier*. To be able to compare and interpret the results we additionaly displayed the first image from each subject above."
   ]
  },
  {
   "cell_type": "code",
   "execution_count": null,
   "id": "75f85266",
   "metadata": {},
   "outputs": [],
   "source": [
    "# first we rescale the image to the original size of the training images\n",
    "image_height = 243\n",
    "image_width = 320\n",
    "\n",
    "original_images = []\n",
    "\n",
    "for img_file in os.listdir(folder_path):\n",
    "\n",
    "    img_path = os.path.join(folder_path, img_file)\n",
    "    with Image.open(img_path) as img:\n",
    "        img = np.array(img, dtype=np.float32)\n",
    "        original_images.append(img)\n",
    "\n",
    "\n",
    "original_shape_test_images = test_arr.reshape(-1, image_height, image_width)\n",
    "\n",
    "print(f\"final_test shape: {test_arr.shape}\")\n",
    "print(f\"test_images original shape: {original_shape_test_images.shape}\")\n",
    "\n",
    "# Determine misclassified indices\n",
    "#zipping the true labels and predictions to find misclassified images\n",
    "misclassified_indices = [i for i, (true, pred) in enumerate(zip(test_labels, predictions)) if true != pred]\n",
    "# Print the number of misclassified images and their indices\n",
    "print(f\"\\nTotal misclassified images found: {len(misclassified_indices)}\")\n",
    "print(misclassified_indices)\n",
    "\n",
    "stand_images = [0, 11, 22, 33, 44, 55, 66, 77, 88, 99, 110, 121, 132, 143, 154]\n",
    "\n",
    "plt.figure(figsize=(15, 8))\n",
    "plt.suptitle(\"Subject Images Dataset A\", fontsize=16, fontweight=\"bold\")\n",
    "\n",
    "# Create a grid of 3 rows x 5 columns\n",
    "rows, cols = 3, 5\n",
    "for idx, img_index in enumerate(stand_images):\n",
    "    plt.subplot(rows, cols, idx + 1)\n",
    "    plt.imshow(original_images[img_index], cmap='gray')\n",
    "    plt.axis('off')\n",
    "    plt.title(f\"\\n\\nSubject {idx+1}\", fontsize=13)\n",
    "\n",
    "plt.tight_layout(rect=[0, 0.03, 1, 0.95])\n",
    "plt.show()\n",
    "\n",
    "\n",
    "# Let's plot up to 16 misclassified images (or fewer if not available)\n",
    "num_to_plot = min(16, len(misclassified_indices))\n",
    "# for this a plot with subplots is created\n",
    "plt.figure(figsize=(12, 12))\n",
    "plt.title(\"Misclassified Test Images Dataset A\\n\\n\\n\\n\", fontsize=16, fontweight = \"bold\")\n",
    "plt.axis(\"off\")\n",
    "for idx, mis_idx in enumerate(misclassified_indices[:num_to_plot]):\n",
    "    plt.subplot(4,3, idx+1)\n",
    "    plt.imshow(original_shape_test_images[mis_idx], cmap='gray') # assuming grayscale images\n",
    "    plt.title(f\"\\n\\nPredicted: {predictions[mis_idx]}\\n\\nTrue:\")\n",
    "    plt.axis('off')\n",
    "plt.tight_layout(rect=[0, 0.03, 1, 0.95])"
   ]
  },
  {
   "cell_type": "markdown",
   "id": "ebb2bdc1",
   "metadata": {},
   "source": [
    "Additionally we used KNeighborsClassifier, a build-in function by sklearn, to apply KNN algorithm to our data and compare the outcome to our manually implemented Classifier. The accuracy scores differs in some rounds only in ~ 2 %, as KNeighborsClassifier uses a different approach to handle tie problem (further discussed in section 5)."
   ]
  },
  {
   "cell_type": "code",
   "execution_count": null,
   "id": "5a83e9b8",
   "metadata": {},
   "outputs": [],
   "source": [
    "knn = KNeighborsClassifier(3)\n",
    "knn.fit(train_reduced, train_labels)\n",
    "y_pred = knn.predict(test_reduced)\n",
    "\n",
    "accuracy = accuracy_score(test_labels, y_pred)\n",
    "\n",
    "print(f\"k-NN Accuracy with sklearn function: {accuracy * 100:.2f}%\")"
   ]
  },
  {
   "cell_type": "markdown",
   "id": "930d6ba8",
   "metadata": {},
   "source": [
    "---\n",
    "\n",
    "## <a id=\"accuracy\"></a> 4. Evaluation of the Key Parameters used for the max. Performance"
   ]
  },
  {
   "cell_type": "markdown",
   "id": "58d1c8c3",
   "metadata": {},
   "source": [
    "### 4.1 How much Variance is explained by each PC?\n",
    "\n",
    "First of all, we now want to define a Threshold as a basis to decide how much pricipal components (PC) we want to include in our analysis. We decided to use 90 % of Variance hence **26** PCs, this should include enough information for a good analysis. The corresponding plot shows a horizontal asymptotic behavior and grows exponentionally at the beginning. With higher amount of PCs the curve still grows but at a slower rate. Choosing a \"low\" amount of PCs means also faster processing."
   ]
  },
  {
   "cell_type": "code",
   "execution_count": null,
   "id": "607ba179",
   "metadata": {},
   "outputs": [],
   "source": [
    "projection_matrix_for_plot, train_reduced_for_plot, explained_variance_ratio_for_plot = svd_pca(final_train,120, verbose = False)\n",
    "\n",
    "# Range of components from 1 to 120\n",
    "n_pcs_for_plot = np.arange(1, 121)\n",
    "\n",
    "# times 100 to convert to percentage\n",
    "cumulative_variance = np.cumsum(explained_variance_ratio_for_plot*100)\n",
    "\n",
    "# We subtract 1 from n_components because python uses 0-based indexing\n",
    "highlight_n_plot_y = cumulative_variance[n_components-1]\n",
    "\n",
    "# Most of the following functions are used to create a good looking plot\n",
    "# essential part of the plot is sns.scatterplot\n",
    "# comments for the further plots were kept to a minimum, as they are similar to the previous plots\n",
    "sns.set_theme(style=\"ticks\", font_scale=1.2)\n",
    "plt.figure(figsize=(11, 6))\n",
    "sns.scatterplot(x=n_pcs_for_plot, y=cumulative_variance, marker = \"o\")\n",
    "plt.xlabel(\"\\nNumber of Principal Components\")\n",
    "plt.ylabel(\"Cumulative Variance Explained (%)\\n\")\n",
    "plt.title(label=\"\\nCumulative Variance Explained by Principal Components\\n\", fontweight='bold')\n",
    "plt.axhline(y=highlight_n_plot_y, color='r', linestyle='--', label=\"Threshold\")\n",
    "plt.scatter(n_components, highlight_n_plot_y, color=\"red\", s=25, zorder=2,\n",
    "            label=f\" Amount PCs used: {n_components} ({highlight_n_plot_y:.2f}%)\")\n",
    "plt.legend(loc = \"lower right\")\n",
    "plt.ylim(1, 110)\n",
    "plt.show()"
   ]
  },
  {
   "cell_type": "markdown",
   "id": "70e0ccf6",
   "metadata": {},
   "source": [
    "### 4.2  Determining the Best Train/Test Data Ratio\n",
    "\n",
    "For small datasets, the results may also depend on the way you choose to split the dataset. We need to use a certain amount of training images, so that the model recongnizes most of the unseen test images correctly. If no suffienct amount training data per subject is provided, KNN performs poorly, because not enough data was provided to learn, in our case to create sufficient cluster, where our images can be assigned to. Too much training data may also lead to poor results, especially for small datasets, as this can result in high variance and limited validation options.\n",
    "\n",
    "Therefore, following plot shows the KNN accuracy for all possible Train/Test Ratios for different k from 1 to 5. The same random seed (Number 527) and same amount of PCs (26) was used. Note that discrete numbers are used, as we have excatly 9 different data splitting scenarios. Nevertheless, the datapoints were connected for visibility, as with a scatterplot, at some scenarios it would be hard to evaluate how high the accuracy for which k is."
   ]
  },
  {
   "cell_type": "code",
   "execution_count": null,
   "id": "b5561584",
   "metadata": {},
   "outputs": [],
   "source": [
    "train_test_ratios = [1/11, 2/11, 4/11, 5/11, 6/11, 7/11, 8/11, 9/11, 10/11]\n",
    "\n",
    "# Store results for each k value separately\n",
    "# This will hold multiple DataFrames for different k values\n",
    "df_list = []\n",
    "\n",
    "for k_split in range(1,6):\n",
    "    # Reset accuracies for each k_split iteration\n",
    "    train_test_accuracies = []\n",
    "    # loop through the different train/test ratios\n",
    "    for train_test_ratio in train_test_ratios:\n",
    "        final_train_split, train_labels_split, final_test_split, test_labels_split, test_arr = preprocessing(folder_path, seed, train_test_ratio, verbose=False)\n",
    "\n",
    "        projection_matrix_split, train_reduced_split, explained_variance_ratio_split = svd_pca(final_train_split, n_components, verbose=False)\n",
    "\n",
    "        test_reduced_split = pca_transform(final_test_split, projection_matrix_split, verbose=False)\n",
    "\n",
    "        predictions_split, accuracy_split = knn_classifier(train_reduced_split, train_labels_split, test_reduced_split, test_labels_split, k_split, verbose=False)\n",
    "        train_test_accuracies.append(accuracy_split)\n",
    "\n",
    "    df_split = pd.DataFrame({\n",
    "        # Add k_split identifier\n",
    "        \"K Value\": [k_split] * len(train_test_ratios),\n",
    "        \"Amount of Training Data (%)\": [round(r * 100) for r in train_test_ratios],\n",
    "        \"KNN Accuracy per Train/Test Ratio (%)\": [round(a * 100, 2) for a in train_test_accuracies]\n",
    "    })\n",
    "    # Store DataFrame for this k_split\n",
    "    df_list.append(df_split)\n",
    "\n",
    "# Append results to the combined DataFrame\n",
    "df_combined = pd.concat(df_list, ignore_index=True)\n",
    "\n",
    "# Get the index of the highest accuracy\n",
    "max_index_split = df_combined['KNN Accuracy per Train/Test Ratio (%)'].idxmax()\n",
    "\n",
    "# Extract the best splitting and its accuracy\n",
    "best_split = df_combined.loc[max_index_split, 'Amount of Training Data (%)']\n",
    "highest_acc_split = df_combined.loc[max_index_split, 'KNN Accuracy per Train/Test Ratio (%)']\n",
    "\n",
    "plt.figure(figsize=(11, 6))\n",
    "sns.lineplot(data=df_combined, x=\"Amount of Training Data (%)\",\n",
    "              y=\"KNN Accuracy per Train/Test Ratio (%)\",\n",
    "              hue=\"K Value\", palette = \"viridis\", marker=\"o\")\n",
    "sns.set_theme(style=\"ticks\")\n",
    "\n",
    "plt.title(\"\\nAccuracy of KNN Classifier with different Training/Test Data Ratios per Subject\\n\", fontweight='bold')\n",
    "plt.xlabel(\"\\nAmount of used Training Data (%)\")\n",
    "plt.ylabel(\"KNN Accuracy per Train/Test Data Ratio (%)\\n\")\n",
    "plt.ylim(0, 100)\n",
    "plt.legend(title=\"k Values\", ncol=3, loc= \"lower right\")\n",
    "plt.show()"
   ]
  },
  {
   "cell_type": "markdown",
   "id": "dcfead6d",
   "metadata": {},
   "source": [
    "### 4.3 Determining the best k\n",
    "\n",
    "Using Build-In functions from sklearn, we want to find the best k by evaluating accuracy-, precision-, recall- and f1- score combined with K-fold cross validation. This ensures that we choose our k with robust parameters, which is important for small datasets, as variance may affect the results e.g. Hold-out validation is used. K-fold cross validation evaluates the model performance by splitting the dataset multiple times in training and validation sets. More precisely it splits the dataset into k subsets (folds), trains the model k times, each time using k-1 folds for training and 1 fold for testing and averages the results from all k runs to get a final performance score.\n",
    "\n",
    "Stratified k-Fold, a specific type of k-fold cross validation, is used to ensure class distribution remains balanced across folds, which is very important for classification tasks like face recognition. We train the model 5 times (5-fold), as this is widely used in scientific work (Diebold, F.X. (2014)). We use 120 training images for this approach (70/30 Splitting of our dataset), to have left 45 unseen test images, which showed, that the estimated parameter k truly perform well as shown in sections 1-4.\n",
    "\n",
    "To determine k even better, further scores were determined too, as mentioned in the beginning. **Text ergänzen**"
   ]
  },
  {
   "cell_type": "code",
   "execution_count": null,
   "id": "12dd1d5d",
   "metadata": {},
   "outputs": [],
   "source": [
    "# Candidate k values for the KNN classifier.\n",
    "ev_k_values = range(1,11)\n",
    "\n",
    "# List to gather results for each candidate k.\n",
    "results_ev = []\n",
    "\n",
    "# Initialize StratifiedKFold to preserve class distribution in each fold.\n",
    "# random_state ist der seed mit dem gesplittet wird => ÄNDERN!!!!!!!!!!\n",
    "skf = StratifiedKFold(n_splits=5, shuffle=True, random_state=83)\n",
    "\n",
    "# Loop over the candidate k values.\n",
    "for k_val in ev_k_values:\n",
    "    # Lists to store metric scores for each fold.\n",
    "    fold_acc = []\n",
    "    fold_prec = []\n",
    "    fold_rec = []\n",
    "    fold_f1 = []\n",
    "\n",
    "    # Perform the cross-validation.\n",
    "    for train_index, test_index in skf.split(train_reduced, train_labels):\n",
    "        # Create training and testing splits based on the indices.\n",
    "        X_train, X_test = train_reduced[train_index], train_reduced[test_index]\n",
    "        y_train, y_test = np.array(train_labels)[train_index], np.array(train_labels)[test_index]\n",
    "\n",
    "        # Initialize and train the KNN classifier with the current k.\n",
    "        y_pred, y_acc = knn_classifier(X_train,y_train, X_test, y_test, k_val, verbose=False)\n",
    "\n",
    "        # Compute evaluation metrics for the current fold.\n",
    "        fold_acc.append(accuracy_score(y_test, y_pred))\n",
    "        fold_prec.append(precision_score(y_test, y_pred, average=\"weighted\", zero_division=0))\n",
    "        fold_rec.append(recall_score(y_test, y_pred, average=\"weighted\", zero_division=0))\n",
    "        fold_f1.append(f1_score(y_test, y_pred, average=\"weighted\", zero_division=0))\n",
    "\n",
    "    # Compute mean scores across all folds.\n",
    "    mean_acc = np.mean(fold_acc)\n",
    "    mean_prec = np.mean(fold_prec)\n",
    "    mean_rec = np.mean(fold_rec)\n",
    "    mean_f1 = np.mean(fold_f1)\n",
    "\n",
    "    # Append the results for the current k into our list as a dictionary.\n",
    "    results_ev.append({\n",
    "        \"k\": k_val,\n",
    "        \"accuracy\": mean_acc,\n",
    "        \"precision\": mean_prec,\n",
    "        \"recall\": mean_rec,\n",
    "        \"f1\": mean_f1\n",
    "    })\n",
    "\n",
    "# Convert the list of dictionaries into a Pandas DataFrame.\n",
    "results_ev_k = pd.DataFrame(results_ev)\n",
    "# Print out the DataFrame.\n",
    "print(results_ev_k)"
   ]
  },
  {
   "cell_type": "markdown",
   "id": "d2b26220",
   "metadata": {},
   "source": [
    "The results show, that k = 1 performs best considering all parameters. As k = 1 is very sensitive to noise (e.g. single outliers) and prediction is based on just the closest sample, minor variations in the dataset (like different train-test splits or seeds) can cause big changes in accuracy. Additionally, overfitting might also be a problem here.\n",
    "\n",
    "Therefore we it would make sense to proceed with the other best k, k = 4. Nevertheless the following plot shows, that k = 3 has the second highest KNN-Accuracy score for the test images from our dataset. This shows that for real world output can differ from model evaluation techniques,  especially for small datasets. Therefore also accuracy percentages differ, which is due to the dataset size, as small changes in data distribution can significantly impact accuracy. Also Stratified k-Fold averages the results, meaning that it performs slightly better or worse in different folds and therefore may perform best with k = 3 in some rounds.\n",
    "\n",
    "k = 1 was not considered in the plot due to the reasons mentioned before. k = 2 has the same accuracy as k = 3, but if we would use 2 second nearest neighbors, a tie problem might occur more frequently, meaning that the 2 nearest neighbors are equaly distanced from the new datapoint. We reduced this probability by choosing an odd number. Our KNN classifier handels this problem by choosing the cluster, in which the first nearest neighbor was determined. This also leads to a fluctuation in accuracy, the implemented KNN-Classifier by sklearn uses randomness to solve to approach this problem. "
   ]
  },
  {
   "cell_type": "code",
   "execution_count": null,
   "id": "aa8084f3",
   "metadata": {},
   "outputs": [],
   "source": [
    "# Dictionary to store accuracies for each k value.\n",
    "accuracy_dict = {}\n",
    "\n",
    "#\\033[1m stands for bold;\\033[3m stands for italic \\033[0m resets the formatting to normal.\n",
    "print(f\"Evaluation of best \\033[3m\\033[1mk\\033[0m for:\")\n",
    "print(f\"\\033[3m\\033[1m{len(train_reduced)}\\033[0m training images and \\033[3m\\033[1m{len(test_reduced)}\\033[0m test images and \\033[3m\\033[1m{n_components}\\033[0m principal components\")\n",
    "\n",
    "# loop through k values from 1 to 20\n",
    "for k in range(1, 21):\n",
    "    predicted_labels, accuracy = knn_classifier(train_reduced, train_labels, test_reduced, test_labels, k, verbose=False)\n",
    "    # assigns the value of accuracy to the key k in the dictionary accuracy_dict.\n",
    "    # This means for each value of k (the number of neighbors in KNN), you store the corresponding classification accuracy.\n",
    "    accuracy_dict[k] = accuracy\n",
    "\n",
    "# Identify the best k value based on the highest accuracy\n",
    "best_k = max(accuracy_dict, key=accuracy_dict.get)\n",
    "highest_accuracy = accuracy_dict[best_k]*100\n",
    "print(f\"\\nBest k = {best_k} with accuracy: \\033[1m{highest_accuracy:.2f}%\\033[0m\")\n",
    "\n",
    "# First, sort the dictionary keys (k values) for plotting in order.\n",
    "k_values = sorted(accuracy_dict.keys())\n",
    "k_accuracy_values = [accuracy_dict[k]*100 for k in k_values]\n",
    "\n",
    "\n",
    "sns.set_theme(style=\"darkgrid\", font_scale=1.2)\n",
    "plt.figure(figsize=(11, 6))\n",
    "sns.scatterplot(x=k_values, y=k_accuracy_values, marker='o')\n",
    "\n",
    "plt.xlabel(\"\\nNumber of Neighbors (k)\")\n",
    "plt.ylabel(\"KNN Classification Accuracy (%)\\n\")\n",
    "plt.title(label=\"\\nKNN Classification Accuracy based on Number of Neighbors k\\n\", fontweight='bold')\n",
    "plt.scatter(best_k, highest_accuracy, color=\"red\", s=25, zorder=2, label=f\"Best performing k = {best_k} ({highest_accuracy:.2f}%)\")\n",
    "plt.legend()\n",
    "plt.ylim(50, 100)\n",
    "plt.xticks(np.arange(1,21, 1))\n",
    "plt.show()"
   ]
  },
  {
   "cell_type": "markdown",
   "id": "3dd21263",
   "metadata": {},
   "source": [
    "### 4.4 How to manipulate Data\n",
    "\n",
    "While k<sub>NN</sub> is formally considered a machine learning algorithm, it does not involve a true learning process in the traditional sense. Instead of learning a model from the training data, it simply stores the data and bases predictions on similarity measures at inference time **(memory-based learning)**. This instance leads to severe side effects like the very high sensitivity to dataset composition and random train-test splits, especially when the dataset is small like ours.\n",
    "\n",
    "To demonstrate this effect and provide a brief introduction to data sensitivity and manipulation, we examine how the model's classification accuracy varies when different random seeds are used for splitting the dataset into training and test subsets.\n",
    "\n",
    "*Note: A random seed determines the reproducibility of randomized processes, such as data splitting, and can significantly influence the performance results in small or imbalanced datasets.*"
   ]
  },
  {
   "cell_type": "code",
   "execution_count": null,
   "id": "2c7c0724",
   "metadata": {},
   "outputs": [
    {
     "data": {
      "image/png": "[encoded data removed]",
      "text/plain": [
       "<Figure size 600x600 with 1 Axes>"
      ]
     },
     "metadata": {},
     "output_type": "display_data"
    }
   ],
   "source": [
    "from functions.preprocessing import preprocessing\n",
    "\n",
    "# Lets run the KNN classifier with different random seeds to see how the accuracy changes.\n",
    "seeds = np.array(range(0,101))\n",
    "\n",
    "accuracies_seed = []\n",
    "\n",
    "for seed in seeds:\n",
    "    final_train_seed, train_labels_seed, final_test_seed, test_labels_seed, test_arr = preprocessing(folder_path, seed, split_tt_ratio, verbose=False)\n",
    "\n",
    "    projection_matrix_seed, train_reduced_seed, explained_variance_ratio_seed = svd_pca(final_train_seed, n_components, verbose=False)\n",
    "\n",
    "    test_reduced_seed = pca_transform(final_test_seed, projection_matrix_seed, verbose=False)\n",
    "\n",
    "    predictions_seed, accuracy_seed = knn_classifier(train_reduced_seed, train_labels_seed, test_reduced_seed, test_labels_seed, k=3, verbose=False)\n",
    "    accuracies_seed.append(accuracy_seed)\n",
    "\n",
    "df_seed = pd.DataFrame({\n",
    "    'Seed': seeds,\n",
    "    'KNN Accuracy per seed (%)': np.array(accuracies_seed) * 100\n",
    "})\n",
    "\n",
    "# Get the index of the highest accuracy\n",
    "max_index = df_seed['KNN Accuracy per seed (%)'].idxmax()\n",
    "\n",
    "# Extract the best seed and its accuracy\n",
    "best_seed = df_seed.loc[max_index, 'Seed']\n",
    "highest_acc_seed = df_seed.loc[max_index, 'KNN Accuracy per seed (%)']\n",
    "\n",
    "plt.figure(figsize=(6, 6))\n",
    "sns.boxplot(y=df_seed['KNN Accuracy per seed (%)'])\n",
    "sns.set_theme(style=\"ticks\")\n",
    "\n",
    "plt.title(\"\\nDistribution of KNN Accuracy Across Seed Numbers 1-100\\n\", fontweight='bold')\n",
    "plt.ylabel(\"KNN Accuracy per Seed (%)\\n\")\n",
    "plt.xlabel(\"\\nSeeds\")\n",
    "plt.ylim(0, 100)\n",
    "plt.tight_layout()\n",
    "plt.show()"
   ]
  },
  {
   "cell_type": "markdown",
   "id": "2e40bbb4",
   "metadata": {},
   "source": [
    "### 4.5 Eigenface Method without the first 3 Principal Components\n",
    "\n",
    "We already found the right amount of PCs - n_components = 26, but for this evaluation we test the model without the first 3 components to see if they explain identitiy-related information or capture lighting variations that we want to avoid. Belhumeur *et al.* tested this approach and showed that removing the initial three principal components does improve the performance of the Eigenface method in the presence of lighting variation.\n"
   ]
  },
  {
   "cell_type": "code",
   "execution_count": null,
   "id": "7c65fa40",
   "metadata": {},
   "outputs": [],
   "source": [
    "from functions.knn import knn_classifier\n",
    "\n",
    "# Exclude the first 3 components\n",
    "train_reduced_wo_3 = train_reduced[:, 3:]  \n",
    "test_reduced_wo_3 = test_reduced[:, 3:]\n",
    "\n",
    "k = 3\n",
    "predictions = knn_classifier(train_reduced_wo_3, train_labels, test_reduced_wo_3, test_labels, k)\n",
    "\n",
    "\n",
    "print(f\"\\nShape of train_reduced_eigenfaces: {train_reduced_wo_3.shape}\")\n",
    "print(f\"Shape of test_reduced_eigenfaces: {test_reduced_wo_3.shape}\")\n",
    "\n",
    "print(f\"\\nExplained variance of the first 3 components: {explained_variance_ratio_for_plot[:3]}\")\n",
    "print(f\"Cumulative explained variance ratio of the first 3 components: {np.sum(explained_variance_ratio_for_plot[:3]*100):.2f}%\")"
   ]
  },
  {
   "cell_type": "markdown",
   "id": "ad012ddf",
   "metadata": {},
   "source": [
    "To explore in detail, why these PCs have an impact on accuracy we plot all 3 PCs against each other:"
   ]
  },
  {
   "cell_type": "code",
   "execution_count": null,
   "id": "57a79551",
   "metadata": {},
   "outputs": [],
   "source": [
    "# Example PCA DataFrame with first few components\n",
    "df_first_6 = pd.DataFrame(train_reduced[:, :6], columns=[\"PC1\", \"PC2\", \"PC3\", \"PC4\",\"PC5\",\"PC6\"])\n",
    "\n",
    "\n",
    "combinations_first_6 = [(\"PC1\", \"PC2\"), (\"PC1\", \"PC3\"), (\"PC2\", \"PC3\"), (\"PC4\", \"PC5\"), (\"PC4\", \"PC6\"), (\"PC5\", \"PC6\")]\n",
    "\n",
    "sns.set_theme(style=\"ticks\")\n",
    "\n",
    "fig, axes = plt.subplots(3, 2, figsize=(12, 12))\n",
    "axes = axes.flatten()  # Flatten to make iteration easy\n",
    "\n",
    "for ax, (x, y) in zip(axes, combinations_first_6):\n",
    "    sns.scatterplot(\n",
    "        data=df_first_6,\n",
    "        x=x,\n",
    "        y=y,\n",
    "        s=60,\n",
    "        edgecolor=\"k\",\n",
    "        alpha = 0.6,\n",
    "        ax=ax\n",
    "    )\n",
    "    ax.set_title(f\"\\n{x} vs {y}\\n\", fontweight = \"bold\")\n",
    "\n",
    "plt.tight_layout(h_pad=2.0)\n",
    "plt.show()"
   ]
  },
  {
   "cell_type": "markdown",
   "id": "5c939831",
   "metadata": {},
   "source": [
    "We see that between all first 3 PCs, there are clusters ..."
   ]
  },
  {
   "cell_type": "markdown",
   "id": "cfb70e98",
   "metadata": {},
   "source": [
    "---\n",
    "\n",
    "## <a id=\"further-analysis\"></a> 5. Further analysis"
   ]
  },
  {
   "cell_type": "markdown",
   "id": "a37345c7",
   "metadata": {},
   "source": [
    "### 5.1 Yale Face Dataset B Analysis\n",
    "\n",
    "We saw, that 165 images are not enough to properly evaluate our self written code. Provided with a file called *Yale_B_32x32.mat*, we applied our functions to 2414 images of 38 subjects with mostly 64 images per subject. All images have the size 32x32 pixels and are rotated to the right (see following plot). In addition the following truncated dataframe indicates, that some subjects (11 to 17) have one or more images less. The images from a subject differ in light conditions and facial expressions.\n"
   ]
  },
  {
   "cell_type": "code",
   "execution_count": null,
   "id": "f2a8a35e",
   "metadata": {},
   "outputs": [],
   "source": [
    "from functions.furtheranalysis import datasetB_loading\n",
    "\n",
    "split_tt_ratio_B = 1690/2414\n",
    "\n",
    "images_B, labels_B  = datasetB_loading()\n",
    "\n",
    "# Create a DataFrame\n",
    "df_B = pd.DataFrame(labels_B, columns=[\"label\"])\n",
    "\n",
    "# Count the occurrences\n",
    "count_df_B = df_B[\"label\"].value_counts().sort_index().reset_index()\n",
    "count_df_B.columns = [\"Subject\", \"Amount of images\"]\n",
    "\n",
    "print(count_df_B[8:19])"
   ]
  },
  {
   "cell_type": "code",
   "execution_count": null,
   "id": "f0d8849b",
   "metadata": {},
   "outputs": [],
   "source": [
    "# Choose how many images you want to display\n",
    "num_images = 10\n",
    "num_cols = 5\n",
    "# auto-calculate rows\n",
    "num_rows = (num_images + num_cols - 1) // num_cols\n",
    "\n",
    "plt.figure(figsize=(12, 4))\n",
    "plt.title(\"Example Images Yale Face Dataset B\\n\\n\", fontweight= \"bold\")\n",
    "plt.axis(\"off\")\n",
    "\n",
    "for i in range(num_images):\n",
    "    plt.subplot(num_rows, num_cols, i + 1)\n",
    "    plt.imshow(images_B[i], cmap='gray')\n",
    "    plt.title(f\"Image {i}\")\n",
    "    plt.axis('off')\n",
    "\n",
    "plt.tight_layout()\n",
    "plt.show()"
   ]
  },
  {
   "cell_type": "markdown",
   "id": "7c228c3b",
   "metadata": {},
   "source": [
    "In order to apply PCA and K<sub>NN</sub>, we need to again to preprocess our data. As our data is stored differently and the corresponding labels are stored seperatly, we created a new preprocessing function escpecially for this dataset. It splits the dataset and the flattens, normalizes and standardizes the data. The outcome can be used in PCA and K<sub>NN</sub> without further adjustments."
   ]
  },
  {
   "cell_type": "code",
   "execution_count": null,
   "id": "c692395f",
   "metadata": {},
   "outputs": [],
   "source": [
    "from functions.furtheranalysis import preprocessing_dataset_B\n",
    "\n",
    "final_train_B, train_labels_B, final_test_B, test_labels_B = preprocessing_dataset_B(images_B, labels_B, seed, split_tt_ratio_B)"
   ]
  },
  {
   "cell_type": "markdown",
   "id": "897fedee",
   "metadata": {},
   "source": [
    "1024 dimensions are to much to work with, therefore PCA reduces the dimension to 200 PCs. These PCs explain 98.64% of variance (see plot below). We tried different amounts of PCs and realized that up to 200 the K<sub>NN</sub>-Accuracy improves significantly. Looking at the Choosen PC Ratio, we choose ~20% of possible PCs for both datasets, indicating that this might be a good Threshold."
   ]
  },
  {
   "cell_type": "code",
   "execution_count": null,
   "id": "839f2c2a",
   "metadata": {},
   "outputs": [],
   "source": [
    "from functions.pca import svd_pca\n",
    "from functions.pca import pca_transform\n",
    "\n",
    "n_components_B =  200\n",
    "\n",
    "projection_matrix_B, train_reduced_B, explained_variance_ratio_B = svd_pca(final_train_B, n_components_B)\n",
    "\n",
    "test_reduced_B = pca_transform(final_test_B,projection_matrix_B)\n"
   ]
  },
  {
   "cell_type": "code",
   "execution_count": null,
   "id": "afb49569",
   "metadata": {},
   "outputs": [],
   "source": [
    "projection_matrix_for_plot_B, train_reduced_for_plot_B, explained_variance_ratio_for_plot_B = svd_pca(final_train_B,1024, verbose = False)\n",
    "\n",
    "# Range of components from 1 to 100\n",
    "n_pcs_for_plot_B = np.arange(0, 1024)\n",
    "# times 100 to convert to percentage\n",
    "cumulative_variance_B = np.cumsum(explained_variance_ratio_for_plot_B*100)\n",
    "# We subtract 1 from n_components because python uses 0-based indexing\n",
    "highlight_n_plot_y_B = cumulative_variance_B[n_components_B-1]\n",
    "\n",
    "# Most of the following functions are used to create a good looking plot\n",
    "# essential part of the plot is sns.scatterplot\n",
    "sns.set_theme(style=\"ticks\", font_scale=1.2)\n",
    "plt.figure(figsize=(11, 6))\n",
    "sns.scatterplot(x=n_pcs_for_plot_B, y=cumulative_variance_B, marker = \"o\")\n",
    "plt.xlabel(\"\\nNumber of Principal Components\")\n",
    "plt.ylabel(\"Cumulative Variance Explained (%)\\n\")\n",
    "plt.title(label=\"\\nCumulative Variance Explained by Principal Components\\n\", fontweight='bold')\n",
    "plt.axhline(y=highlight_n_plot_y_B, color='r', linestyle='--', label=\"Threshold\")\n",
    "plt.scatter(n_components_B, highlight_n_plot_y_B, color=\"red\", s=25, zorder=2, \n",
    "            label=f\" Amount PCs used: {n_components_B} ({highlight_n_plot_y_B:.2f}%)\")\n",
    "plt.legend(loc = \"lower right\")\n",
    "plt.ylim(1, 110)\n",
    "plt.show()"
   ]
  },
  {
   "cell_type": "markdown",
   "id": "f9119bf6",
   "metadata": {},
   "source": [
    "Next *knn_classifier* is used to assign unseen test images to one of the 38 subjects. We observe ~ 65 % Accuracy, which is suprisingly high, considering that Dataset B contains only 32x32 pixel images with lots of light variantion. "
   ]
  },
  {
   "cell_type": "code",
   "execution_count": null,
   "id": "a4ece47c",
   "metadata": {},
   "outputs": [],
   "source": [
    "from functions.knn import knn_classifier\n",
    "\n",
    "k = 3\n",
    "predictions_B = knn_classifier(train_reduced_B, train_labels_B, test_reduced_B, test_labels_B, k)"
   ]
  },
  {
   "cell_type": "markdown",
   "id": "5aacf228",
   "metadata": {},
   "source": [
    "Lastly we remove the first 3 PCs, to see if the accuracy improves for this dataset as well."
   ]
  },
  {
   "cell_type": "code",
   "execution_count": null,
   "id": "b5d73621",
   "metadata": {},
   "outputs": [],
   "source": [
    "train_reduced_B_wo_3 = train_reduced_B[:, 3:]  # Exclude the first 3 components\n",
    "test_reduced_B_wo_3 = test_reduced_B[:, 3:]  # Exclude the first 3 components\n",
    "\n",
    "k = 3\n",
    "predictions_B = knn_classifier(train_reduced_B_wo_3, train_labels_B, test_reduced_B_wo_3, test_labels_B, k)"
   ]
  },
  {
   "cell_type": "markdown",
   "id": "956066f2",
   "metadata": {},
   "source": [
    "The accuracy improved in about 20%, which again shows, that these PCs carry a lot of variance connected to light conditions."
   ]
  }
 ],
 "metadata": {
  "kernelspec": {
   "display_name": "Python 3",
   "language": "python",
   "name": "python3"
  },
  "language_info": {
   "codemirror_mode": {
    "name": "ipython",
    "version": 3
   },
   "file_extension": ".py",
   "mimetype": "text/x-python",
   "name": "python",
   "nbconvert_exporter": "python",
   "pygments_lexer": "ipython3",
   "version": "3.13.3"
  }
 },
 "nbformat": 4,
 "nbformat_minor": 5
}

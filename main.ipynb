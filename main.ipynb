{
 "cells": [
  {
   "cell_type": "markdown",
   "id": "e2d3fb0d",
   "metadata": {},
   "source": [
    "# Face recognition using k-Nearest Neighbor\n",
    "\n",
    "---\n",
    "\n",
    "### Contents\n",
    "<ol>\n",
    "    <li><a href=\"#data-preprocessing\" style=\"color: currentColor\">Data preprocessing</a></li>\n",
    "    <li><a href=\"#pca\" style=\"color: currentColor\">Principal Component Analysis</a></li>\n",
    "    <li><a href=\"#knn\" style=\"color: currentColor\">k-Nearest-Neighbor</a></li>\n",
    "    <li><a href=\"#testing\" style=\"color: currentColor\">Model testing</a></li>\n",
    "    <li><a href=\"#accuracy\" style=\"color: currentColor\">Accuracy evaluation</a></li>\n",
    "    <li><a href=\"#further-analysis\" style=\"color: currentColor\">Further Analysis</a></li>\n",
    "</ol>\n",
    "<br>\n",
    "\n",
    "<i> Note: To keep the notebook readable, it focuses on executing the code and showing the results. The entire code can be found in the functions folder and the beloging .py files.</i>\n",
    "\n",
    "---\n",
    "\n",
    "### Libraries"
   ]
  },
  {
   "cell_type": "code",
   "execution_count": 1,
   "id": "ba059aac",
   "metadata": {},
   "outputs": [],
   "source": [
    "import os\n",
    "import numpy as np\n",
    "import matplotlib.pyplot as plt\n",
    "from PIL import Image\n",
    "import seaborn as sns\n",
    "from sklearn.metrics import confusion_matrix\n",
    "import plotly.figure_factory as ff\n",
    "import plotly.graph_objects as go\n",
    "\n",
    "\n",
    "# os.chdir(r\"C:\\Users\\fedbe\\OneDrive\\Dokumente\\GitHub\\topic01_team01\")\n",
    "# checks if the current working directory is correct:\n",
    "# print(os.getcwd())"
   ]
  },
  {
   "cell_type": "markdown",
   "id": "87081749",
   "metadata": {},
   "source": [
    "---\n",
    "\n",
    "## <a id=\"data-preprocessing\"></a> 1. Data preprocessing \n",
    "\n",
    "(INSERT SOURCES?) (INCLUDE MORE INFO; e.g. FORMULAS TO DESCRIBE ALL STEPS BETTER?)\n",
    "\n",
    "In the first part, we need to perform different preprocessing steps before we can move on to Principal component analysis (PCA).\\\n",
    "First, we transform each image into a 1D vector to create a 2D data matrix where each row is a single sample (image) and each column corrresponds to one feature (pixel). This procedure is called <b> flattening</b>.\\\n",
    "Secondly, we <b> convert the integer formats to floating point</b> so that arithmetic operations behave correctly and <b> normalize </b> the data to the range [0,1] to ensure that each pixel has a similar scale.\\\n",
    "Before performing further preprocessing steps, we split the dataset into training and test data. The dataset contains 11 images expressing different facial expression and light conditions of 15 subjects each. In order to split these images, 8 images of each subject are choosen randomly to use for training. All remaining images will serve as test data.\n",
    "Next, we <b> center our data </b> . This is done, by subtracting the mean value for each pixel position across the dataset. This ensures that your dataset has a zero mean, which is essential because PCA will then capture the directions of maximum variance around this mean.\\\n",
    "Lastly, we <b> standardize</b>  the data by subtracting the mean and then dividing by the standard deviation for each feature (also called <b> z-transformation</b>)."
   ]
  },
  {
   "cell_type": "code",
   "execution_count": 2,
   "id": "fa2a7d0d",
   "metadata": {},
   "outputs": [
    {
     "name": "stdout",
     "output_type": "stream",
     "text": [
      "Total training images: 120\n",
      "Total testing images: 45\n",
      "\n",
      "After preprocessing:\n",
      "Training data shape: (120, 77760)\n",
      "Testing data shape: (45, 77760)\n",
      "\n",
      "Verification of preprocessing:\n",
      "First training image: Mean ≈ 0.4097, Std ≈ 0.5783\n"
     ]
    }
   ],
   "source": [
    "# for MacOS users, the path separator is a forward slash, please uncomment the following line and comment the other one:\n",
    "# %run functions/preprocessing.py\n",
    "\n",
    "%run functions\\preprocessing.py\n"
   ]
  },
  {
   "cell_type": "markdown",
   "id": "4f251224",
   "metadata": {},
   "source": [
    "---\n",
    "\n",
    "## <a id=\"pca\"></a> 2. Pricinpal component analysis"
   ]
  },
  {
   "cell_type": "markdown",
   "id": "1d43e1f0",
   "metadata": {},
   "source": []
  },
  {
   "cell_type": "code",
   "execution_count": 3,
   "id": "1b09623e",
   "metadata": {},
   "outputs": [
    {
     "name": "stdout",
     "output_type": "stream",
     "text": [
      "Succesfully reduced Matrix from (120, 77760) to (120, 40)\n",
      "\n",
      "Succesfully transformed Matrix from (45, 77760) to (45, 40)\n"
     ]
    }
   ],
   "source": [
    "from functions.pca import svd_pca\n",
    "from functions.pca import pca_transform\n",
    "\n",
    "n_components = 40  # Number of components to keep, can be adjusted later\n",
    "# semicolon is used to suppress output of the last line in Jupyter notebooks, so in our case it prevents the return output\n",
    "projection_matrix, train_reduced, explained_variance_ratio = svd_pca(final_train,n_components)\n",
    "test_reduced = pca_transform(final_test,projection_matrix)\n",
    "# Maybe already implement here some Plots, to show which PC are the most important ones\n",
    "# and what number of n_components is the best to use for our model instead of doing everything in 5.?\n",
    "# "
   ]
  },
  {
   "cell_type": "markdown",
   "id": "8ddf2ce2",
   "metadata": {},
   "source": [
    "---\n",
    "\n",
    "## <a id=\"knn\"></a> 3. k-Nearest-Neighbor"
   ]
  },
  {
   "cell_type": "markdown",
   "id": "325cae81",
   "metadata": {},
   "source": []
  },
  {
   "cell_type": "code",
   "execution_count": 4,
   "id": "0bfd0875",
   "metadata": {},
   "outputs": [
    {
     "name": "stdout",
     "output_type": "stream",
     "text": [
      "k-NN Classification Accuracy: 95.56%\n"
     ]
    },
    {
     "data": {
      "application/vnd.plotly.v1+json": {
       "config": {
        "plotlyServerURL": "https://plot.ly"
       },
       "data": [
        {
         "colorscale": [
          [
           0,
           "rgb(247,251,255)"
          ],
          [
           0.125,
           "rgb(222,235,247)"
          ],
          [
           0.25,
           "rgb(198,219,239)"
          ],
          [
           0.375,
           "rgb(158,202,225)"
          ],
          [
           0.5,
           "rgb(107,174,214)"
          ],
          [
           0.625,
           "rgb(66,146,198)"
          ],
          [
           0.75,
           "rgb(33,113,181)"
          ],
          [
           0.875,
           "rgb(8,81,156)"
          ],
          [
           1,
           "rgb(8,48,107)"
          ]
         ],
         "reversescale": false,
         "showscale": false,
         "type": "heatmap",
         "x": [
          "subject01",
          "subject02",
          "subject03",
          "subject04",
          "subject05",
          "subject06",
          "subject07",
          "subject08",
          "subject09",
          "subject10",
          "subject11",
          "subject12",
          "subject13",
          "subject14",
          "subject15"
         ],
         "y": [
          "subject01",
          "subject02",
          "subject03",
          "subject04",
          "subject05",
          "subject06",
          "subject07",
          "subject08",
          "subject09",
          "subject10",
          "subject11",
          "subject12",
          "subject13",
          "subject14",
          "subject15"
         ],
         "z": {
          "bdata": "AwAAAAAAAAAAAAAAAAAAAAMAAAAAAAAAAAAAAAAAAAADAAAAAAAAAAAAAAAAAAAAAwAAAAAAAAAAAAAAAAAAAAMAAAAAAAAAAAAAAAAAAAADAAAAAAAAAAAAAAAAAAAAAwAAAAAAAAAAAAABAAAAAAIAAAAAAAAAAAAAAAAAAAADAAAAAAAAAAAAAAAAAAAAAwAAAAAAAAAAAAAAAAAAAAMAAAAAAAAAAAAAAAAAAAADAAAAAAAAAAAAAQAAAAAAAgAAAAAAAAAAAAAAAAAAAAMAAAAAAAAAAAAAAAAAAAAD",
          "dtype": "i1",
          "shape": "15, 15"
         }
        }
       ],
       "layout": {
        "annotations": [
         {
          "font": {
           "color": "#FFFFFF"
          },
          "showarrow": false,
          "text": "3",
          "x": "subject01",
          "xref": "x",
          "y": "subject01",
          "yref": "y"
         },
         {
          "font": {
           "color": "#000000"
          },
          "showarrow": false,
          "text": "0",
          "x": "subject02",
          "xref": "x",
          "y": "subject01",
          "yref": "y"
         },
         {
          "font": {
           "color": "#000000"
          },
          "showarrow": false,
          "text": "0",
          "x": "subject03",
          "xref": "x",
          "y": "subject01",
          "yref": "y"
         },
         {
          "font": {
           "color": "#000000"
          },
          "showarrow": false,
          "text": "0",
          "x": "subject04",
          "xref": "x",
          "y": "subject01",
          "yref": "y"
         },
         {
          "font": {
           "color": "#000000"
          },
          "showarrow": false,
          "text": "0",
          "x": "subject05",
          "xref": "x",
          "y": "subject01",
          "yref": "y"
         },
         {
          "font": {
           "color": "#000000"
          },
          "showarrow": false,
          "text": "0",
          "x": "subject06",
          "xref": "x",
          "y": "subject01",
          "yref": "y"
         },
         {
          "font": {
           "color": "#000000"
          },
          "showarrow": false,
          "text": "0",
          "x": "subject07",
          "xref": "x",
          "y": "subject01",
          "yref": "y"
         },
         {
          "font": {
           "color": "#000000"
          },
          "showarrow": false,
          "text": "0",
          "x": "subject08",
          "xref": "x",
          "y": "subject01",
          "yref": "y"
         },
         {
          "font": {
           "color": "#000000"
          },
          "showarrow": false,
          "text": "0",
          "x": "subject09",
          "xref": "x",
          "y": "subject01",
          "yref": "y"
         },
         {
          "font": {
           "color": "#000000"
          },
          "showarrow": false,
          "text": "0",
          "x": "subject10",
          "xref": "x",
          "y": "subject01",
          "yref": "y"
         },
         {
          "font": {
           "color": "#000000"
          },
          "showarrow": false,
          "text": "0",
          "x": "subject11",
          "xref": "x",
          "y": "subject01",
          "yref": "y"
         },
         {
          "font": {
           "color": "#000000"
          },
          "showarrow": false,
          "text": "0",
          "x": "subject12",
          "xref": "x",
          "y": "subject01",
          "yref": "y"
         },
         {
          "font": {
           "color": "#000000"
          },
          "showarrow": false,
          "text": "0",
          "x": "subject13",
          "xref": "x",
          "y": "subject01",
          "yref": "y"
         },
         {
          "font": {
           "color": "#000000"
          },
          "showarrow": false,
          "text": "0",
          "x": "subject14",
          "xref": "x",
          "y": "subject01",
          "yref": "y"
         },
         {
          "font": {
           "color": "#000000"
          },
          "showarrow": false,
          "text": "0",
          "x": "subject15",
          "xref": "x",
          "y": "subject01",
          "yref": "y"
         },
         {
          "font": {
           "color": "#000000"
          },
          "showarrow": false,
          "text": "0",
          "x": "subject01",
          "xref": "x",
          "y": "subject02",
          "yref": "y"
         },
         {
          "font": {
           "color": "#FFFFFF"
          },
          "showarrow": false,
          "text": "3",
          "x": "subject02",
          "xref": "x",
          "y": "subject02",
          "yref": "y"
         },
         {
          "font": {
           "color": "#000000"
          },
          "showarrow": false,
          "text": "0",
          "x": "subject03",
          "xref": "x",
          "y": "subject02",
          "yref": "y"
         },
         {
          "font": {
           "color": "#000000"
          },
          "showarrow": false,
          "text": "0",
          "x": "subject04",
          "xref": "x",
          "y": "subject02",
          "yref": "y"
         },
         {
          "font": {
           "color": "#000000"
          },
          "showarrow": false,
          "text": "0",
          "x": "subject05",
          "xref": "x",
          "y": "subject02",
          "yref": "y"
         },
         {
          "font": {
           "color": "#000000"
          },
          "showarrow": false,
          "text": "0",
          "x": "subject06",
          "xref": "x",
          "y": "subject02",
          "yref": "y"
         },
         {
          "font": {
           "color": "#000000"
          },
          "showarrow": false,
          "text": "0",
          "x": "subject07",
          "xref": "x",
          "y": "subject02",
          "yref": "y"
         },
         {
          "font": {
           "color": "#000000"
          },
          "showarrow": false,
          "text": "0",
          "x": "subject08",
          "xref": "x",
          "y": "subject02",
          "yref": "y"
         },
         {
          "font": {
           "color": "#000000"
          },
          "showarrow": false,
          "text": "0",
          "x": "subject09",
          "xref": "x",
          "y": "subject02",
          "yref": "y"
         },
         {
          "font": {
           "color": "#000000"
          },
          "showarrow": false,
          "text": "0",
          "x": "subject10",
          "xref": "x",
          "y": "subject02",
          "yref": "y"
         },
         {
          "font": {
           "color": "#000000"
          },
          "showarrow": false,
          "text": "0",
          "x": "subject11",
          "xref": "x",
          "y": "subject02",
          "yref": "y"
         },
         {
          "font": {
           "color": "#000000"
          },
          "showarrow": false,
          "text": "0",
          "x": "subject12",
          "xref": "x",
          "y": "subject02",
          "yref": "y"
         },
         {
          "font": {
           "color": "#000000"
          },
          "showarrow": false,
          "text": "0",
          "x": "subject13",
          "xref": "x",
          "y": "subject02",
          "yref": "y"
         },
         {
          "font": {
           "color": "#000000"
          },
          "showarrow": false,
          "text": "0",
          "x": "subject14",
          "xref": "x",
          "y": "subject02",
          "yref": "y"
         },
         {
          "font": {
           "color": "#000000"
          },
          "showarrow": false,
          "text": "0",
          "x": "subject15",
          "xref": "x",
          "y": "subject02",
          "yref": "y"
         },
         {
          "font": {
           "color": "#000000"
          },
          "showarrow": false,
          "text": "0",
          "x": "subject01",
          "xref": "x",
          "y": "subject03",
          "yref": "y"
         },
         {
          "font": {
           "color": "#000000"
          },
          "showarrow": false,
          "text": "0",
          "x": "subject02",
          "xref": "x",
          "y": "subject03",
          "yref": "y"
         },
         {
          "font": {
           "color": "#FFFFFF"
          },
          "showarrow": false,
          "text": "3",
          "x": "subject03",
          "xref": "x",
          "y": "subject03",
          "yref": "y"
         },
         {
          "font": {
           "color": "#000000"
          },
          "showarrow": false,
          "text": "0",
          "x": "subject04",
          "xref": "x",
          "y": "subject03",
          "yref": "y"
         },
         {
          "font": {
           "color": "#000000"
          },
          "showarrow": false,
          "text": "0",
          "x": "subject05",
          "xref": "x",
          "y": "subject03",
          "yref": "y"
         },
         {
          "font": {
           "color": "#000000"
          },
          "showarrow": false,
          "text": "0",
          "x": "subject06",
          "xref": "x",
          "y": "subject03",
          "yref": "y"
         },
         {
          "font": {
           "color": "#000000"
          },
          "showarrow": false,
          "text": "0",
          "x": "subject07",
          "xref": "x",
          "y": "subject03",
          "yref": "y"
         },
         {
          "font": {
           "color": "#000000"
          },
          "showarrow": false,
          "text": "0",
          "x": "subject08",
          "xref": "x",
          "y": "subject03",
          "yref": "y"
         },
         {
          "font": {
           "color": "#000000"
          },
          "showarrow": false,
          "text": "0",
          "x": "subject09",
          "xref": "x",
          "y": "subject03",
          "yref": "y"
         },
         {
          "font": {
           "color": "#000000"
          },
          "showarrow": false,
          "text": "0",
          "x": "subject10",
          "xref": "x",
          "y": "subject03",
          "yref": "y"
         },
         {
          "font": {
           "color": "#000000"
          },
          "showarrow": false,
          "text": "0",
          "x": "subject11",
          "xref": "x",
          "y": "subject03",
          "yref": "y"
         },
         {
          "font": {
           "color": "#000000"
          },
          "showarrow": false,
          "text": "0",
          "x": "subject12",
          "xref": "x",
          "y": "subject03",
          "yref": "y"
         },
         {
          "font": {
           "color": "#000000"
          },
          "showarrow": false,
          "text": "0",
          "x": "subject13",
          "xref": "x",
          "y": "subject03",
          "yref": "y"
         },
         {
          "font": {
           "color": "#000000"
          },
          "showarrow": false,
          "text": "0",
          "x": "subject14",
          "xref": "x",
          "y": "subject03",
          "yref": "y"
         },
         {
          "font": {
           "color": "#000000"
          },
          "showarrow": false,
          "text": "0",
          "x": "subject15",
          "xref": "x",
          "y": "subject03",
          "yref": "y"
         },
         {
          "font": {
           "color": "#000000"
          },
          "showarrow": false,
          "text": "0",
          "x": "subject01",
          "xref": "x",
          "y": "subject04",
          "yref": "y"
         },
         {
          "font": {
           "color": "#000000"
          },
          "showarrow": false,
          "text": "0",
          "x": "subject02",
          "xref": "x",
          "y": "subject04",
          "yref": "y"
         },
         {
          "font": {
           "color": "#000000"
          },
          "showarrow": false,
          "text": "0",
          "x": "subject03",
          "xref": "x",
          "y": "subject04",
          "yref": "y"
         },
         {
          "font": {
           "color": "#FFFFFF"
          },
          "showarrow": false,
          "text": "3",
          "x": "subject04",
          "xref": "x",
          "y": "subject04",
          "yref": "y"
         },
         {
          "font": {
           "color": "#000000"
          },
          "showarrow": false,
          "text": "0",
          "x": "subject05",
          "xref": "x",
          "y": "subject04",
          "yref": "y"
         },
         {
          "font": {
           "color": "#000000"
          },
          "showarrow": false,
          "text": "0",
          "x": "subject06",
          "xref": "x",
          "y": "subject04",
          "yref": "y"
         },
         {
          "font": {
           "color": "#000000"
          },
          "showarrow": false,
          "text": "0",
          "x": "subject07",
          "xref": "x",
          "y": "subject04",
          "yref": "y"
         },
         {
          "font": {
           "color": "#000000"
          },
          "showarrow": false,
          "text": "0",
          "x": "subject08",
          "xref": "x",
          "y": "subject04",
          "yref": "y"
         },
         {
          "font": {
           "color": "#000000"
          },
          "showarrow": false,
          "text": "0",
          "x": "subject09",
          "xref": "x",
          "y": "subject04",
          "yref": "y"
         },
         {
          "font": {
           "color": "#000000"
          },
          "showarrow": false,
          "text": "0",
          "x": "subject10",
          "xref": "x",
          "y": "subject04",
          "yref": "y"
         },
         {
          "font": {
           "color": "#000000"
          },
          "showarrow": false,
          "text": "0",
          "x": "subject11",
          "xref": "x",
          "y": "subject04",
          "yref": "y"
         },
         {
          "font": {
           "color": "#000000"
          },
          "showarrow": false,
          "text": "0",
          "x": "subject12",
          "xref": "x",
          "y": "subject04",
          "yref": "y"
         },
         {
          "font": {
           "color": "#000000"
          },
          "showarrow": false,
          "text": "0",
          "x": "subject13",
          "xref": "x",
          "y": "subject04",
          "yref": "y"
         },
         {
          "font": {
           "color": "#000000"
          },
          "showarrow": false,
          "text": "0",
          "x": "subject14",
          "xref": "x",
          "y": "subject04",
          "yref": "y"
         },
         {
          "font": {
           "color": "#000000"
          },
          "showarrow": false,
          "text": "0",
          "x": "subject15",
          "xref": "x",
          "y": "subject04",
          "yref": "y"
         },
         {
          "font": {
           "color": "#000000"
          },
          "showarrow": false,
          "text": "0",
          "x": "subject01",
          "xref": "x",
          "y": "subject05",
          "yref": "y"
         },
         {
          "font": {
           "color": "#000000"
          },
          "showarrow": false,
          "text": "0",
          "x": "subject02",
          "xref": "x",
          "y": "subject05",
          "yref": "y"
         },
         {
          "font": {
           "color": "#000000"
          },
          "showarrow": false,
          "text": "0",
          "x": "subject03",
          "xref": "x",
          "y": "subject05",
          "yref": "y"
         },
         {
          "font": {
           "color": "#000000"
          },
          "showarrow": false,
          "text": "0",
          "x": "subject04",
          "xref": "x",
          "y": "subject05",
          "yref": "y"
         },
         {
          "font": {
           "color": "#FFFFFF"
          },
          "showarrow": false,
          "text": "3",
          "x": "subject05",
          "xref": "x",
          "y": "subject05",
          "yref": "y"
         },
         {
          "font": {
           "color": "#000000"
          },
          "showarrow": false,
          "text": "0",
          "x": "subject06",
          "xref": "x",
          "y": "subject05",
          "yref": "y"
         },
         {
          "font": {
           "color": "#000000"
          },
          "showarrow": false,
          "text": "0",
          "x": "subject07",
          "xref": "x",
          "y": "subject05",
          "yref": "y"
         },
         {
          "font": {
           "color": "#000000"
          },
          "showarrow": false,
          "text": "0",
          "x": "subject08",
          "xref": "x",
          "y": "subject05",
          "yref": "y"
         },
         {
          "font": {
           "color": "#000000"
          },
          "showarrow": false,
          "text": "0",
          "x": "subject09",
          "xref": "x",
          "y": "subject05",
          "yref": "y"
         },
         {
          "font": {
           "color": "#000000"
          },
          "showarrow": false,
          "text": "0",
          "x": "subject10",
          "xref": "x",
          "y": "subject05",
          "yref": "y"
         },
         {
          "font": {
           "color": "#000000"
          },
          "showarrow": false,
          "text": "0",
          "x": "subject11",
          "xref": "x",
          "y": "subject05",
          "yref": "y"
         },
         {
          "font": {
           "color": "#000000"
          },
          "showarrow": false,
          "text": "0",
          "x": "subject12",
          "xref": "x",
          "y": "subject05",
          "yref": "y"
         },
         {
          "font": {
           "color": "#000000"
          },
          "showarrow": false,
          "text": "0",
          "x": "subject13",
          "xref": "x",
          "y": "subject05",
          "yref": "y"
         },
         {
          "font": {
           "color": "#000000"
          },
          "showarrow": false,
          "text": "0",
          "x": "subject14",
          "xref": "x",
          "y": "subject05",
          "yref": "y"
         },
         {
          "font": {
           "color": "#000000"
          },
          "showarrow": false,
          "text": "0",
          "x": "subject15",
          "xref": "x",
          "y": "subject05",
          "yref": "y"
         },
         {
          "font": {
           "color": "#000000"
          },
          "showarrow": false,
          "text": "0",
          "x": "subject01",
          "xref": "x",
          "y": "subject06",
          "yref": "y"
         },
         {
          "font": {
           "color": "#000000"
          },
          "showarrow": false,
          "text": "0",
          "x": "subject02",
          "xref": "x",
          "y": "subject06",
          "yref": "y"
         },
         {
          "font": {
           "color": "#000000"
          },
          "showarrow": false,
          "text": "0",
          "x": "subject03",
          "xref": "x",
          "y": "subject06",
          "yref": "y"
         },
         {
          "font": {
           "color": "#000000"
          },
          "showarrow": false,
          "text": "0",
          "x": "subject04",
          "xref": "x",
          "y": "subject06",
          "yref": "y"
         },
         {
          "font": {
           "color": "#000000"
          },
          "showarrow": false,
          "text": "0",
          "x": "subject05",
          "xref": "x",
          "y": "subject06",
          "yref": "y"
         },
         {
          "font": {
           "color": "#FFFFFF"
          },
          "showarrow": false,
          "text": "3",
          "x": "subject06",
          "xref": "x",
          "y": "subject06",
          "yref": "y"
         },
         {
          "font": {
           "color": "#000000"
          },
          "showarrow": false,
          "text": "0",
          "x": "subject07",
          "xref": "x",
          "y": "subject06",
          "yref": "y"
         },
         {
          "font": {
           "color": "#000000"
          },
          "showarrow": false,
          "text": "0",
          "x": "subject08",
          "xref": "x",
          "y": "subject06",
          "yref": "y"
         },
         {
          "font": {
           "color": "#000000"
          },
          "showarrow": false,
          "text": "0",
          "x": "subject09",
          "xref": "x",
          "y": "subject06",
          "yref": "y"
         },
         {
          "font": {
           "color": "#000000"
          },
          "showarrow": false,
          "text": "0",
          "x": "subject10",
          "xref": "x",
          "y": "subject06",
          "yref": "y"
         },
         {
          "font": {
           "color": "#000000"
          },
          "showarrow": false,
          "text": "0",
          "x": "subject11",
          "xref": "x",
          "y": "subject06",
          "yref": "y"
         },
         {
          "font": {
           "color": "#000000"
          },
          "showarrow": false,
          "text": "0",
          "x": "subject12",
          "xref": "x",
          "y": "subject06",
          "yref": "y"
         },
         {
          "font": {
           "color": "#000000"
          },
          "showarrow": false,
          "text": "0",
          "x": "subject13",
          "xref": "x",
          "y": "subject06",
          "yref": "y"
         },
         {
          "font": {
           "color": "#000000"
          },
          "showarrow": false,
          "text": "0",
          "x": "subject14",
          "xref": "x",
          "y": "subject06",
          "yref": "y"
         },
         {
          "font": {
           "color": "#000000"
          },
          "showarrow": false,
          "text": "0",
          "x": "subject15",
          "xref": "x",
          "y": "subject06",
          "yref": "y"
         },
         {
          "font": {
           "color": "#000000"
          },
          "showarrow": false,
          "text": "0",
          "x": "subject01",
          "xref": "x",
          "y": "subject07",
          "yref": "y"
         },
         {
          "font": {
           "color": "#000000"
          },
          "showarrow": false,
          "text": "0",
          "x": "subject02",
          "xref": "x",
          "y": "subject07",
          "yref": "y"
         },
         {
          "font": {
           "color": "#000000"
          },
          "showarrow": false,
          "text": "0",
          "x": "subject03",
          "xref": "x",
          "y": "subject07",
          "yref": "y"
         },
         {
          "font": {
           "color": "#000000"
          },
          "showarrow": false,
          "text": "0",
          "x": "subject04",
          "xref": "x",
          "y": "subject07",
          "yref": "y"
         },
         {
          "font": {
           "color": "#000000"
          },
          "showarrow": false,
          "text": "0",
          "x": "subject05",
          "xref": "x",
          "y": "subject07",
          "yref": "y"
         },
         {
          "font": {
           "color": "#000000"
          },
          "showarrow": false,
          "text": "0",
          "x": "subject06",
          "xref": "x",
          "y": "subject07",
          "yref": "y"
         },
         {
          "font": {
           "color": "#FFFFFF"
          },
          "showarrow": false,
          "text": "3",
          "x": "subject07",
          "xref": "x",
          "y": "subject07",
          "yref": "y"
         },
         {
          "font": {
           "color": "#000000"
          },
          "showarrow": false,
          "text": "0",
          "x": "subject08",
          "xref": "x",
          "y": "subject07",
          "yref": "y"
         },
         {
          "font": {
           "color": "#000000"
          },
          "showarrow": false,
          "text": "0",
          "x": "subject09",
          "xref": "x",
          "y": "subject07",
          "yref": "y"
         },
         {
          "font": {
           "color": "#000000"
          },
          "showarrow": false,
          "text": "0",
          "x": "subject10",
          "xref": "x",
          "y": "subject07",
          "yref": "y"
         },
         {
          "font": {
           "color": "#000000"
          },
          "showarrow": false,
          "text": "0",
          "x": "subject11",
          "xref": "x",
          "y": "subject07",
          "yref": "y"
         },
         {
          "font": {
           "color": "#000000"
          },
          "showarrow": false,
          "text": "0",
          "x": "subject12",
          "xref": "x",
          "y": "subject07",
          "yref": "y"
         },
         {
          "font": {
           "color": "#000000"
          },
          "showarrow": false,
          "text": "0",
          "x": "subject13",
          "xref": "x",
          "y": "subject07",
          "yref": "y"
         },
         {
          "font": {
           "color": "#000000"
          },
          "showarrow": false,
          "text": "0",
          "x": "subject14",
          "xref": "x",
          "y": "subject07",
          "yref": "y"
         },
         {
          "font": {
           "color": "#000000"
          },
          "showarrow": false,
          "text": "0",
          "x": "subject15",
          "xref": "x",
          "y": "subject07",
          "yref": "y"
         },
         {
          "font": {
           "color": "#000000"
          },
          "showarrow": false,
          "text": "0",
          "x": "subject01",
          "xref": "x",
          "y": "subject08",
          "yref": "y"
         },
         {
          "font": {
           "color": "#000000"
          },
          "showarrow": false,
          "text": "0",
          "x": "subject02",
          "xref": "x",
          "y": "subject08",
          "yref": "y"
         },
         {
          "font": {
           "color": "#000000"
          },
          "showarrow": false,
          "text": "1",
          "x": "subject03",
          "xref": "x",
          "y": "subject08",
          "yref": "y"
         },
         {
          "font": {
           "color": "#000000"
          },
          "showarrow": false,
          "text": "0",
          "x": "subject04",
          "xref": "x",
          "y": "subject08",
          "yref": "y"
         },
         {
          "font": {
           "color": "#000000"
          },
          "showarrow": false,
          "text": "0",
          "x": "subject05",
          "xref": "x",
          "y": "subject08",
          "yref": "y"
         },
         {
          "font": {
           "color": "#000000"
          },
          "showarrow": false,
          "text": "0",
          "x": "subject06",
          "xref": "x",
          "y": "subject08",
          "yref": "y"
         },
         {
          "font": {
           "color": "#000000"
          },
          "showarrow": false,
          "text": "0",
          "x": "subject07",
          "xref": "x",
          "y": "subject08",
          "yref": "y"
         },
         {
          "font": {
           "color": "#FFFFFF"
          },
          "showarrow": false,
          "text": "2",
          "x": "subject08",
          "xref": "x",
          "y": "subject08",
          "yref": "y"
         },
         {
          "font": {
           "color": "#000000"
          },
          "showarrow": false,
          "text": "0",
          "x": "subject09",
          "xref": "x",
          "y": "subject08",
          "yref": "y"
         },
         {
          "font": {
           "color": "#000000"
          },
          "showarrow": false,
          "text": "0",
          "x": "subject10",
          "xref": "x",
          "y": "subject08",
          "yref": "y"
         },
         {
          "font": {
           "color": "#000000"
          },
          "showarrow": false,
          "text": "0",
          "x": "subject11",
          "xref": "x",
          "y": "subject08",
          "yref": "y"
         },
         {
          "font": {
           "color": "#000000"
          },
          "showarrow": false,
          "text": "0",
          "x": "subject12",
          "xref": "x",
          "y": "subject08",
          "yref": "y"
         },
         {
          "font": {
           "color": "#000000"
          },
          "showarrow": false,
          "text": "0",
          "x": "subject13",
          "xref": "x",
          "y": "subject08",
          "yref": "y"
         },
         {
          "font": {
           "color": "#000000"
          },
          "showarrow": false,
          "text": "0",
          "x": "subject14",
          "xref": "x",
          "y": "subject08",
          "yref": "y"
         },
         {
          "font": {
           "color": "#000000"
          },
          "showarrow": false,
          "text": "0",
          "x": "subject15",
          "xref": "x",
          "y": "subject08",
          "yref": "y"
         },
         {
          "font": {
           "color": "#000000"
          },
          "showarrow": false,
          "text": "0",
          "x": "subject01",
          "xref": "x",
          "y": "subject09",
          "yref": "y"
         },
         {
          "font": {
           "color": "#000000"
          },
          "showarrow": false,
          "text": "0",
          "x": "subject02",
          "xref": "x",
          "y": "subject09",
          "yref": "y"
         },
         {
          "font": {
           "color": "#000000"
          },
          "showarrow": false,
          "text": "0",
          "x": "subject03",
          "xref": "x",
          "y": "subject09",
          "yref": "y"
         },
         {
          "font": {
           "color": "#000000"
          },
          "showarrow": false,
          "text": "0",
          "x": "subject04",
          "xref": "x",
          "y": "subject09",
          "yref": "y"
         },
         {
          "font": {
           "color": "#000000"
          },
          "showarrow": false,
          "text": "0",
          "x": "subject05",
          "xref": "x",
          "y": "subject09",
          "yref": "y"
         },
         {
          "font": {
           "color": "#000000"
          },
          "showarrow": false,
          "text": "0",
          "x": "subject06",
          "xref": "x",
          "y": "subject09",
          "yref": "y"
         },
         {
          "font": {
           "color": "#000000"
          },
          "showarrow": false,
          "text": "0",
          "x": "subject07",
          "xref": "x",
          "y": "subject09",
          "yref": "y"
         },
         {
          "font": {
           "color": "#000000"
          },
          "showarrow": false,
          "text": "0",
          "x": "subject08",
          "xref": "x",
          "y": "subject09",
          "yref": "y"
         },
         {
          "font": {
           "color": "#FFFFFF"
          },
          "showarrow": false,
          "text": "3",
          "x": "subject09",
          "xref": "x",
          "y": "subject09",
          "yref": "y"
         },
         {
          "font": {
           "color": "#000000"
          },
          "showarrow": false,
          "text": "0",
          "x": "subject10",
          "xref": "x",
          "y": "subject09",
          "yref": "y"
         },
         {
          "font": {
           "color": "#000000"
          },
          "showarrow": false,
          "text": "0",
          "x": "subject11",
          "xref": "x",
          "y": "subject09",
          "yref": "y"
         },
         {
          "font": {
           "color": "#000000"
          },
          "showarrow": false,
          "text": "0",
          "x": "subject12",
          "xref": "x",
          "y": "subject09",
          "yref": "y"
         },
         {
          "font": {
           "color": "#000000"
          },
          "showarrow": false,
          "text": "0",
          "x": "subject13",
          "xref": "x",
          "y": "subject09",
          "yref": "y"
         },
         {
          "font": {
           "color": "#000000"
          },
          "showarrow": false,
          "text": "0",
          "x": "subject14",
          "xref": "x",
          "y": "subject09",
          "yref": "y"
         },
         {
          "font": {
           "color": "#000000"
          },
          "showarrow": false,
          "text": "0",
          "x": "subject15",
          "xref": "x",
          "y": "subject09",
          "yref": "y"
         },
         {
          "font": {
           "color": "#000000"
          },
          "showarrow": false,
          "text": "0",
          "x": "subject01",
          "xref": "x",
          "y": "subject10",
          "yref": "y"
         },
         {
          "font": {
           "color": "#000000"
          },
          "showarrow": false,
          "text": "0",
          "x": "subject02",
          "xref": "x",
          "y": "subject10",
          "yref": "y"
         },
         {
          "font": {
           "color": "#000000"
          },
          "showarrow": false,
          "text": "0",
          "x": "subject03",
          "xref": "x",
          "y": "subject10",
          "yref": "y"
         },
         {
          "font": {
           "color": "#000000"
          },
          "showarrow": false,
          "text": "0",
          "x": "subject04",
          "xref": "x",
          "y": "subject10",
          "yref": "y"
         },
         {
          "font": {
           "color": "#000000"
          },
          "showarrow": false,
          "text": "0",
          "x": "subject05",
          "xref": "x",
          "y": "subject10",
          "yref": "y"
         },
         {
          "font": {
           "color": "#000000"
          },
          "showarrow": false,
          "text": "0",
          "x": "subject06",
          "xref": "x",
          "y": "subject10",
          "yref": "y"
         },
         {
          "font": {
           "color": "#000000"
          },
          "showarrow": false,
          "text": "0",
          "x": "subject07",
          "xref": "x",
          "y": "subject10",
          "yref": "y"
         },
         {
          "font": {
           "color": "#000000"
          },
          "showarrow": false,
          "text": "0",
          "x": "subject08",
          "xref": "x",
          "y": "subject10",
          "yref": "y"
         },
         {
          "font": {
           "color": "#000000"
          },
          "showarrow": false,
          "text": "0",
          "x": "subject09",
          "xref": "x",
          "y": "subject10",
          "yref": "y"
         },
         {
          "font": {
           "color": "#FFFFFF"
          },
          "showarrow": false,
          "text": "3",
          "x": "subject10",
          "xref": "x",
          "y": "subject10",
          "yref": "y"
         },
         {
          "font": {
           "color": "#000000"
          },
          "showarrow": false,
          "text": "0",
          "x": "subject11",
          "xref": "x",
          "y": "subject10",
          "yref": "y"
         },
         {
          "font": {
           "color": "#000000"
          },
          "showarrow": false,
          "text": "0",
          "x": "subject12",
          "xref": "x",
          "y": "subject10",
          "yref": "y"
         },
         {
          "font": {
           "color": "#000000"
          },
          "showarrow": false,
          "text": "0",
          "x": "subject13",
          "xref": "x",
          "y": "subject10",
          "yref": "y"
         },
         {
          "font": {
           "color": "#000000"
          },
          "showarrow": false,
          "text": "0",
          "x": "subject14",
          "xref": "x",
          "y": "subject10",
          "yref": "y"
         },
         {
          "font": {
           "color": "#000000"
          },
          "showarrow": false,
          "text": "0",
          "x": "subject15",
          "xref": "x",
          "y": "subject10",
          "yref": "y"
         },
         {
          "font": {
           "color": "#000000"
          },
          "showarrow": false,
          "text": "0",
          "x": "subject01",
          "xref": "x",
          "y": "subject11",
          "yref": "y"
         },
         {
          "font": {
           "color": "#000000"
          },
          "showarrow": false,
          "text": "0",
          "x": "subject02",
          "xref": "x",
          "y": "subject11",
          "yref": "y"
         },
         {
          "font": {
           "color": "#000000"
          },
          "showarrow": false,
          "text": "0",
          "x": "subject03",
          "xref": "x",
          "y": "subject11",
          "yref": "y"
         },
         {
          "font": {
           "color": "#000000"
          },
          "showarrow": false,
          "text": "0",
          "x": "subject04",
          "xref": "x",
          "y": "subject11",
          "yref": "y"
         },
         {
          "font": {
           "color": "#000000"
          },
          "showarrow": false,
          "text": "0",
          "x": "subject05",
          "xref": "x",
          "y": "subject11",
          "yref": "y"
         },
         {
          "font": {
           "color": "#000000"
          },
          "showarrow": false,
          "text": "0",
          "x": "subject06",
          "xref": "x",
          "y": "subject11",
          "yref": "y"
         },
         {
          "font": {
           "color": "#000000"
          },
          "showarrow": false,
          "text": "0",
          "x": "subject07",
          "xref": "x",
          "y": "subject11",
          "yref": "y"
         },
         {
          "font": {
           "color": "#000000"
          },
          "showarrow": false,
          "text": "0",
          "x": "subject08",
          "xref": "x",
          "y": "subject11",
          "yref": "y"
         },
         {
          "font": {
           "color": "#000000"
          },
          "showarrow": false,
          "text": "0",
          "x": "subject09",
          "xref": "x",
          "y": "subject11",
          "yref": "y"
         },
         {
          "font": {
           "color": "#000000"
          },
          "showarrow": false,
          "text": "0",
          "x": "subject10",
          "xref": "x",
          "y": "subject11",
          "yref": "y"
         },
         {
          "font": {
           "color": "#FFFFFF"
          },
          "showarrow": false,
          "text": "3",
          "x": "subject11",
          "xref": "x",
          "y": "subject11",
          "yref": "y"
         },
         {
          "font": {
           "color": "#000000"
          },
          "showarrow": false,
          "text": "0",
          "x": "subject12",
          "xref": "x",
          "y": "subject11",
          "yref": "y"
         },
         {
          "font": {
           "color": "#000000"
          },
          "showarrow": false,
          "text": "0",
          "x": "subject13",
          "xref": "x",
          "y": "subject11",
          "yref": "y"
         },
         {
          "font": {
           "color": "#000000"
          },
          "showarrow": false,
          "text": "0",
          "x": "subject14",
          "xref": "x",
          "y": "subject11",
          "yref": "y"
         },
         {
          "font": {
           "color": "#000000"
          },
          "showarrow": false,
          "text": "0",
          "x": "subject15",
          "xref": "x",
          "y": "subject11",
          "yref": "y"
         },
         {
          "font": {
           "color": "#000000"
          },
          "showarrow": false,
          "text": "0",
          "x": "subject01",
          "xref": "x",
          "y": "subject12",
          "yref": "y"
         },
         {
          "font": {
           "color": "#000000"
          },
          "showarrow": false,
          "text": "0",
          "x": "subject02",
          "xref": "x",
          "y": "subject12",
          "yref": "y"
         },
         {
          "font": {
           "color": "#000000"
          },
          "showarrow": false,
          "text": "0",
          "x": "subject03",
          "xref": "x",
          "y": "subject12",
          "yref": "y"
         },
         {
          "font": {
           "color": "#000000"
          },
          "showarrow": false,
          "text": "0",
          "x": "subject04",
          "xref": "x",
          "y": "subject12",
          "yref": "y"
         },
         {
          "font": {
           "color": "#000000"
          },
          "showarrow": false,
          "text": "0",
          "x": "subject05",
          "xref": "x",
          "y": "subject12",
          "yref": "y"
         },
         {
          "font": {
           "color": "#000000"
          },
          "showarrow": false,
          "text": "0",
          "x": "subject06",
          "xref": "x",
          "y": "subject12",
          "yref": "y"
         },
         {
          "font": {
           "color": "#000000"
          },
          "showarrow": false,
          "text": "0",
          "x": "subject07",
          "xref": "x",
          "y": "subject12",
          "yref": "y"
         },
         {
          "font": {
           "color": "#000000"
          },
          "showarrow": false,
          "text": "0",
          "x": "subject08",
          "xref": "x",
          "y": "subject12",
          "yref": "y"
         },
         {
          "font": {
           "color": "#000000"
          },
          "showarrow": false,
          "text": "0",
          "x": "subject09",
          "xref": "x",
          "y": "subject12",
          "yref": "y"
         },
         {
          "font": {
           "color": "#000000"
          },
          "showarrow": false,
          "text": "0",
          "x": "subject10",
          "xref": "x",
          "y": "subject12",
          "yref": "y"
         },
         {
          "font": {
           "color": "#000000"
          },
          "showarrow": false,
          "text": "0",
          "x": "subject11",
          "xref": "x",
          "y": "subject12",
          "yref": "y"
         },
         {
          "font": {
           "color": "#FFFFFF"
          },
          "showarrow": false,
          "text": "3",
          "x": "subject12",
          "xref": "x",
          "y": "subject12",
          "yref": "y"
         },
         {
          "font": {
           "color": "#000000"
          },
          "showarrow": false,
          "text": "0",
          "x": "subject13",
          "xref": "x",
          "y": "subject12",
          "yref": "y"
         },
         {
          "font": {
           "color": "#000000"
          },
          "showarrow": false,
          "text": "0",
          "x": "subject14",
          "xref": "x",
          "y": "subject12",
          "yref": "y"
         },
         {
          "font": {
           "color": "#000000"
          },
          "showarrow": false,
          "text": "0",
          "x": "subject15",
          "xref": "x",
          "y": "subject12",
          "yref": "y"
         },
         {
          "font": {
           "color": "#000000"
          },
          "showarrow": false,
          "text": "0",
          "x": "subject01",
          "xref": "x",
          "y": "subject13",
          "yref": "y"
         },
         {
          "font": {
           "color": "#000000"
          },
          "showarrow": false,
          "text": "0",
          "x": "subject02",
          "xref": "x",
          "y": "subject13",
          "yref": "y"
         },
         {
          "font": {
           "color": "#000000"
          },
          "showarrow": false,
          "text": "0",
          "x": "subject03",
          "xref": "x",
          "y": "subject13",
          "yref": "y"
         },
         {
          "font": {
           "color": "#000000"
          },
          "showarrow": false,
          "text": "0",
          "x": "subject04",
          "xref": "x",
          "y": "subject13",
          "yref": "y"
         },
         {
          "font": {
           "color": "#000000"
          },
          "showarrow": false,
          "text": "0",
          "x": "subject05",
          "xref": "x",
          "y": "subject13",
          "yref": "y"
         },
         {
          "font": {
           "color": "#000000"
          },
          "showarrow": false,
          "text": "0",
          "x": "subject06",
          "xref": "x",
          "y": "subject13",
          "yref": "y"
         },
         {
          "font": {
           "color": "#000000"
          },
          "showarrow": false,
          "text": "1",
          "x": "subject07",
          "xref": "x",
          "y": "subject13",
          "yref": "y"
         },
         {
          "font": {
           "color": "#000000"
          },
          "showarrow": false,
          "text": "0",
          "x": "subject08",
          "xref": "x",
          "y": "subject13",
          "yref": "y"
         },
         {
          "font": {
           "color": "#000000"
          },
          "showarrow": false,
          "text": "0",
          "x": "subject09",
          "xref": "x",
          "y": "subject13",
          "yref": "y"
         },
         {
          "font": {
           "color": "#000000"
          },
          "showarrow": false,
          "text": "0",
          "x": "subject10",
          "xref": "x",
          "y": "subject13",
          "yref": "y"
         },
         {
          "font": {
           "color": "#000000"
          },
          "showarrow": false,
          "text": "0",
          "x": "subject11",
          "xref": "x",
          "y": "subject13",
          "yref": "y"
         },
         {
          "font": {
           "color": "#000000"
          },
          "showarrow": false,
          "text": "0",
          "x": "subject12",
          "xref": "x",
          "y": "subject13",
          "yref": "y"
         },
         {
          "font": {
           "color": "#FFFFFF"
          },
          "showarrow": false,
          "text": "2",
          "x": "subject13",
          "xref": "x",
          "y": "subject13",
          "yref": "y"
         },
         {
          "font": {
           "color": "#000000"
          },
          "showarrow": false,
          "text": "0",
          "x": "subject14",
          "xref": "x",
          "y": "subject13",
          "yref": "y"
         },
         {
          "font": {
           "color": "#000000"
          },
          "showarrow": false,
          "text": "0",
          "x": "subject15",
          "xref": "x",
          "y": "subject13",
          "yref": "y"
         },
         {
          "font": {
           "color": "#000000"
          },
          "showarrow": false,
          "text": "0",
          "x": "subject01",
          "xref": "x",
          "y": "subject14",
          "yref": "y"
         },
         {
          "font": {
           "color": "#000000"
          },
          "showarrow": false,
          "text": "0",
          "x": "subject02",
          "xref": "x",
          "y": "subject14",
          "yref": "y"
         },
         {
          "font": {
           "color": "#000000"
          },
          "showarrow": false,
          "text": "0",
          "x": "subject03",
          "xref": "x",
          "y": "subject14",
          "yref": "y"
         },
         {
          "font": {
           "color": "#000000"
          },
          "showarrow": false,
          "text": "0",
          "x": "subject04",
          "xref": "x",
          "y": "subject14",
          "yref": "y"
         },
         {
          "font": {
           "color": "#000000"
          },
          "showarrow": false,
          "text": "0",
          "x": "subject05",
          "xref": "x",
          "y": "subject14",
          "yref": "y"
         },
         {
          "font": {
           "color": "#000000"
          },
          "showarrow": false,
          "text": "0",
          "x": "subject06",
          "xref": "x",
          "y": "subject14",
          "yref": "y"
         },
         {
          "font": {
           "color": "#000000"
          },
          "showarrow": false,
          "text": "0",
          "x": "subject07",
          "xref": "x",
          "y": "subject14",
          "yref": "y"
         },
         {
          "font": {
           "color": "#000000"
          },
          "showarrow": false,
          "text": "0",
          "x": "subject08",
          "xref": "x",
          "y": "subject14",
          "yref": "y"
         },
         {
          "font": {
           "color": "#000000"
          },
          "showarrow": false,
          "text": "0",
          "x": "subject09",
          "xref": "x",
          "y": "subject14",
          "yref": "y"
         },
         {
          "font": {
           "color": "#000000"
          },
          "showarrow": false,
          "text": "0",
          "x": "subject10",
          "xref": "x",
          "y": "subject14",
          "yref": "y"
         },
         {
          "font": {
           "color": "#000000"
          },
          "showarrow": false,
          "text": "0",
          "x": "subject11",
          "xref": "x",
          "y": "subject14",
          "yref": "y"
         },
         {
          "font": {
           "color": "#000000"
          },
          "showarrow": false,
          "text": "0",
          "x": "subject12",
          "xref": "x",
          "y": "subject14",
          "yref": "y"
         },
         {
          "font": {
           "color": "#000000"
          },
          "showarrow": false,
          "text": "0",
          "x": "subject13",
          "xref": "x",
          "y": "subject14",
          "yref": "y"
         },
         {
          "font": {
           "color": "#FFFFFF"
          },
          "showarrow": false,
          "text": "3",
          "x": "subject14",
          "xref": "x",
          "y": "subject14",
          "yref": "y"
         },
         {
          "font": {
           "color": "#000000"
          },
          "showarrow": false,
          "text": "0",
          "x": "subject15",
          "xref": "x",
          "y": "subject14",
          "yref": "y"
         },
         {
          "font": {
           "color": "#000000"
          },
          "showarrow": false,
          "text": "0",
          "x": "subject01",
          "xref": "x",
          "y": "subject15",
          "yref": "y"
         },
         {
          "font": {
           "color": "#000000"
          },
          "showarrow": false,
          "text": "0",
          "x": "subject02",
          "xref": "x",
          "y": "subject15",
          "yref": "y"
         },
         {
          "font": {
           "color": "#000000"
          },
          "showarrow": false,
          "text": "0",
          "x": "subject03",
          "xref": "x",
          "y": "subject15",
          "yref": "y"
         },
         {
          "font": {
           "color": "#000000"
          },
          "showarrow": false,
          "text": "0",
          "x": "subject04",
          "xref": "x",
          "y": "subject15",
          "yref": "y"
         },
         {
          "font": {
           "color": "#000000"
          },
          "showarrow": false,
          "text": "0",
          "x": "subject05",
          "xref": "x",
          "y": "subject15",
          "yref": "y"
         },
         {
          "font": {
           "color": "#000000"
          },
          "showarrow": false,
          "text": "0",
          "x": "subject06",
          "xref": "x",
          "y": "subject15",
          "yref": "y"
         },
         {
          "font": {
           "color": "#000000"
          },
          "showarrow": false,
          "text": "0",
          "x": "subject07",
          "xref": "x",
          "y": "subject15",
          "yref": "y"
         },
         {
          "font": {
           "color": "#000000"
          },
          "showarrow": false,
          "text": "0",
          "x": "subject08",
          "xref": "x",
          "y": "subject15",
          "yref": "y"
         },
         {
          "font": {
           "color": "#000000"
          },
          "showarrow": false,
          "text": "0",
          "x": "subject09",
          "xref": "x",
          "y": "subject15",
          "yref": "y"
         },
         {
          "font": {
           "color": "#000000"
          },
          "showarrow": false,
          "text": "0",
          "x": "subject10",
          "xref": "x",
          "y": "subject15",
          "yref": "y"
         },
         {
          "font": {
           "color": "#000000"
          },
          "showarrow": false,
          "text": "0",
          "x": "subject11",
          "xref": "x",
          "y": "subject15",
          "yref": "y"
         },
         {
          "font": {
           "color": "#000000"
          },
          "showarrow": false,
          "text": "0",
          "x": "subject12",
          "xref": "x",
          "y": "subject15",
          "yref": "y"
         },
         {
          "font": {
           "color": "#000000"
          },
          "showarrow": false,
          "text": "0",
          "x": "subject13",
          "xref": "x",
          "y": "subject15",
          "yref": "y"
         },
         {
          "font": {
           "color": "#000000"
          },
          "showarrow": false,
          "text": "0",
          "x": "subject14",
          "xref": "x",
          "y": "subject15",
          "yref": "y"
         },
         {
          "font": {
           "color": "#FFFFFF"
          },
          "showarrow": false,
          "text": "3",
          "x": "subject15",
          "xref": "x",
          "y": "subject15",
          "yref": "y"
         }
        ],
        "autosize": false,
        "height": 650,
        "template": {
         "data": {
          "bar": [
           {
            "error_x": {
             "color": "#2a3f5f"
            },
            "error_y": {
             "color": "#2a3f5f"
            },
            "marker": {
             "line": {
              "color": "#E5ECF6",
              "width": 0.5
             },
             "pattern": {
              "fillmode": "overlay",
              "size": 10,
              "solidity": 0.2
             }
            },
            "type": "bar"
           }
          ],
          "barpolar": [
           {
            "marker": {
             "line": {
              "color": "#E5ECF6",
              "width": 0.5
             },
             "pattern": {
              "fillmode": "overlay",
              "size": 10,
              "solidity": 0.2
             }
            },
            "type": "barpolar"
           }
          ],
          "carpet": [
           {
            "aaxis": {
             "endlinecolor": "#2a3f5f",
             "gridcolor": "white",
             "linecolor": "white",
             "minorgridcolor": "white",
             "startlinecolor": "#2a3f5f"
            },
            "baxis": {
             "endlinecolor": "#2a3f5f",
             "gridcolor": "white",
             "linecolor": "white",
             "minorgridcolor": "white",
             "startlinecolor": "#2a3f5f"
            },
            "type": "carpet"
           }
          ],
          "choropleth": [
           {
            "colorbar": {
             "outlinewidth": 0,
             "ticks": ""
            },
            "type": "choropleth"
           }
          ],
          "contour": [
           {
            "colorbar": {
             "outlinewidth": 0,
             "ticks": ""
            },
            "colorscale": [
             [
              0,
              "#0d0887"
             ],
             [
              0.1111111111111111,
              "#46039f"
             ],
             [
              0.2222222222222222,
              "#7201a8"
             ],
             [
              0.3333333333333333,
              "#9c179e"
             ],
             [
              0.4444444444444444,
              "#bd3786"
             ],
             [
              0.5555555555555556,
              "#d8576b"
             ],
             [
              0.6666666666666666,
              "#ed7953"
             ],
             [
              0.7777777777777778,
              "#fb9f3a"
             ],
             [
              0.8888888888888888,
              "#fdca26"
             ],
             [
              1,
              "#f0f921"
             ]
            ],
            "type": "contour"
           }
          ],
          "contourcarpet": [
           {
            "colorbar": {
             "outlinewidth": 0,
             "ticks": ""
            },
            "type": "contourcarpet"
           }
          ],
          "heatmap": [
           {
            "colorbar": {
             "outlinewidth": 0,
             "ticks": ""
            },
            "colorscale": [
             [
              0,
              "#0d0887"
             ],
             [
              0.1111111111111111,
              "#46039f"
             ],
             [
              0.2222222222222222,
              "#7201a8"
             ],
             [
              0.3333333333333333,
              "#9c179e"
             ],
             [
              0.4444444444444444,
              "#bd3786"
             ],
             [
              0.5555555555555556,
              "#d8576b"
             ],
             [
              0.6666666666666666,
              "#ed7953"
             ],
             [
              0.7777777777777778,
              "#fb9f3a"
             ],
             [
              0.8888888888888888,
              "#fdca26"
             ],
             [
              1,
              "#f0f921"
             ]
            ],
            "type": "heatmap"
           }
          ],
          "histogram": [
           {
            "marker": {
             "pattern": {
              "fillmode": "overlay",
              "size": 10,
              "solidity": 0.2
             }
            },
            "type": "histogram"
           }
          ],
          "histogram2d": [
           {
            "colorbar": {
             "outlinewidth": 0,
             "ticks": ""
            },
            "colorscale": [
             [
              0,
              "#0d0887"
             ],
             [
              0.1111111111111111,
              "#46039f"
             ],
             [
              0.2222222222222222,
              "#7201a8"
             ],
             [
              0.3333333333333333,
              "#9c179e"
             ],
             [
              0.4444444444444444,
              "#bd3786"
             ],
             [
              0.5555555555555556,
              "#d8576b"
             ],
             [
              0.6666666666666666,
              "#ed7953"
             ],
             [
              0.7777777777777778,
              "#fb9f3a"
             ],
             [
              0.8888888888888888,
              "#fdca26"
             ],
             [
              1,
              "#f0f921"
             ]
            ],
            "type": "histogram2d"
           }
          ],
          "histogram2dcontour": [
           {
            "colorbar": {
             "outlinewidth": 0,
             "ticks": ""
            },
            "colorscale": [
             [
              0,
              "#0d0887"
             ],
             [
              0.1111111111111111,
              "#46039f"
             ],
             [
              0.2222222222222222,
              "#7201a8"
             ],
             [
              0.3333333333333333,
              "#9c179e"
             ],
             [
              0.4444444444444444,
              "#bd3786"
             ],
             [
              0.5555555555555556,
              "#d8576b"
             ],
             [
              0.6666666666666666,
              "#ed7953"
             ],
             [
              0.7777777777777778,
              "#fb9f3a"
             ],
             [
              0.8888888888888888,
              "#fdca26"
             ],
             [
              1,
              "#f0f921"
             ]
            ],
            "type": "histogram2dcontour"
           }
          ],
          "mesh3d": [
           {
            "colorbar": {
             "outlinewidth": 0,
             "ticks": ""
            },
            "type": "mesh3d"
           }
          ],
          "parcoords": [
           {
            "line": {
             "colorbar": {
              "outlinewidth": 0,
              "ticks": ""
             }
            },
            "type": "parcoords"
           }
          ],
          "pie": [
           {
            "automargin": true,
            "type": "pie"
           }
          ],
          "scatter": [
           {
            "fillpattern": {
             "fillmode": "overlay",
             "size": 10,
             "solidity": 0.2
            },
            "type": "scatter"
           }
          ],
          "scatter3d": [
           {
            "line": {
             "colorbar": {
              "outlinewidth": 0,
              "ticks": ""
             }
            },
            "marker": {
             "colorbar": {
              "outlinewidth": 0,
              "ticks": ""
             }
            },
            "type": "scatter3d"
           }
          ],
          "scattercarpet": [
           {
            "marker": {
             "colorbar": {
              "outlinewidth": 0,
              "ticks": ""
             }
            },
            "type": "scattercarpet"
           }
          ],
          "scattergeo": [
           {
            "marker": {
             "colorbar": {
              "outlinewidth": 0,
              "ticks": ""
             }
            },
            "type": "scattergeo"
           }
          ],
          "scattergl": [
           {
            "marker": {
             "colorbar": {
              "outlinewidth": 0,
              "ticks": ""
             }
            },
            "type": "scattergl"
           }
          ],
          "scattermap": [
           {
            "marker": {
             "colorbar": {
              "outlinewidth": 0,
              "ticks": ""
             }
            },
            "type": "scattermap"
           }
          ],
          "scattermapbox": [
           {
            "marker": {
             "colorbar": {
              "outlinewidth": 0,
              "ticks": ""
             }
            },
            "type": "scattermapbox"
           }
          ],
          "scatterpolar": [
           {
            "marker": {
             "colorbar": {
              "outlinewidth": 0,
              "ticks": ""
             }
            },
            "type": "scatterpolar"
           }
          ],
          "scatterpolargl": [
           {
            "marker": {
             "colorbar": {
              "outlinewidth": 0,
              "ticks": ""
             }
            },
            "type": "scatterpolargl"
           }
          ],
          "scatterternary": [
           {
            "marker": {
             "colorbar": {
              "outlinewidth": 0,
              "ticks": ""
             }
            },
            "type": "scatterternary"
           }
          ],
          "surface": [
           {
            "colorbar": {
             "outlinewidth": 0,
             "ticks": ""
            },
            "colorscale": [
             [
              0,
              "#0d0887"
             ],
             [
              0.1111111111111111,
              "#46039f"
             ],
             [
              0.2222222222222222,
              "#7201a8"
             ],
             [
              0.3333333333333333,
              "#9c179e"
             ],
             [
              0.4444444444444444,
              "#bd3786"
             ],
             [
              0.5555555555555556,
              "#d8576b"
             ],
             [
              0.6666666666666666,
              "#ed7953"
             ],
             [
              0.7777777777777778,
              "#fb9f3a"
             ],
             [
              0.8888888888888888,
              "#fdca26"
             ],
             [
              1,
              "#f0f921"
             ]
            ],
            "type": "surface"
           }
          ],
          "table": [
           {
            "cells": {
             "fill": {
              "color": "#EBF0F8"
             },
             "line": {
              "color": "white"
             }
            },
            "header": {
             "fill": {
              "color": "#C8D4E3"
             },
             "line": {
              "color": "white"
             }
            },
            "type": "table"
           }
          ]
         },
         "layout": {
          "annotationdefaults": {
           "arrowcolor": "#2a3f5f",
           "arrowhead": 0,
           "arrowwidth": 1
          },
          "autotypenumbers": "strict",
          "coloraxis": {
           "colorbar": {
            "outlinewidth": 0,
            "ticks": ""
           }
          },
          "colorscale": {
           "diverging": [
            [
             0,
             "#8e0152"
            ],
            [
             0.1,
             "#c51b7d"
            ],
            [
             0.2,
             "#de77ae"
            ],
            [
             0.3,
             "#f1b6da"
            ],
            [
             0.4,
             "#fde0ef"
            ],
            [
             0.5,
             "#f7f7f7"
            ],
            [
             0.6,
             "#e6f5d0"
            ],
            [
             0.7,
             "#b8e186"
            ],
            [
             0.8,
             "#7fbc41"
            ],
            [
             0.9,
             "#4d9221"
            ],
            [
             1,
             "#276419"
            ]
           ],
           "sequential": [
            [
             0,
             "#0d0887"
            ],
            [
             0.1111111111111111,
             "#46039f"
            ],
            [
             0.2222222222222222,
             "#7201a8"
            ],
            [
             0.3333333333333333,
             "#9c179e"
            ],
            [
             0.4444444444444444,
             "#bd3786"
            ],
            [
             0.5555555555555556,
             "#d8576b"
            ],
            [
             0.6666666666666666,
             "#ed7953"
            ],
            [
             0.7777777777777778,
             "#fb9f3a"
            ],
            [
             0.8888888888888888,
             "#fdca26"
            ],
            [
             1,
             "#f0f921"
            ]
           ],
           "sequentialminus": [
            [
             0,
             "#0d0887"
            ],
            [
             0.1111111111111111,
             "#46039f"
            ],
            [
             0.2222222222222222,
             "#7201a8"
            ],
            [
             0.3333333333333333,
             "#9c179e"
            ],
            [
             0.4444444444444444,
             "#bd3786"
            ],
            [
             0.5555555555555556,
             "#d8576b"
            ],
            [
             0.6666666666666666,
             "#ed7953"
            ],
            [
             0.7777777777777778,
             "#fb9f3a"
            ],
            [
             0.8888888888888888,
             "#fdca26"
            ],
            [
             1,
             "#f0f921"
            ]
           ]
          },
          "colorway": [
           "#636efa",
           "#EF553B",
           "#00cc96",
           "#ab63fa",
           "#FFA15A",
           "#19d3f3",
           "#FF6692",
           "#B6E880",
           "#FF97FF",
           "#FECB52"
          ],
          "font": {
           "color": "#2a3f5f"
          },
          "geo": {
           "bgcolor": "white",
           "lakecolor": "white",
           "landcolor": "#E5ECF6",
           "showlakes": true,
           "showland": true,
           "subunitcolor": "white"
          },
          "hoverlabel": {
           "align": "left"
          },
          "hovermode": "closest",
          "mapbox": {
           "style": "light"
          },
          "paper_bgcolor": "white",
          "plot_bgcolor": "#E5ECF6",
          "polar": {
           "angularaxis": {
            "gridcolor": "white",
            "linecolor": "white",
            "ticks": ""
           },
           "bgcolor": "#E5ECF6",
           "radialaxis": {
            "gridcolor": "white",
            "linecolor": "white",
            "ticks": ""
           }
          },
          "scene": {
           "xaxis": {
            "backgroundcolor": "#E5ECF6",
            "gridcolor": "white",
            "gridwidth": 2,
            "linecolor": "white",
            "showbackground": true,
            "ticks": "",
            "zerolinecolor": "white"
           },
           "yaxis": {
            "backgroundcolor": "#E5ECF6",
            "gridcolor": "white",
            "gridwidth": 2,
            "linecolor": "white",
            "showbackground": true,
            "ticks": "",
            "zerolinecolor": "white"
           },
           "zaxis": {
            "backgroundcolor": "#E5ECF6",
            "gridcolor": "white",
            "gridwidth": 2,
            "linecolor": "white",
            "showbackground": true,
            "ticks": "",
            "zerolinecolor": "white"
           }
          },
          "shapedefaults": {
           "line": {
            "color": "#2a3f5f"
           }
          },
          "ternary": {
           "aaxis": {
            "gridcolor": "white",
            "linecolor": "white",
            "ticks": ""
           },
           "baxis": {
            "gridcolor": "white",
            "linecolor": "white",
            "ticks": ""
           },
           "bgcolor": "#E5ECF6",
           "caxis": {
            "gridcolor": "white",
            "linecolor": "white",
            "ticks": ""
           }
          },
          "title": {
           "x": 0.05
          },
          "xaxis": {
           "automargin": true,
           "gridcolor": "white",
           "linecolor": "white",
           "ticks": "",
           "title": {
            "standoff": 15
           },
           "zerolinecolor": "white",
           "zerolinewidth": 2
          },
          "yaxis": {
           "automargin": true,
           "gridcolor": "white",
           "linecolor": "white",
           "ticks": "",
           "title": {
            "standoff": 15
           },
           "zerolinecolor": "white",
           "zerolinewidth": 2
          }
         }
        },
        "title": {
         "text": "Confusion Matrix for KNN Classification (k = 3)<br>Total missclassified Images: 2",
         "x": 0.5,
         "xanchor": "center",
         "y": 0.925,
         "yanchor": "top"
        },
        "width": 900,
        "xaxis": {
         "dtick": 1,
         "gridcolor": "rgb(0, 0, 0)",
         "side": "bottom",
         "ticks": "",
         "title": {
          "text": "Predicted Labels"
         }
        },
        "yaxis": {
         "dtick": 1,
         "ticks": "",
         "ticksuffix": "  ",
         "title": {
          "text": "True Labels"
         }
        }
       }
      }
     },
     "metadata": {},
     "output_type": "display_data"
    }
   ],
   "source": [
    "from functions.knn import knn_classifier\n",
    "\n",
    "k = 3 # Number of neighbors to consider\n",
    "predictions = knn_classifier(train_reduced, train_labels, test_reduced, test_labels, k)\n",
    "\n",
    "# Here is a simple example of calculating accuracy:\n",
    "# test_labels is only needed for evaluating the model\n",
    "# therefore we check if it exists in the global scope (dictionary of all variables)\n",
    "\n",
    "\n",
    "# Convert them to NumPy arrays if they aren’t already:\n",
    "true_labels = np.array(test_labels)\n",
    "pred_labels = np.array(predictions)\n",
    "\n",
    "# Compute the confusion matrix. It will have shape (n_classes, n_classes).\n",
    "cm = confusion_matrix(true_labels, pred_labels)\n",
    "\n",
    "# Optional: Determine the unique class labels for better tick labeling.\n",
    "classes = np.unique(np.concatenate((true_labels, pred_labels)))\n",
    "\n",
    "# plt.figure(figsize=(8, 6))\n",
    "# sns.heatmap(cm, annot=True, fmt='d', cmap='Blues',\n",
    "#            xticklabels=classes, yticklabels=classes, cbar=False)\n",
    "# plt.xlabel('Predicted Labels')\n",
    "# plt.ylabel('True Labels')\n",
    "# plt.title(f\"Confusion Matrix for KNN Classification (k = {k})\")\n",
    "# plt.show()\n",
    "\n",
    "\n",
    "# Create annotation text\n",
    "annotations = [[str(cm[i][j]) for j in range(len(classes))] for i in range(len(classes))]\n",
    "\n",
    "# Compute false annotations (misclassified entries)\n",
    "false_annotations = np.sum(cm) - np.trace(cm)  # Sum of non-diagonal entries\n",
    "\n",
    "# Compute missing annotations (count where diagonal != 3)\n",
    "# expected_value = 3  # Expected value on the diagonal\n",
    "# missing_annotations = np.sum(cm.diagonal() != expected_value)\n",
    "\n",
    "# Generate heatmap using Plotly\n",
    "fig = ff.create_annotated_heatmap(z=cm,\n",
    "                                  x=classes.tolist(),\n",
    "                                  y=classes.tolist(), \n",
    "                                  annotation_text=annotations, colorscale='Blues')\n",
    "# Set labels\n",
    "fig.update_layout(title={\n",
    "        \"text\": f\"Confusion Matrix for KNN Classification (k = {k})<br>\"\n",
    "        f\"Total missclassified Images: {false_annotations}\",\n",
    "        \"y\": 0.925,  # Adjust the vertical position (higher value moves it further up)\n",
    "        \"x\": 0.5,   # Keep it centered\n",
    "        \"xanchor\": \"center\",\n",
    "        \"yanchor\": \"top\"},\n",
    "    xaxis_title=\"Predicted Labels\", \n",
    "    yaxis_title=\"True Labels\",\n",
    "    autosize=False, \n",
    "    width=900,\n",
    "    height=650,\n",
    "    xaxis=dict(side=\"bottom\")\n",
    ")\n",
    "fig.show()"
   ]
  },
  {
   "cell_type": "markdown",
   "id": "285b2eac",
   "metadata": {},
   "source": [
    "---\n",
    "\n",
    "## <a id=\"testing\"></a> 4. Model testing"
   ]
  },
  {
   "cell_type": "code",
   "execution_count": 5,
   "id": "dc663ef8",
   "metadata": {},
   "outputs": [
    {
     "name": "stdout",
     "output_type": "stream",
     "text": [
      "Size: (320, 243)\n"
     ]
    }
   ],
   "source": [
    "img_check = Image.open(\"datasets/subject01.glasses.gif\")\n",
    "print(f\"Size: {img_check.size}\")"
   ]
  },
  {
   "cell_type": "code",
   "execution_count": 6,
   "id": "9b45588e",
   "metadata": {},
   "outputs": [
    {
     "name": "stdout",
     "output_type": "stream",
     "text": [
      "final_test shape: (45, 77760)\n",
      "test_images original shape: (45, 243, 320)\n",
      "Total misclassified images found: 2\n",
      "[22, 38]\n"
     ]
    },
    {
     "data": {
      "image/png": "[encoded data removed]",
      "text/plain": [
       "<Figure size 1200x1200 with 2 Axes>"
      ]
     },
     "metadata": {},
     "output_type": "display_data"
    }
   ],
   "source": [
    "# first we rescale the image to the original size of the training images\n",
    "image_height = 243\n",
    "image_width = 320\n",
    "original_shape_test_images = test_arr.reshape(-1, image_height, image_width)\n",
    "print(f\"final_test shape: {test_arr.shape}\")\n",
    "print(f\"test_images original shape: {original_shape_test_images.shape}\")\n",
    "\n",
    "# Determine misclassified indices\n",
    "misclassified_indices = [i for i, (true, pred) in enumerate(zip(test_labels, predictions)) if true != pred]\n",
    "# Print the number of misclassified images and their indices\n",
    "print(f\"Total misclassified images found: {len(misclassified_indices)}\")\n",
    "print(misclassified_indices)\n",
    "# Let's plot up to 16 misclassified images (or fewer if not available)\n",
    "num_to_plot = min(16, len(misclassified_indices))\n",
    "# for this a plot with subplots is created\n",
    "plt.figure(figsize=(12, 12))\n",
    "for idx, mis_idx in enumerate(misclassified_indices[:num_to_plot]):\n",
    "    plt.subplot(4, 4, idx+1)\n",
    "    plt.imshow(original_shape_test_images[mis_idx], cmap='gray') # assuming grayscale images\n",
    "    plt.title(f\"True: {test_labels[mis_idx]}\\nPredicted: {predictions[mis_idx]}\")\n",
    "    plt.axis('off')\n",
    "plt.suptitle(\"Misclassified Test Images\", fontsize=16)\n",
    "plt.tight_layout(rect=[0, 0.03, 1, 0.95])\n",
    "plt.show()"
   ]
  },
  {
   "cell_type": "markdown",
   "id": "930d6ba8",
   "metadata": {},
   "source": [
    "---\n",
    "\n",
    "## <a id=\"accuracy\"></a> 5. Accuracy evaluation"
   ]
  },
  {
   "cell_type": "markdown",
   "id": "0add2f5e",
   "metadata": {},
   "source": [
    "In section 5 we perform some evaluations in order to optimize our output. As we ran our model before for demonstration, we already used the best parameters based on the evaluations below. Therefore, this section will show why the chosen parameters are the best for our Image analysis model."
   ]
  },
  {
   "cell_type": "markdown",
   "id": "686f9d09",
   "metadata": {},
   "source": [
    "### 5.1  How to split the dataset?\n",
    "\n",
    "The results depend on the way you choose to split the dataset. If you use not enough images for testing, the model might not recongnize unseen images correctly. TEXT ERWEITERN\n",
    "Therefore, we evaluated what kind of splitting is the most efficient one: \n",
    "\n",
    "\n",
    "durchlaufen lassen für accuracy gegen anzahl der train images als plot => scatter plot oder boxplot"
   ]
  },
  {
   "cell_type": "code",
   "execution_count": null,
   "metadata": {},
   "outputs": [],
   "source": []
  },
  {
   "cell_type": "markdown",
   "id": "069bd5cc",
   "metadata": {},
   "source": [
    "### 5.2 Finding perfect amount of principal components\n",
    "\n",
    "After evaluating the dataset splitting, we now want to find out which amount of pricipal components (PC) is the one with the highest accuracy and fast data processing. We defined a threshold of ... % to be the perfect variance. Therefore we choose .... PCs. The curve shows a horizontal asymptotic behavior. It increases exponentially in the beginning. As the number of components increases, the cumulative explained variance ratio continues to grow, but at a slower rate."
   ]
  },
  {
   "cell_type": "code",
   "execution_count": 35,
   "id": "36483730",
   "metadata": {},
   "outputs": [
    {
     "name": "stdout",
     "output_type": "stream",
     "text": [
      "Succesfully reduced Matrix from (120, 77760) to (120, 100)\n",
      "\n"
     ]
    },
    {
     "data": {
      "image/png": "[encoded data removed]",
      "text/plain": [
       "<Figure size 1100x600 with 1 Axes>"
      ]
     },
     "metadata": {},
     "output_type": "display_data"
    }
   ],
   "source": [
    "projection_matrix_for_plot, train_reduced_for_plot, explained_variance_ratio_for_plot = svd_pca(final_train,100)\n",
    "\n",
    "n_pcs_for_plot = np.arange(1, 101)  # Range of components from 1 to 100\n",
    "\n",
    "# times 100 to convert to percentage\n",
    "cumulative_variance = np.cumsum(explained_variance_ratio_for_plot*100)\n",
    "\n",
    "# We subtract 1 from n_components because python uses 0-based indexing\n",
    "highlight_n_plot_y = cumulative_variance[n_components-1]\n",
    "\n",
    "sns.set_theme(style=\"ticks\", font_scale=1.2)\n",
    "plt.figure(figsize=(11, 6))\n",
    "sns.lineplot(x=n_pcs_for_plot, y=cumulative_variance, marker='o')\n",
    "\n",
    "plt.xlabel(\"\\nNumber of Principal Components\")\n",
    "plt.ylabel(\"Cumulative Variance Explained (%)\\n\")\n",
    "plt.title(label=\"\\nCumulative Variance Explained by Principal Components\\n\", fontweight='bold')\n",
    "plt.axhline(y=highlight_n_plot_y, color='r', linestyle='--', label=\"Threshold\")\n",
    "plt.scatter(n_components, highlight_n_plot_y, color=\"red\", s=25, zorder=2, label=f\"PC {n_components} ({highlight_n_plot_y:.2f}%)\")\n",
    "plt.legend()\n",
    "plt.show()"
   ]
  },
  {
   "cell_type": "markdown",
   "id": "05a44a79",
   "metadata": {},
   "source": [
    "### 5.3 Finding the best k\n",
    "\n",
    "In the following section we focused on evaluating, which amount of nearest neighbors k leads to the highest accuracy"
   ]
  },
  {
   "cell_type": "code",
   "execution_count": 36,
   "id": "8886746c",
   "metadata": {},
   "outputs": [
    {
     "name": "stdout",
     "output_type": "stream",
     "text": [
      "Evaluation of best \u001b[3m\u001b[1mk\u001b[0m for:\n",
      "\u001b[3m\u001b[1m120\u001b[0m training images and \u001b[3m\u001b[1m45\u001b[0m test images and \u001b[3m\u001b[1m40\u001b[0m principal components\n",
      "\n",
      "Best k = 3 with accuracy: \u001b[1m95.56%\u001b[0m\n"
     ]
    },
    {
     "data": {
      "image/png": "[encoded data removed]",
      "text/plain": [
       "<Figure size 1100x600 with 1 Axes>"
      ]
     },
     "metadata": {},
     "output_type": "display_data"
    }
   ],
   "source": [
    "# Dictionary to store accuracies for each k value.\n",
    "accuracy_dict = {}\n",
    "\n",
    "#\\033[1m stands for bold;\\033[3m stands for italic \\033[0m resets the formatting to normal.\n",
    "print(f\"Evaluation of best \\033[3m\\033[1mk\\033[0m for:\")\n",
    "print(f\"\\033[3m\\033[1m{len(train_reduced)}\\033[0m training images and \\033[3m\\033[1m{len(test_reduced)}\\033[0m test images and \\033[3m\\033[1m{n_components}\\033[0m principal components\")\n",
    "\n",
    "# loop through k values from 1 to 40, as k = 1 is not considered a good choice for KNN.\n",
    "for k in range(1, 41):\n",
    "    predicted_labels = knn_classifier(train_reduced, train_labels, test_reduced, test_labels, k, verbose=False)\n",
    "    accuracy = np.mean(np.array(predicted_labels) == np.array(test_labels))\n",
    "    # assigns the value of accuracy to the key k in the dictionary accuracy_dict.\n",
    "    # This means for each value of k (the number of neighbors in KNN), you store the corresponding classification accuracy.\n",
    "    accuracy_dict[k] = accuracy\n",
    "    #print(f\"k = {k}: Classification Accuracy = {accuracy * 100:.2f}%\")\t\n",
    "\n",
    "# Identify the best k value based on the highest accuracy\n",
    "best_k = max(accuracy_dict, key=accuracy_dict.get)\n",
    "highest_accuracy = accuracy_dict[best_k]*100\n",
    "print(f\"\\nBest k = {best_k} with accuracy: \\033[1m{highest_accuracy:.2f}%\\033[0m\")\n",
    "\n",
    "# First, sort the dictionary keys (k values) for plotting in order.\n",
    "k_values = sorted(accuracy_dict.keys())\n",
    "k_accuracy_values = [accuracy_dict[k]*100 for k in k_values]\n",
    "\n",
    "\n",
    "sns.set_theme(style=\"ticks\", font_scale=1.2)\n",
    "plt.figure(figsize=(11, 6))\n",
    "sns.lineplot(x=k_values, y=k_accuracy_values, marker='o')\n",
    "\n",
    "plt.xlabel(\"\\nNumber of Neighbors (k)\")\n",
    "plt.ylabel(\"KNN Classification Accuracy (%)\\n\")\n",
    "plt.title(label=\"\\nKNN Classification Accuracy based on Number of Neighbors k\\n\", fontweight='bold')\n",
    "plt.scatter(best_k, highest_accuracy, color=\"red\", s=25, zorder=2, label=f\"k = {best_k} ({highest_accuracy:.2f}%)\")\n",
    "plt.legend()\n",
    "plt.show()"
   ]
  },
  {
   "cell_type": "markdown",
   "id": "cfb70e98",
   "metadata": {},
   "source": [
    "---\n",
    "\n",
    "## <a id=\"further-analysis\"></a> 6. Further analysis"
   ]
  },
  {
   "cell_type": "markdown",
   "id": "a37345c7",
   "metadata": {},
   "source": [
    "\n"
   ]
  },
  {
   "cell_type": "code",
   "execution_count": 9,
   "id": "839f2c2a",
   "metadata": {},
   "outputs": [
    {
     "ename": "SyntaxError",
     "evalue": "unterminated string literal (detected at line 4) (furtheranalysis.py, line 4)",
     "output_type": "error",
     "traceback": [
      "  \u001b[36mFile \u001b[39m\u001b[32m~\\OneDrive\\Dokumente\\GitHub\\topic01_team01\\functions\\furtheranalysis.py:4\u001b[39m\n\u001b[31m    \u001b[39m\u001b[31mwith open(\"file.mat‘, \"rb\")as file:\u001b[39m\n                           ^\n\u001b[31mSyntaxError\u001b[39m\u001b[31m:\u001b[39m unterminated string literal (detected at line 4)\n"
     ]
    }
   ],
   "source": [
    "# for MacOS users, the path separator is a forward slash, please uncomment the following line:\n",
    "# %run functions/furtheranalysis.py\n",
    "\n",
    "%run functions\\furtheranalysis.py"
   ]
  }
 ],
 "metadata": {
  "kernelspec": {
   "display_name": "Python 3",
   "language": "python",
   "name": "python3"
  },
  "language_info": {
   "codemirror_mode": {
    "name": "ipython",
    "version": 3
   },
   "file_extension": ".py",
   "mimetype": "text/x-python",
   "name": "python",
   "nbconvert_exporter": "python",
   "pygments_lexer": "ipython3",
   "version": "3.13.3"
  }
 },
 "nbformat": 4,
 "nbformat_minor": 5
}

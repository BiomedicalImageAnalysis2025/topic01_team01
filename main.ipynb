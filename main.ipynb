{
 "cells": [
  {
   "cell_type": "markdown",
   "id": "e2d3fb0d",
   "metadata": {},
   "source": [
    "# Face recognition using k-Nearest Neighbor\n",
    "\n",
    "---\n",
    "\n",
    "### Contents\n",
    "<ol>\n",
    "    <li><a href=\"#data-preprocessing\" style=\"color: currentColor\">Data preprocessing</a></li>\n",
    "    <li><a href=\"#pca\" style=\"color: currentColor\">Principal Component Analysis</a></li>\n",
    "    <li><a href=\"#knn\" style=\"color: currentColor\">k-Nearest-Neighbor</a></li>\n",
    "    <li><a href=\"#testing\" style=\"color: currentColor\">Model testing</a></li>\n",
    "    <li><a href=\"#accuracy\" style=\"color: currentColor\">Accuracy evaluation</a></li>\n",
    "    <li><a href=\"#further-analysis\" style=\"color: currentColor\">Further Analysis</a></li>\n",
    "</ol>\n",
    "<br>\n",
    "\n",
    "<i> Note: To keep the notebook readable, it focuses on executing the code and showing the results. The entire code can be found in the functions folder and the beloging .py files.</i>\n",
    "\n",
    "---\n",
    "\n",
    "### Libraries"
   ]
  },
  {
   "cell_type": "code",
   "execution_count": 1,
   "id": "ba059aac",
   "metadata": {},
   "outputs": [],
   "source": [
    "import os\n",
    "import numpy as np\n",
    "import matplotlib.pyplot as plt\n",
    "from PIL import Image\n",
    "import seaborn as sns\n",
    "from sklearn.metrics import confusion_matrix\n",
    "import plotly.figure_factory as ff\n",
    "\n",
    "\n",
    "# os.chdir(r\"C:\\Users\\fedbe\\OneDrive\\Dokumente\\GitHub\\topic01_team01\")\n",
    "# checks if the current working directory is correct:\n",
    "# print(os.getcwd())"
   ]
  },
  {
   "cell_type": "markdown",
   "id": "87081749",
   "metadata": {},
   "source": [
    "---\n",
    "\n",
    "## <a id=\"data-preprocessing\"></a> 1. Data preprocessing \n",
    "\n",
    "(INSERT SOURCES?) (INCLUDE MORE INFO; e.g. FORMULAS TO DESCRIBE ALL STEPS BETTER?)\n",
    "\n",
    "In the first part, we need to perform different preprocessing steps before we can move on to Principal component analysis (PCA).\\\n",
    "First, we transform each image into a 1D vector to create a 2D data matrix where each row is a single sample (image) and each column corrresponds to one feature (pixel). This procedure is called <b> flattening</b>.\\\n",
    "Secondly, we <b> convert the integer formats to floating point</b> so that arithmetic operations behave correctly and <b> normalize </b> the data to the range [0,1] to ensure that each pixel has a similar scale.\\\n",
    "Before performing further preprocessing steps, we split the dataset into training and test data. The dataset contains 11 images expressing different facial expression and light conditions of 15 subjects each. In order to split these images, 8 images of each subject are choosen randomly to use for training. All remaining images will serve as test data.\n",
    "Next, we <b> center our data </b> . This is done, by subtracting the mean value for each pixel position across the dataset. This ensures that your dataset has a zero mean, which is essential because PCA will then capture the directions of maximum variance around this mean.\\\n",
    "Lastly, we <b> standardize</b>  the data by subtracting the mean and then dividing by the standard deviation for each feature (also called <b> z-transformation</b>)."
   ]
  },
  {
   "cell_type": "code",
   "execution_count": 2,
   "id": "fa2a7d0d",
   "metadata": {},
   "outputs": [
    {
     "name": "stdout",
     "output_type": "stream",
     "text": [
      "Total training images: 120\n",
      "Total testing images: 45\n",
      "\n",
      "After preprocessing:\n",
      "Training data shape: (120, 77760)\n",
      "Testing data shape: (45, 77760)\n",
      "\n",
      "Verification of preprocessing:\n",
      "First training image: Mean ≈ 0.3996, Std ≈ 0.6604\n"
     ]
    }
   ],
   "source": [
    "# for MacOS users, the path separator is a forward slash, please uncomment the following line and comment the other one:\n",
    "# %run functions/preprocessing.py\n",
    "\n",
    "%run functions\\preprocessing.py\n"
   ]
  },
  {
   "cell_type": "markdown",
   "id": "4f251224",
   "metadata": {},
   "source": [
    "---\n",
    "\n",
    "## <a id=\"pca\"></a> 2. Pricinpal component analysis"
   ]
  },
  {
   "cell_type": "markdown",
   "id": "1d43e1f0",
   "metadata": {},
   "source": []
  },
  {
   "cell_type": "code",
   "execution_count": null,
   "id": "1b09623e",
   "metadata": {},
   "outputs": [
    {
     "name": "stdout",
     "output_type": "stream",
     "text": [
      "Succesfully reduced Matrix from (120, 77760) to (120, 40)\n",
      "\n",
      "Succesfully transformed Matrix from (45, 77760) to (45, 40)\n"
     ]
    }
   ],
   "source": [
    "from functions.pca import svd_pca\n",
    "from functions.pca import pca_transform\n",
    "\n",
    "n_components = 40  # Number of components to keep, can be adjusted later\n",
    "# semicolon is used to suppress output of the last line in Jupyter notebooks, so in our case it prevents the return output\n",
    "projection_matrix, train_reduced, explained_variance_ratio = svd_pca(final_train,n_components)\n",
    "test_reduced = pca_transform(final_test,projection_matrix)\n",
    "# Maybe already implement here some Plots, to show which PC are the most important ones\n",
    "# and what number of n_components is the best to use for our model instead of doing everything in 5.?\n",
    "# "
   ]
  },
  {
   "cell_type": "markdown",
   "id": "8ddf2ce2",
   "metadata": {},
   "source": [
    "---\n",
    "\n",
    "## <a id=\"knn\"></a> 3. k-Nearest-Neighbor"
   ]
  },
  {
   "cell_type": "markdown",
   "id": "325cae81",
   "metadata": {},
   "source": []
  },
  {
   "cell_type": "code",
   "execution_count": null,
   "id": "0bfd0875",
   "metadata": {},
   "outputs": [
    {
     "name": "stdout",
     "output_type": "stream",
     "text": [
      "k-NN Classification Accuracy: 80.00%\n"
     ]
    },
    {
     "data": {
      "application/vnd.plotly.v1+json": {
       "config": {
        "plotlyServerURL": "https://plot.ly"
       },
       "data": [
        {
         "colorscale": [
          [
           0,
           "rgb(247,251,255)"
          ],
          [
           0.125,
           "rgb(222,235,247)"
          ],
          [
           0.25,
           "rgb(198,219,239)"
          ],
          [
           0.375,
           "rgb(158,202,225)"
          ],
          [
           0.5,
           "rgb(107,174,214)"
          ],
          [
           0.625,
           "rgb(66,146,198)"
          ],
          [
           0.75,
           "rgb(33,113,181)"
          ],
          [
           0.875,
           "rgb(8,81,156)"
          ],
          [
           1,
           "rgb(8,48,107)"
          ]
         ],
         "reversescale": false,
         "showscale": false,
         "type": "heatmap",
         "x": [
          "subject01",
          "subject02",
          "subject03",
          "subject04",
          "subject05",
          "subject06",
          "subject07",
          "subject08",
          "subject09",
          "subject10",
          "subject11",
          "subject12",
          "subject13",
          "subject14",
          "subject15"
         ],
         "y": [
          "subject01",
          "subject02",
          "subject03",
          "subject04",
          "subject05",
          "subject06",
          "subject07",
          "subject08",
          "subject09",
          "subject10",
          "subject11",
          "subject12",
          "subject13",
          "subject14",
          "subject15"
         ],
         "z": {
          "bdata": "AgAAAAAAAAAAAAABAAAAAAIAAAAAAAABAAAAAAAAAAADAAAAAAAAAAAAAAAAAAAAAwAAAAAAAAAAAAAAAAAAAAIAAAAAAAABAAAAAAAAAAADAAAAAAAAAAAAAAABAAAAAQAAAQAAAAAAAAABAAAAAAEAAQAAAAAAAAAAAAAAAAECAAAAAAAAAAAAAAAAAAAAAwAAAAAAAAAAAAAAAAAAAAMAAAAAAAAAAAAAAAAAAAADAAAAAAAAAAAAAAAAAAAAAwAAAAAAAAAAAAABAAAAAAIAAAAAAAAAAAAAAAAAAAAD",
          "dtype": "i1",
          "shape": "15, 15"
         }
        }
       ],
       "layout": {
        "annotations": [
         {
          "font": {
           "color": "#FFFFFF"
          },
          "showarrow": false,
          "text": "2",
          "x": "subject01",
          "xref": "x",
          "y": "subject01",
          "yref": "y"
         },
         {
          "font": {
           "color": "#000000"
          },
          "showarrow": false,
          "text": "0",
          "x": "subject02",
          "xref": "x",
          "y": "subject01",
          "yref": "y"
         },
         {
          "font": {
           "color": "#000000"
          },
          "showarrow": false,
          "text": "0",
          "x": "subject03",
          "xref": "x",
          "y": "subject01",
          "yref": "y"
         },
         {
          "font": {
           "color": "#000000"
          },
          "showarrow": false,
          "text": "0",
          "x": "subject04",
          "xref": "x",
          "y": "subject01",
          "yref": "y"
         },
         {
          "font": {
           "color": "#000000"
          },
          "showarrow": false,
          "text": "0",
          "x": "subject05",
          "xref": "x",
          "y": "subject01",
          "yref": "y"
         },
         {
          "font": {
           "color": "#000000"
          },
          "showarrow": false,
          "text": "0",
          "x": "subject06",
          "xref": "x",
          "y": "subject01",
          "yref": "y"
         },
         {
          "font": {
           "color": "#000000"
          },
          "showarrow": false,
          "text": "0",
          "x": "subject07",
          "xref": "x",
          "y": "subject01",
          "yref": "y"
         },
         {
          "font": {
           "color": "#000000"
          },
          "showarrow": false,
          "text": "0",
          "x": "subject08",
          "xref": "x",
          "y": "subject01",
          "yref": "y"
         },
         {
          "font": {
           "color": "#000000"
          },
          "showarrow": false,
          "text": "0",
          "x": "subject09",
          "xref": "x",
          "y": "subject01",
          "yref": "y"
         },
         {
          "font": {
           "color": "#000000"
          },
          "showarrow": false,
          "text": "0",
          "x": "subject10",
          "xref": "x",
          "y": "subject01",
          "yref": "y"
         },
         {
          "font": {
           "color": "#000000"
          },
          "showarrow": false,
          "text": "0",
          "x": "subject11",
          "xref": "x",
          "y": "subject01",
          "yref": "y"
         },
         {
          "font": {
           "color": "#000000"
          },
          "showarrow": false,
          "text": "1",
          "x": "subject12",
          "xref": "x",
          "y": "subject01",
          "yref": "y"
         },
         {
          "font": {
           "color": "#000000"
          },
          "showarrow": false,
          "text": "0",
          "x": "subject13",
          "xref": "x",
          "y": "subject01",
          "yref": "y"
         },
         {
          "font": {
           "color": "#000000"
          },
          "showarrow": false,
          "text": "0",
          "x": "subject14",
          "xref": "x",
          "y": "subject01",
          "yref": "y"
         },
         {
          "font": {
           "color": "#000000"
          },
          "showarrow": false,
          "text": "0",
          "x": "subject15",
          "xref": "x",
          "y": "subject01",
          "yref": "y"
         },
         {
          "font": {
           "color": "#000000"
          },
          "showarrow": false,
          "text": "0",
          "x": "subject01",
          "xref": "x",
          "y": "subject02",
          "yref": "y"
         },
         {
          "font": {
           "color": "#FFFFFF"
          },
          "showarrow": false,
          "text": "2",
          "x": "subject02",
          "xref": "x",
          "y": "subject02",
          "yref": "y"
         },
         {
          "font": {
           "color": "#000000"
          },
          "showarrow": false,
          "text": "0",
          "x": "subject03",
          "xref": "x",
          "y": "subject02",
          "yref": "y"
         },
         {
          "font": {
           "color": "#000000"
          },
          "showarrow": false,
          "text": "0",
          "x": "subject04",
          "xref": "x",
          "y": "subject02",
          "yref": "y"
         },
         {
          "font": {
           "color": "#000000"
          },
          "showarrow": false,
          "text": "0",
          "x": "subject05",
          "xref": "x",
          "y": "subject02",
          "yref": "y"
         },
         {
          "font": {
           "color": "#000000"
          },
          "showarrow": false,
          "text": "0",
          "x": "subject06",
          "xref": "x",
          "y": "subject02",
          "yref": "y"
         },
         {
          "font": {
           "color": "#000000"
          },
          "showarrow": false,
          "text": "0",
          "x": "subject07",
          "xref": "x",
          "y": "subject02",
          "yref": "y"
         },
         {
          "font": {
           "color": "#000000"
          },
          "showarrow": false,
          "text": "0",
          "x": "subject08",
          "xref": "x",
          "y": "subject02",
          "yref": "y"
         },
         {
          "font": {
           "color": "#000000"
          },
          "showarrow": false,
          "text": "1",
          "x": "subject09",
          "xref": "x",
          "y": "subject02",
          "yref": "y"
         },
         {
          "font": {
           "color": "#000000"
          },
          "showarrow": false,
          "text": "0",
          "x": "subject10",
          "xref": "x",
          "y": "subject02",
          "yref": "y"
         },
         {
          "font": {
           "color": "#000000"
          },
          "showarrow": false,
          "text": "0",
          "x": "subject11",
          "xref": "x",
          "y": "subject02",
          "yref": "y"
         },
         {
          "font": {
           "color": "#000000"
          },
          "showarrow": false,
          "text": "0",
          "x": "subject12",
          "xref": "x",
          "y": "subject02",
          "yref": "y"
         },
         {
          "font": {
           "color": "#000000"
          },
          "showarrow": false,
          "text": "0",
          "x": "subject13",
          "xref": "x",
          "y": "subject02",
          "yref": "y"
         },
         {
          "font": {
           "color": "#000000"
          },
          "showarrow": false,
          "text": "0",
          "x": "subject14",
          "xref": "x",
          "y": "subject02",
          "yref": "y"
         },
         {
          "font": {
           "color": "#000000"
          },
          "showarrow": false,
          "text": "0",
          "x": "subject15",
          "xref": "x",
          "y": "subject02",
          "yref": "y"
         },
         {
          "font": {
           "color": "#000000"
          },
          "showarrow": false,
          "text": "0",
          "x": "subject01",
          "xref": "x",
          "y": "subject03",
          "yref": "y"
         },
         {
          "font": {
           "color": "#000000"
          },
          "showarrow": false,
          "text": "0",
          "x": "subject02",
          "xref": "x",
          "y": "subject03",
          "yref": "y"
         },
         {
          "font": {
           "color": "#FFFFFF"
          },
          "showarrow": false,
          "text": "3",
          "x": "subject03",
          "xref": "x",
          "y": "subject03",
          "yref": "y"
         },
         {
          "font": {
           "color": "#000000"
          },
          "showarrow": false,
          "text": "0",
          "x": "subject04",
          "xref": "x",
          "y": "subject03",
          "yref": "y"
         },
         {
          "font": {
           "color": "#000000"
          },
          "showarrow": false,
          "text": "0",
          "x": "subject05",
          "xref": "x",
          "y": "subject03",
          "yref": "y"
         },
         {
          "font": {
           "color": "#000000"
          },
          "showarrow": false,
          "text": "0",
          "x": "subject06",
          "xref": "x",
          "y": "subject03",
          "yref": "y"
         },
         {
          "font": {
           "color": "#000000"
          },
          "showarrow": false,
          "text": "0",
          "x": "subject07",
          "xref": "x",
          "y": "subject03",
          "yref": "y"
         },
         {
          "font": {
           "color": "#000000"
          },
          "showarrow": false,
          "text": "0",
          "x": "subject08",
          "xref": "x",
          "y": "subject03",
          "yref": "y"
         },
         {
          "font": {
           "color": "#000000"
          },
          "showarrow": false,
          "text": "0",
          "x": "subject09",
          "xref": "x",
          "y": "subject03",
          "yref": "y"
         },
         {
          "font": {
           "color": "#000000"
          },
          "showarrow": false,
          "text": "0",
          "x": "subject10",
          "xref": "x",
          "y": "subject03",
          "yref": "y"
         },
         {
          "font": {
           "color": "#000000"
          },
          "showarrow": false,
          "text": "0",
          "x": "subject11",
          "xref": "x",
          "y": "subject03",
          "yref": "y"
         },
         {
          "font": {
           "color": "#000000"
          },
          "showarrow": false,
          "text": "0",
          "x": "subject12",
          "xref": "x",
          "y": "subject03",
          "yref": "y"
         },
         {
          "font": {
           "color": "#000000"
          },
          "showarrow": false,
          "text": "0",
          "x": "subject13",
          "xref": "x",
          "y": "subject03",
          "yref": "y"
         },
         {
          "font": {
           "color": "#000000"
          },
          "showarrow": false,
          "text": "0",
          "x": "subject14",
          "xref": "x",
          "y": "subject03",
          "yref": "y"
         },
         {
          "font": {
           "color": "#000000"
          },
          "showarrow": false,
          "text": "0",
          "x": "subject15",
          "xref": "x",
          "y": "subject03",
          "yref": "y"
         },
         {
          "font": {
           "color": "#000000"
          },
          "showarrow": false,
          "text": "0",
          "x": "subject01",
          "xref": "x",
          "y": "subject04",
          "yref": "y"
         },
         {
          "font": {
           "color": "#000000"
          },
          "showarrow": false,
          "text": "0",
          "x": "subject02",
          "xref": "x",
          "y": "subject04",
          "yref": "y"
         },
         {
          "font": {
           "color": "#000000"
          },
          "showarrow": false,
          "text": "0",
          "x": "subject03",
          "xref": "x",
          "y": "subject04",
          "yref": "y"
         },
         {
          "font": {
           "color": "#FFFFFF"
          },
          "showarrow": false,
          "text": "3",
          "x": "subject04",
          "xref": "x",
          "y": "subject04",
          "yref": "y"
         },
         {
          "font": {
           "color": "#000000"
          },
          "showarrow": false,
          "text": "0",
          "x": "subject05",
          "xref": "x",
          "y": "subject04",
          "yref": "y"
         },
         {
          "font": {
           "color": "#000000"
          },
          "showarrow": false,
          "text": "0",
          "x": "subject06",
          "xref": "x",
          "y": "subject04",
          "yref": "y"
         },
         {
          "font": {
           "color": "#000000"
          },
          "showarrow": false,
          "text": "0",
          "x": "subject07",
          "xref": "x",
          "y": "subject04",
          "yref": "y"
         },
         {
          "font": {
           "color": "#000000"
          },
          "showarrow": false,
          "text": "0",
          "x": "subject08",
          "xref": "x",
          "y": "subject04",
          "yref": "y"
         },
         {
          "font": {
           "color": "#000000"
          },
          "showarrow": false,
          "text": "0",
          "x": "subject09",
          "xref": "x",
          "y": "subject04",
          "yref": "y"
         },
         {
          "font": {
           "color": "#000000"
          },
          "showarrow": false,
          "text": "0",
          "x": "subject10",
          "xref": "x",
          "y": "subject04",
          "yref": "y"
         },
         {
          "font": {
           "color": "#000000"
          },
          "showarrow": false,
          "text": "0",
          "x": "subject11",
          "xref": "x",
          "y": "subject04",
          "yref": "y"
         },
         {
          "font": {
           "color": "#000000"
          },
          "showarrow": false,
          "text": "0",
          "x": "subject12",
          "xref": "x",
          "y": "subject04",
          "yref": "y"
         },
         {
          "font": {
           "color": "#000000"
          },
          "showarrow": false,
          "text": "0",
          "x": "subject13",
          "xref": "x",
          "y": "subject04",
          "yref": "y"
         },
         {
          "font": {
           "color": "#000000"
          },
          "showarrow": false,
          "text": "0",
          "x": "subject14",
          "xref": "x",
          "y": "subject04",
          "yref": "y"
         },
         {
          "font": {
           "color": "#000000"
          },
          "showarrow": false,
          "text": "0",
          "x": "subject15",
          "xref": "x",
          "y": "subject04",
          "yref": "y"
         },
         {
          "font": {
           "color": "#000000"
          },
          "showarrow": false,
          "text": "0",
          "x": "subject01",
          "xref": "x",
          "y": "subject05",
          "yref": "y"
         },
         {
          "font": {
           "color": "#000000"
          },
          "showarrow": false,
          "text": "0",
          "x": "subject02",
          "xref": "x",
          "y": "subject05",
          "yref": "y"
         },
         {
          "font": {
           "color": "#000000"
          },
          "showarrow": false,
          "text": "0",
          "x": "subject03",
          "xref": "x",
          "y": "subject05",
          "yref": "y"
         },
         {
          "font": {
           "color": "#000000"
          },
          "showarrow": false,
          "text": "0",
          "x": "subject04",
          "xref": "x",
          "y": "subject05",
          "yref": "y"
         },
         {
          "font": {
           "color": "#FFFFFF"
          },
          "showarrow": false,
          "text": "2",
          "x": "subject05",
          "xref": "x",
          "y": "subject05",
          "yref": "y"
         },
         {
          "font": {
           "color": "#000000"
          },
          "showarrow": false,
          "text": "0",
          "x": "subject06",
          "xref": "x",
          "y": "subject05",
          "yref": "y"
         },
         {
          "font": {
           "color": "#000000"
          },
          "showarrow": false,
          "text": "0",
          "x": "subject07",
          "xref": "x",
          "y": "subject05",
          "yref": "y"
         },
         {
          "font": {
           "color": "#000000"
          },
          "showarrow": false,
          "text": "0",
          "x": "subject08",
          "xref": "x",
          "y": "subject05",
          "yref": "y"
         },
         {
          "font": {
           "color": "#000000"
          },
          "showarrow": false,
          "text": "0",
          "x": "subject09",
          "xref": "x",
          "y": "subject05",
          "yref": "y"
         },
         {
          "font": {
           "color": "#000000"
          },
          "showarrow": false,
          "text": "0",
          "x": "subject10",
          "xref": "x",
          "y": "subject05",
          "yref": "y"
         },
         {
          "font": {
           "color": "#000000"
          },
          "showarrow": false,
          "text": "0",
          "x": "subject11",
          "xref": "x",
          "y": "subject05",
          "yref": "y"
         },
         {
          "font": {
           "color": "#000000"
          },
          "showarrow": false,
          "text": "1",
          "x": "subject12",
          "xref": "x",
          "y": "subject05",
          "yref": "y"
         },
         {
          "font": {
           "color": "#000000"
          },
          "showarrow": false,
          "text": "0",
          "x": "subject13",
          "xref": "x",
          "y": "subject05",
          "yref": "y"
         },
         {
          "font": {
           "color": "#000000"
          },
          "showarrow": false,
          "text": "0",
          "x": "subject14",
          "xref": "x",
          "y": "subject05",
          "yref": "y"
         },
         {
          "font": {
           "color": "#000000"
          },
          "showarrow": false,
          "text": "0",
          "x": "subject15",
          "xref": "x",
          "y": "subject05",
          "yref": "y"
         },
         {
          "font": {
           "color": "#000000"
          },
          "showarrow": false,
          "text": "0",
          "x": "subject01",
          "xref": "x",
          "y": "subject06",
          "yref": "y"
         },
         {
          "font": {
           "color": "#000000"
          },
          "showarrow": false,
          "text": "0",
          "x": "subject02",
          "xref": "x",
          "y": "subject06",
          "yref": "y"
         },
         {
          "font": {
           "color": "#000000"
          },
          "showarrow": false,
          "text": "0",
          "x": "subject03",
          "xref": "x",
          "y": "subject06",
          "yref": "y"
         },
         {
          "font": {
           "color": "#000000"
          },
          "showarrow": false,
          "text": "0",
          "x": "subject04",
          "xref": "x",
          "y": "subject06",
          "yref": "y"
         },
         {
          "font": {
           "color": "#000000"
          },
          "showarrow": false,
          "text": "0",
          "x": "subject05",
          "xref": "x",
          "y": "subject06",
          "yref": "y"
         },
         {
          "font": {
           "color": "#FFFFFF"
          },
          "showarrow": false,
          "text": "3",
          "x": "subject06",
          "xref": "x",
          "y": "subject06",
          "yref": "y"
         },
         {
          "font": {
           "color": "#000000"
          },
          "showarrow": false,
          "text": "0",
          "x": "subject07",
          "xref": "x",
          "y": "subject06",
          "yref": "y"
         },
         {
          "font": {
           "color": "#000000"
          },
          "showarrow": false,
          "text": "0",
          "x": "subject08",
          "xref": "x",
          "y": "subject06",
          "yref": "y"
         },
         {
          "font": {
           "color": "#000000"
          },
          "showarrow": false,
          "text": "0",
          "x": "subject09",
          "xref": "x",
          "y": "subject06",
          "yref": "y"
         },
         {
          "font": {
           "color": "#000000"
          },
          "showarrow": false,
          "text": "0",
          "x": "subject10",
          "xref": "x",
          "y": "subject06",
          "yref": "y"
         },
         {
          "font": {
           "color": "#000000"
          },
          "showarrow": false,
          "text": "0",
          "x": "subject11",
          "xref": "x",
          "y": "subject06",
          "yref": "y"
         },
         {
          "font": {
           "color": "#000000"
          },
          "showarrow": false,
          "text": "0",
          "x": "subject12",
          "xref": "x",
          "y": "subject06",
          "yref": "y"
         },
         {
          "font": {
           "color": "#000000"
          },
          "showarrow": false,
          "text": "0",
          "x": "subject13",
          "xref": "x",
          "y": "subject06",
          "yref": "y"
         },
         {
          "font": {
           "color": "#000000"
          },
          "showarrow": false,
          "text": "0",
          "x": "subject14",
          "xref": "x",
          "y": "subject06",
          "yref": "y"
         },
         {
          "font": {
           "color": "#000000"
          },
          "showarrow": false,
          "text": "0",
          "x": "subject15",
          "xref": "x",
          "y": "subject06",
          "yref": "y"
         },
         {
          "font": {
           "color": "#000000"
          },
          "showarrow": false,
          "text": "0",
          "x": "subject01",
          "xref": "x",
          "y": "subject07",
          "yref": "y"
         },
         {
          "font": {
           "color": "#000000"
          },
          "showarrow": false,
          "text": "0",
          "x": "subject02",
          "xref": "x",
          "y": "subject07",
          "yref": "y"
         },
         {
          "font": {
           "color": "#000000"
          },
          "showarrow": false,
          "text": "1",
          "x": "subject03",
          "xref": "x",
          "y": "subject07",
          "yref": "y"
         },
         {
          "font": {
           "color": "#000000"
          },
          "showarrow": false,
          "text": "0",
          "x": "subject04",
          "xref": "x",
          "y": "subject07",
          "yref": "y"
         },
         {
          "font": {
           "color": "#000000"
          },
          "showarrow": false,
          "text": "0",
          "x": "subject05",
          "xref": "x",
          "y": "subject07",
          "yref": "y"
         },
         {
          "font": {
           "color": "#000000"
          },
          "showarrow": false,
          "text": "0",
          "x": "subject06",
          "xref": "x",
          "y": "subject07",
          "yref": "y"
         },
         {
          "font": {
           "color": "#000000"
          },
          "showarrow": false,
          "text": "1",
          "x": "subject07",
          "xref": "x",
          "y": "subject07",
          "yref": "y"
         },
         {
          "font": {
           "color": "#000000"
          },
          "showarrow": false,
          "text": "0",
          "x": "subject08",
          "xref": "x",
          "y": "subject07",
          "yref": "y"
         },
         {
          "font": {
           "color": "#000000"
          },
          "showarrow": false,
          "text": "0",
          "x": "subject09",
          "xref": "x",
          "y": "subject07",
          "yref": "y"
         },
         {
          "font": {
           "color": "#000000"
          },
          "showarrow": false,
          "text": "1",
          "x": "subject10",
          "xref": "x",
          "y": "subject07",
          "yref": "y"
         },
         {
          "font": {
           "color": "#000000"
          },
          "showarrow": false,
          "text": "0",
          "x": "subject11",
          "xref": "x",
          "y": "subject07",
          "yref": "y"
         },
         {
          "font": {
           "color": "#000000"
          },
          "showarrow": false,
          "text": "0",
          "x": "subject12",
          "xref": "x",
          "y": "subject07",
          "yref": "y"
         },
         {
          "font": {
           "color": "#000000"
          },
          "showarrow": false,
          "text": "0",
          "x": "subject13",
          "xref": "x",
          "y": "subject07",
          "yref": "y"
         },
         {
          "font": {
           "color": "#000000"
          },
          "showarrow": false,
          "text": "0",
          "x": "subject14",
          "xref": "x",
          "y": "subject07",
          "yref": "y"
         },
         {
          "font": {
           "color": "#000000"
          },
          "showarrow": false,
          "text": "0",
          "x": "subject15",
          "xref": "x",
          "y": "subject07",
          "yref": "y"
         },
         {
          "font": {
           "color": "#000000"
          },
          "showarrow": false,
          "text": "0",
          "x": "subject01",
          "xref": "x",
          "y": "subject08",
          "yref": "y"
         },
         {
          "font": {
           "color": "#000000"
          },
          "showarrow": false,
          "text": "0",
          "x": "subject02",
          "xref": "x",
          "y": "subject08",
          "yref": "y"
         },
         {
          "font": {
           "color": "#000000"
          },
          "showarrow": false,
          "text": "1",
          "x": "subject03",
          "xref": "x",
          "y": "subject08",
          "yref": "y"
         },
         {
          "font": {
           "color": "#000000"
          },
          "showarrow": false,
          "text": "0",
          "x": "subject04",
          "xref": "x",
          "y": "subject08",
          "yref": "y"
         },
         {
          "font": {
           "color": "#000000"
          },
          "showarrow": false,
          "text": "0",
          "x": "subject05",
          "xref": "x",
          "y": "subject08",
          "yref": "y"
         },
         {
          "font": {
           "color": "#000000"
          },
          "showarrow": false,
          "text": "0",
          "x": "subject06",
          "xref": "x",
          "y": "subject08",
          "yref": "y"
         },
         {
          "font": {
           "color": "#000000"
          },
          "showarrow": false,
          "text": "0",
          "x": "subject07",
          "xref": "x",
          "y": "subject08",
          "yref": "y"
         },
         {
          "font": {
           "color": "#000000"
          },
          "showarrow": false,
          "text": "1",
          "x": "subject08",
          "xref": "x",
          "y": "subject08",
          "yref": "y"
         },
         {
          "font": {
           "color": "#000000"
          },
          "showarrow": false,
          "text": "0",
          "x": "subject09",
          "xref": "x",
          "y": "subject08",
          "yref": "y"
         },
         {
          "font": {
           "color": "#000000"
          },
          "showarrow": false,
          "text": "1",
          "x": "subject10",
          "xref": "x",
          "y": "subject08",
          "yref": "y"
         },
         {
          "font": {
           "color": "#000000"
          },
          "showarrow": false,
          "text": "0",
          "x": "subject11",
          "xref": "x",
          "y": "subject08",
          "yref": "y"
         },
         {
          "font": {
           "color": "#000000"
          },
          "showarrow": false,
          "text": "0",
          "x": "subject12",
          "xref": "x",
          "y": "subject08",
          "yref": "y"
         },
         {
          "font": {
           "color": "#000000"
          },
          "showarrow": false,
          "text": "0",
          "x": "subject13",
          "xref": "x",
          "y": "subject08",
          "yref": "y"
         },
         {
          "font": {
           "color": "#000000"
          },
          "showarrow": false,
          "text": "0",
          "x": "subject14",
          "xref": "x",
          "y": "subject08",
          "yref": "y"
         },
         {
          "font": {
           "color": "#000000"
          },
          "showarrow": false,
          "text": "0",
          "x": "subject15",
          "xref": "x",
          "y": "subject08",
          "yref": "y"
         },
         {
          "font": {
           "color": "#000000"
          },
          "showarrow": false,
          "text": "0",
          "x": "subject01",
          "xref": "x",
          "y": "subject09",
          "yref": "y"
         },
         {
          "font": {
           "color": "#000000"
          },
          "showarrow": false,
          "text": "0",
          "x": "subject02",
          "xref": "x",
          "y": "subject09",
          "yref": "y"
         },
         {
          "font": {
           "color": "#000000"
          },
          "showarrow": false,
          "text": "0",
          "x": "subject03",
          "xref": "x",
          "y": "subject09",
          "yref": "y"
         },
         {
          "font": {
           "color": "#000000"
          },
          "showarrow": false,
          "text": "0",
          "x": "subject04",
          "xref": "x",
          "y": "subject09",
          "yref": "y"
         },
         {
          "font": {
           "color": "#000000"
          },
          "showarrow": false,
          "text": "0",
          "x": "subject05",
          "xref": "x",
          "y": "subject09",
          "yref": "y"
         },
         {
          "font": {
           "color": "#000000"
          },
          "showarrow": false,
          "text": "0",
          "x": "subject06",
          "xref": "x",
          "y": "subject09",
          "yref": "y"
         },
         {
          "font": {
           "color": "#000000"
          },
          "showarrow": false,
          "text": "0",
          "x": "subject07",
          "xref": "x",
          "y": "subject09",
          "yref": "y"
         },
         {
          "font": {
           "color": "#000000"
          },
          "showarrow": false,
          "text": "1",
          "x": "subject08",
          "xref": "x",
          "y": "subject09",
          "yref": "y"
         },
         {
          "font": {
           "color": "#FFFFFF"
          },
          "showarrow": false,
          "text": "2",
          "x": "subject09",
          "xref": "x",
          "y": "subject09",
          "yref": "y"
         },
         {
          "font": {
           "color": "#000000"
          },
          "showarrow": false,
          "text": "0",
          "x": "subject10",
          "xref": "x",
          "y": "subject09",
          "yref": "y"
         },
         {
          "font": {
           "color": "#000000"
          },
          "showarrow": false,
          "text": "0",
          "x": "subject11",
          "xref": "x",
          "y": "subject09",
          "yref": "y"
         },
         {
          "font": {
           "color": "#000000"
          },
          "showarrow": false,
          "text": "0",
          "x": "subject12",
          "xref": "x",
          "y": "subject09",
          "yref": "y"
         },
         {
          "font": {
           "color": "#000000"
          },
          "showarrow": false,
          "text": "0",
          "x": "subject13",
          "xref": "x",
          "y": "subject09",
          "yref": "y"
         },
         {
          "font": {
           "color": "#000000"
          },
          "showarrow": false,
          "text": "0",
          "x": "subject14",
          "xref": "x",
          "y": "subject09",
          "yref": "y"
         },
         {
          "font": {
           "color": "#000000"
          },
          "showarrow": false,
          "text": "0",
          "x": "subject15",
          "xref": "x",
          "y": "subject09",
          "yref": "y"
         },
         {
          "font": {
           "color": "#000000"
          },
          "showarrow": false,
          "text": "0",
          "x": "subject01",
          "xref": "x",
          "y": "subject10",
          "yref": "y"
         },
         {
          "font": {
           "color": "#000000"
          },
          "showarrow": false,
          "text": "0",
          "x": "subject02",
          "xref": "x",
          "y": "subject10",
          "yref": "y"
         },
         {
          "font": {
           "color": "#000000"
          },
          "showarrow": false,
          "text": "0",
          "x": "subject03",
          "xref": "x",
          "y": "subject10",
          "yref": "y"
         },
         {
          "font": {
           "color": "#000000"
          },
          "showarrow": false,
          "text": "0",
          "x": "subject04",
          "xref": "x",
          "y": "subject10",
          "yref": "y"
         },
         {
          "font": {
           "color": "#000000"
          },
          "showarrow": false,
          "text": "0",
          "x": "subject05",
          "xref": "x",
          "y": "subject10",
          "yref": "y"
         },
         {
          "font": {
           "color": "#000000"
          },
          "showarrow": false,
          "text": "0",
          "x": "subject06",
          "xref": "x",
          "y": "subject10",
          "yref": "y"
         },
         {
          "font": {
           "color": "#000000"
          },
          "showarrow": false,
          "text": "0",
          "x": "subject07",
          "xref": "x",
          "y": "subject10",
          "yref": "y"
         },
         {
          "font": {
           "color": "#000000"
          },
          "showarrow": false,
          "text": "0",
          "x": "subject08",
          "xref": "x",
          "y": "subject10",
          "yref": "y"
         },
         {
          "font": {
           "color": "#000000"
          },
          "showarrow": false,
          "text": "0",
          "x": "subject09",
          "xref": "x",
          "y": "subject10",
          "yref": "y"
         },
         {
          "font": {
           "color": "#FFFFFF"
          },
          "showarrow": false,
          "text": "3",
          "x": "subject10",
          "xref": "x",
          "y": "subject10",
          "yref": "y"
         },
         {
          "font": {
           "color": "#000000"
          },
          "showarrow": false,
          "text": "0",
          "x": "subject11",
          "xref": "x",
          "y": "subject10",
          "yref": "y"
         },
         {
          "font": {
           "color": "#000000"
          },
          "showarrow": false,
          "text": "0",
          "x": "subject12",
          "xref": "x",
          "y": "subject10",
          "yref": "y"
         },
         {
          "font": {
           "color": "#000000"
          },
          "showarrow": false,
          "text": "0",
          "x": "subject13",
          "xref": "x",
          "y": "subject10",
          "yref": "y"
         },
         {
          "font": {
           "color": "#000000"
          },
          "showarrow": false,
          "text": "0",
          "x": "subject14",
          "xref": "x",
          "y": "subject10",
          "yref": "y"
         },
         {
          "font": {
           "color": "#000000"
          },
          "showarrow": false,
          "text": "0",
          "x": "subject15",
          "xref": "x",
          "y": "subject10",
          "yref": "y"
         },
         {
          "font": {
           "color": "#000000"
          },
          "showarrow": false,
          "text": "0",
          "x": "subject01",
          "xref": "x",
          "y": "subject11",
          "yref": "y"
         },
         {
          "font": {
           "color": "#000000"
          },
          "showarrow": false,
          "text": "0",
          "x": "subject02",
          "xref": "x",
          "y": "subject11",
          "yref": "y"
         },
         {
          "font": {
           "color": "#000000"
          },
          "showarrow": false,
          "text": "0",
          "x": "subject03",
          "xref": "x",
          "y": "subject11",
          "yref": "y"
         },
         {
          "font": {
           "color": "#000000"
          },
          "showarrow": false,
          "text": "0",
          "x": "subject04",
          "xref": "x",
          "y": "subject11",
          "yref": "y"
         },
         {
          "font": {
           "color": "#000000"
          },
          "showarrow": false,
          "text": "0",
          "x": "subject05",
          "xref": "x",
          "y": "subject11",
          "yref": "y"
         },
         {
          "font": {
           "color": "#000000"
          },
          "showarrow": false,
          "text": "0",
          "x": "subject06",
          "xref": "x",
          "y": "subject11",
          "yref": "y"
         },
         {
          "font": {
           "color": "#000000"
          },
          "showarrow": false,
          "text": "0",
          "x": "subject07",
          "xref": "x",
          "y": "subject11",
          "yref": "y"
         },
         {
          "font": {
           "color": "#000000"
          },
          "showarrow": false,
          "text": "0",
          "x": "subject08",
          "xref": "x",
          "y": "subject11",
          "yref": "y"
         },
         {
          "font": {
           "color": "#000000"
          },
          "showarrow": false,
          "text": "0",
          "x": "subject09",
          "xref": "x",
          "y": "subject11",
          "yref": "y"
         },
         {
          "font": {
           "color": "#000000"
          },
          "showarrow": false,
          "text": "0",
          "x": "subject10",
          "xref": "x",
          "y": "subject11",
          "yref": "y"
         },
         {
          "font": {
           "color": "#FFFFFF"
          },
          "showarrow": false,
          "text": "3",
          "x": "subject11",
          "xref": "x",
          "y": "subject11",
          "yref": "y"
         },
         {
          "font": {
           "color": "#000000"
          },
          "showarrow": false,
          "text": "0",
          "x": "subject12",
          "xref": "x",
          "y": "subject11",
          "yref": "y"
         },
         {
          "font": {
           "color": "#000000"
          },
          "showarrow": false,
          "text": "0",
          "x": "subject13",
          "xref": "x",
          "y": "subject11",
          "yref": "y"
         },
         {
          "font": {
           "color": "#000000"
          },
          "showarrow": false,
          "text": "0",
          "x": "subject14",
          "xref": "x",
          "y": "subject11",
          "yref": "y"
         },
         {
          "font": {
           "color": "#000000"
          },
          "showarrow": false,
          "text": "0",
          "x": "subject15",
          "xref": "x",
          "y": "subject11",
          "yref": "y"
         },
         {
          "font": {
           "color": "#000000"
          },
          "showarrow": false,
          "text": "0",
          "x": "subject01",
          "xref": "x",
          "y": "subject12",
          "yref": "y"
         },
         {
          "font": {
           "color": "#000000"
          },
          "showarrow": false,
          "text": "0",
          "x": "subject02",
          "xref": "x",
          "y": "subject12",
          "yref": "y"
         },
         {
          "font": {
           "color": "#000000"
          },
          "showarrow": false,
          "text": "0",
          "x": "subject03",
          "xref": "x",
          "y": "subject12",
          "yref": "y"
         },
         {
          "font": {
           "color": "#000000"
          },
          "showarrow": false,
          "text": "0",
          "x": "subject04",
          "xref": "x",
          "y": "subject12",
          "yref": "y"
         },
         {
          "font": {
           "color": "#000000"
          },
          "showarrow": false,
          "text": "0",
          "x": "subject05",
          "xref": "x",
          "y": "subject12",
          "yref": "y"
         },
         {
          "font": {
           "color": "#000000"
          },
          "showarrow": false,
          "text": "0",
          "x": "subject06",
          "xref": "x",
          "y": "subject12",
          "yref": "y"
         },
         {
          "font": {
           "color": "#000000"
          },
          "showarrow": false,
          "text": "0",
          "x": "subject07",
          "xref": "x",
          "y": "subject12",
          "yref": "y"
         },
         {
          "font": {
           "color": "#000000"
          },
          "showarrow": false,
          "text": "0",
          "x": "subject08",
          "xref": "x",
          "y": "subject12",
          "yref": "y"
         },
         {
          "font": {
           "color": "#000000"
          },
          "showarrow": false,
          "text": "0",
          "x": "subject09",
          "xref": "x",
          "y": "subject12",
          "yref": "y"
         },
         {
          "font": {
           "color": "#000000"
          },
          "showarrow": false,
          "text": "0",
          "x": "subject10",
          "xref": "x",
          "y": "subject12",
          "yref": "y"
         },
         {
          "font": {
           "color": "#000000"
          },
          "showarrow": false,
          "text": "0",
          "x": "subject11",
          "xref": "x",
          "y": "subject12",
          "yref": "y"
         },
         {
          "font": {
           "color": "#FFFFFF"
          },
          "showarrow": false,
          "text": "3",
          "x": "subject12",
          "xref": "x",
          "y": "subject12",
          "yref": "y"
         },
         {
          "font": {
           "color": "#000000"
          },
          "showarrow": false,
          "text": "0",
          "x": "subject13",
          "xref": "x",
          "y": "subject12",
          "yref": "y"
         },
         {
          "font": {
           "color": "#000000"
          },
          "showarrow": false,
          "text": "0",
          "x": "subject14",
          "xref": "x",
          "y": "subject12",
          "yref": "y"
         },
         {
          "font": {
           "color": "#000000"
          },
          "showarrow": false,
          "text": "0",
          "x": "subject15",
          "xref": "x",
          "y": "subject12",
          "yref": "y"
         },
         {
          "font": {
           "color": "#000000"
          },
          "showarrow": false,
          "text": "0",
          "x": "subject01",
          "xref": "x",
          "y": "subject13",
          "yref": "y"
         },
         {
          "font": {
           "color": "#000000"
          },
          "showarrow": false,
          "text": "0",
          "x": "subject02",
          "xref": "x",
          "y": "subject13",
          "yref": "y"
         },
         {
          "font": {
           "color": "#000000"
          },
          "showarrow": false,
          "text": "0",
          "x": "subject03",
          "xref": "x",
          "y": "subject13",
          "yref": "y"
         },
         {
          "font": {
           "color": "#000000"
          },
          "showarrow": false,
          "text": "0",
          "x": "subject04",
          "xref": "x",
          "y": "subject13",
          "yref": "y"
         },
         {
          "font": {
           "color": "#000000"
          },
          "showarrow": false,
          "text": "0",
          "x": "subject05",
          "xref": "x",
          "y": "subject13",
          "yref": "y"
         },
         {
          "font": {
           "color": "#000000"
          },
          "showarrow": false,
          "text": "0",
          "x": "subject06",
          "xref": "x",
          "y": "subject13",
          "yref": "y"
         },
         {
          "font": {
           "color": "#000000"
          },
          "showarrow": false,
          "text": "0",
          "x": "subject07",
          "xref": "x",
          "y": "subject13",
          "yref": "y"
         },
         {
          "font": {
           "color": "#000000"
          },
          "showarrow": false,
          "text": "0",
          "x": "subject08",
          "xref": "x",
          "y": "subject13",
          "yref": "y"
         },
         {
          "font": {
           "color": "#000000"
          },
          "showarrow": false,
          "text": "0",
          "x": "subject09",
          "xref": "x",
          "y": "subject13",
          "yref": "y"
         },
         {
          "font": {
           "color": "#000000"
          },
          "showarrow": false,
          "text": "0",
          "x": "subject10",
          "xref": "x",
          "y": "subject13",
          "yref": "y"
         },
         {
          "font": {
           "color": "#000000"
          },
          "showarrow": false,
          "text": "0",
          "x": "subject11",
          "xref": "x",
          "y": "subject13",
          "yref": "y"
         },
         {
          "font": {
           "color": "#000000"
          },
          "showarrow": false,
          "text": "0",
          "x": "subject12",
          "xref": "x",
          "y": "subject13",
          "yref": "y"
         },
         {
          "font": {
           "color": "#FFFFFF"
          },
          "showarrow": false,
          "text": "3",
          "x": "subject13",
          "xref": "x",
          "y": "subject13",
          "yref": "y"
         },
         {
          "font": {
           "color": "#000000"
          },
          "showarrow": false,
          "text": "0",
          "x": "subject14",
          "xref": "x",
          "y": "subject13",
          "yref": "y"
         },
         {
          "font": {
           "color": "#000000"
          },
          "showarrow": false,
          "text": "0",
          "x": "subject15",
          "xref": "x",
          "y": "subject13",
          "yref": "y"
         },
         {
          "font": {
           "color": "#000000"
          },
          "showarrow": false,
          "text": "0",
          "x": "subject01",
          "xref": "x",
          "y": "subject14",
          "yref": "y"
         },
         {
          "font": {
           "color": "#000000"
          },
          "showarrow": false,
          "text": "0",
          "x": "subject02",
          "xref": "x",
          "y": "subject14",
          "yref": "y"
         },
         {
          "font": {
           "color": "#000000"
          },
          "showarrow": false,
          "text": "0",
          "x": "subject03",
          "xref": "x",
          "y": "subject14",
          "yref": "y"
         },
         {
          "font": {
           "color": "#000000"
          },
          "showarrow": false,
          "text": "0",
          "x": "subject04",
          "xref": "x",
          "y": "subject14",
          "yref": "y"
         },
         {
          "font": {
           "color": "#000000"
          },
          "showarrow": false,
          "text": "0",
          "x": "subject05",
          "xref": "x",
          "y": "subject14",
          "yref": "y"
         },
         {
          "font": {
           "color": "#000000"
          },
          "showarrow": false,
          "text": "0",
          "x": "subject06",
          "xref": "x",
          "y": "subject14",
          "yref": "y"
         },
         {
          "font": {
           "color": "#000000"
          },
          "showarrow": false,
          "text": "0",
          "x": "subject07",
          "xref": "x",
          "y": "subject14",
          "yref": "y"
         },
         {
          "font": {
           "color": "#000000"
          },
          "showarrow": false,
          "text": "0",
          "x": "subject08",
          "xref": "x",
          "y": "subject14",
          "yref": "y"
         },
         {
          "font": {
           "color": "#000000"
          },
          "showarrow": false,
          "text": "1",
          "x": "subject09",
          "xref": "x",
          "y": "subject14",
          "yref": "y"
         },
         {
          "font": {
           "color": "#000000"
          },
          "showarrow": false,
          "text": "0",
          "x": "subject10",
          "xref": "x",
          "y": "subject14",
          "yref": "y"
         },
         {
          "font": {
           "color": "#000000"
          },
          "showarrow": false,
          "text": "0",
          "x": "subject11",
          "xref": "x",
          "y": "subject14",
          "yref": "y"
         },
         {
          "font": {
           "color": "#000000"
          },
          "showarrow": false,
          "text": "0",
          "x": "subject12",
          "xref": "x",
          "y": "subject14",
          "yref": "y"
         },
         {
          "font": {
           "color": "#000000"
          },
          "showarrow": false,
          "text": "0",
          "x": "subject13",
          "xref": "x",
          "y": "subject14",
          "yref": "y"
         },
         {
          "font": {
           "color": "#FFFFFF"
          },
          "showarrow": false,
          "text": "2",
          "x": "subject14",
          "xref": "x",
          "y": "subject14",
          "yref": "y"
         },
         {
          "font": {
           "color": "#000000"
          },
          "showarrow": false,
          "text": "0",
          "x": "subject15",
          "xref": "x",
          "y": "subject14",
          "yref": "y"
         },
         {
          "font": {
           "color": "#000000"
          },
          "showarrow": false,
          "text": "0",
          "x": "subject01",
          "xref": "x",
          "y": "subject15",
          "yref": "y"
         },
         {
          "font": {
           "color": "#000000"
          },
          "showarrow": false,
          "text": "0",
          "x": "subject02",
          "xref": "x",
          "y": "subject15",
          "yref": "y"
         },
         {
          "font": {
           "color": "#000000"
          },
          "showarrow": false,
          "text": "0",
          "x": "subject03",
          "xref": "x",
          "y": "subject15",
          "yref": "y"
         },
         {
          "font": {
           "color": "#000000"
          },
          "showarrow": false,
          "text": "0",
          "x": "subject04",
          "xref": "x",
          "y": "subject15",
          "yref": "y"
         },
         {
          "font": {
           "color": "#000000"
          },
          "showarrow": false,
          "text": "0",
          "x": "subject05",
          "xref": "x",
          "y": "subject15",
          "yref": "y"
         },
         {
          "font": {
           "color": "#000000"
          },
          "showarrow": false,
          "text": "0",
          "x": "subject06",
          "xref": "x",
          "y": "subject15",
          "yref": "y"
         },
         {
          "font": {
           "color": "#000000"
          },
          "showarrow": false,
          "text": "0",
          "x": "subject07",
          "xref": "x",
          "y": "subject15",
          "yref": "y"
         },
         {
          "font": {
           "color": "#000000"
          },
          "showarrow": false,
          "text": "0",
          "x": "subject08",
          "xref": "x",
          "y": "subject15",
          "yref": "y"
         },
         {
          "font": {
           "color": "#000000"
          },
          "showarrow": false,
          "text": "0",
          "x": "subject09",
          "xref": "x",
          "y": "subject15",
          "yref": "y"
         },
         {
          "font": {
           "color": "#000000"
          },
          "showarrow": false,
          "text": "0",
          "x": "subject10",
          "xref": "x",
          "y": "subject15",
          "yref": "y"
         },
         {
          "font": {
           "color": "#000000"
          },
          "showarrow": false,
          "text": "0",
          "x": "subject11",
          "xref": "x",
          "y": "subject15",
          "yref": "y"
         },
         {
          "font": {
           "color": "#000000"
          },
          "showarrow": false,
          "text": "0",
          "x": "subject12",
          "xref": "x",
          "y": "subject15",
          "yref": "y"
         },
         {
          "font": {
           "color": "#000000"
          },
          "showarrow": false,
          "text": "0",
          "x": "subject13",
          "xref": "x",
          "y": "subject15",
          "yref": "y"
         },
         {
          "font": {
           "color": "#000000"
          },
          "showarrow": false,
          "text": "0",
          "x": "subject14",
          "xref": "x",
          "y": "subject15",
          "yref": "y"
         },
         {
          "font": {
           "color": "#FFFFFF"
          },
          "showarrow": false,
          "text": "3",
          "x": "subject15",
          "xref": "x",
          "y": "subject15",
          "yref": "y"
         }
        ],
        "autosize": false,
        "height": 650,
        "template": {
         "data": {
          "bar": [
           {
            "error_x": {
             "color": "#2a3f5f"
            },
            "error_y": {
             "color": "#2a3f5f"
            },
            "marker": {
             "line": {
              "color": "#E5ECF6",
              "width": 0.5
             },
             "pattern": {
              "fillmode": "overlay",
              "size": 10,
              "solidity": 0.2
             }
            },
            "type": "bar"
           }
          ],
          "barpolar": [
           {
            "marker": {
             "line": {
              "color": "#E5ECF6",
              "width": 0.5
             },
             "pattern": {
              "fillmode": "overlay",
              "size": 10,
              "solidity": 0.2
             }
            },
            "type": "barpolar"
           }
          ],
          "carpet": [
           {
            "aaxis": {
             "endlinecolor": "#2a3f5f",
             "gridcolor": "white",
             "linecolor": "white",
             "minorgridcolor": "white",
             "startlinecolor": "#2a3f5f"
            },
            "baxis": {
             "endlinecolor": "#2a3f5f",
             "gridcolor": "white",
             "linecolor": "white",
             "minorgridcolor": "white",
             "startlinecolor": "#2a3f5f"
            },
            "type": "carpet"
           }
          ],
          "choropleth": [
           {
            "colorbar": {
             "outlinewidth": 0,
             "ticks": ""
            },
            "type": "choropleth"
           }
          ],
          "contour": [
           {
            "colorbar": {
             "outlinewidth": 0,
             "ticks": ""
            },
            "colorscale": [
             [
              0,
              "#0d0887"
             ],
             [
              0.1111111111111111,
              "#46039f"
             ],
             [
              0.2222222222222222,
              "#7201a8"
             ],
             [
              0.3333333333333333,
              "#9c179e"
             ],
             [
              0.4444444444444444,
              "#bd3786"
             ],
             [
              0.5555555555555556,
              "#d8576b"
             ],
             [
              0.6666666666666666,
              "#ed7953"
             ],
             [
              0.7777777777777778,
              "#fb9f3a"
             ],
             [
              0.8888888888888888,
              "#fdca26"
             ],
             [
              1,
              "#f0f921"
             ]
            ],
            "type": "contour"
           }
          ],
          "contourcarpet": [
           {
            "colorbar": {
             "outlinewidth": 0,
             "ticks": ""
            },
            "type": "contourcarpet"
           }
          ],
          "heatmap": [
           {
            "colorbar": {
             "outlinewidth": 0,
             "ticks": ""
            },
            "colorscale": [
             [
              0,
              "#0d0887"
             ],
             [
              0.1111111111111111,
              "#46039f"
             ],
             [
              0.2222222222222222,
              "#7201a8"
             ],
             [
              0.3333333333333333,
              "#9c179e"
             ],
             [
              0.4444444444444444,
              "#bd3786"
             ],
             [
              0.5555555555555556,
              "#d8576b"
             ],
             [
              0.6666666666666666,
              "#ed7953"
             ],
             [
              0.7777777777777778,
              "#fb9f3a"
             ],
             [
              0.8888888888888888,
              "#fdca26"
             ],
             [
              1,
              "#f0f921"
             ]
            ],
            "type": "heatmap"
           }
          ],
          "histogram": [
           {
            "marker": {
             "pattern": {
              "fillmode": "overlay",
              "size": 10,
              "solidity": 0.2
             }
            },
            "type": "histogram"
           }
          ],
          "histogram2d": [
           {
            "colorbar": {
             "outlinewidth": 0,
             "ticks": ""
            },
            "colorscale": [
             [
              0,
              "#0d0887"
             ],
             [
              0.1111111111111111,
              "#46039f"
             ],
             [
              0.2222222222222222,
              "#7201a8"
             ],
             [
              0.3333333333333333,
              "#9c179e"
             ],
             [
              0.4444444444444444,
              "#bd3786"
             ],
             [
              0.5555555555555556,
              "#d8576b"
             ],
             [
              0.6666666666666666,
              "#ed7953"
             ],
             [
              0.7777777777777778,
              "#fb9f3a"
             ],
             [
              0.8888888888888888,
              "#fdca26"
             ],
             [
              1,
              "#f0f921"
             ]
            ],
            "type": "histogram2d"
           }
          ],
          "histogram2dcontour": [
           {
            "colorbar": {
             "outlinewidth": 0,
             "ticks": ""
            },
            "colorscale": [
             [
              0,
              "#0d0887"
             ],
             [
              0.1111111111111111,
              "#46039f"
             ],
             [
              0.2222222222222222,
              "#7201a8"
             ],
             [
              0.3333333333333333,
              "#9c179e"
             ],
             [
              0.4444444444444444,
              "#bd3786"
             ],
             [
              0.5555555555555556,
              "#d8576b"
             ],
             [
              0.6666666666666666,
              "#ed7953"
             ],
             [
              0.7777777777777778,
              "#fb9f3a"
             ],
             [
              0.8888888888888888,
              "#fdca26"
             ],
             [
              1,
              "#f0f921"
             ]
            ],
            "type": "histogram2dcontour"
           }
          ],
          "mesh3d": [
           {
            "colorbar": {
             "outlinewidth": 0,
             "ticks": ""
            },
            "type": "mesh3d"
           }
          ],
          "parcoords": [
           {
            "line": {
             "colorbar": {
              "outlinewidth": 0,
              "ticks": ""
             }
            },
            "type": "parcoords"
           }
          ],
          "pie": [
           {
            "automargin": true,
            "type": "pie"
           }
          ],
          "scatter": [
           {
            "fillpattern": {
             "fillmode": "overlay",
             "size": 10,
             "solidity": 0.2
            },
            "type": "scatter"
           }
          ],
          "scatter3d": [
           {
            "line": {
             "colorbar": {
              "outlinewidth": 0,
              "ticks": ""
             }
            },
            "marker": {
             "colorbar": {
              "outlinewidth": 0,
              "ticks": ""
             }
            },
            "type": "scatter3d"
           }
          ],
          "scattercarpet": [
           {
            "marker": {
             "colorbar": {
              "outlinewidth": 0,
              "ticks": ""
             }
            },
            "type": "scattercarpet"
           }
          ],
          "scattergeo": [
           {
            "marker": {
             "colorbar": {
              "outlinewidth": 0,
              "ticks": ""
             }
            },
            "type": "scattergeo"
           }
          ],
          "scattergl": [
           {
            "marker": {
             "colorbar": {
              "outlinewidth": 0,
              "ticks": ""
             }
            },
            "type": "scattergl"
           }
          ],
          "scattermap": [
           {
            "marker": {
             "colorbar": {
              "outlinewidth": 0,
              "ticks": ""
             }
            },
            "type": "scattermap"
           }
          ],
          "scattermapbox": [
           {
            "marker": {
             "colorbar": {
              "outlinewidth": 0,
              "ticks": ""
             }
            },
            "type": "scattermapbox"
           }
          ],
          "scatterpolar": [
           {
            "marker": {
             "colorbar": {
              "outlinewidth": 0,
              "ticks": ""
             }
            },
            "type": "scatterpolar"
           }
          ],
          "scatterpolargl": [
           {
            "marker": {
             "colorbar": {
              "outlinewidth": 0,
              "ticks": ""
             }
            },
            "type": "scatterpolargl"
           }
          ],
          "scatterternary": [
           {
            "marker": {
             "colorbar": {
              "outlinewidth": 0,
              "ticks": ""
             }
            },
            "type": "scatterternary"
           }
          ],
          "surface": [
           {
            "colorbar": {
             "outlinewidth": 0,
             "ticks": ""
            },
            "colorscale": [
             [
              0,
              "#0d0887"
             ],
             [
              0.1111111111111111,
              "#46039f"
             ],
             [
              0.2222222222222222,
              "#7201a8"
             ],
             [
              0.3333333333333333,
              "#9c179e"
             ],
             [
              0.4444444444444444,
              "#bd3786"
             ],
             [
              0.5555555555555556,
              "#d8576b"
             ],
             [
              0.6666666666666666,
              "#ed7953"
             ],
             [
              0.7777777777777778,
              "#fb9f3a"
             ],
             [
              0.8888888888888888,
              "#fdca26"
             ],
             [
              1,
              "#f0f921"
             ]
            ],
            "type": "surface"
           }
          ],
          "table": [
           {
            "cells": {
             "fill": {
              "color": "#EBF0F8"
             },
             "line": {
              "color": "white"
             }
            },
            "header": {
             "fill": {
              "color": "#C8D4E3"
             },
             "line": {
              "color": "white"
             }
            },
            "type": "table"
           }
          ]
         },
         "layout": {
          "annotationdefaults": {
           "arrowcolor": "#2a3f5f",
           "arrowhead": 0,
           "arrowwidth": 1
          },
          "autotypenumbers": "strict",
          "coloraxis": {
           "colorbar": {
            "outlinewidth": 0,
            "ticks": ""
           }
          },
          "colorscale": {
           "diverging": [
            [
             0,
             "#8e0152"
            ],
            [
             0.1,
             "#c51b7d"
            ],
            [
             0.2,
             "#de77ae"
            ],
            [
             0.3,
             "#f1b6da"
            ],
            [
             0.4,
             "#fde0ef"
            ],
            [
             0.5,
             "#f7f7f7"
            ],
            [
             0.6,
             "#e6f5d0"
            ],
            [
             0.7,
             "#b8e186"
            ],
            [
             0.8,
             "#7fbc41"
            ],
            [
             0.9,
             "#4d9221"
            ],
            [
             1,
             "#276419"
            ]
           ],
           "sequential": [
            [
             0,
             "#0d0887"
            ],
            [
             0.1111111111111111,
             "#46039f"
            ],
            [
             0.2222222222222222,
             "#7201a8"
            ],
            [
             0.3333333333333333,
             "#9c179e"
            ],
            [
             0.4444444444444444,
             "#bd3786"
            ],
            [
             0.5555555555555556,
             "#d8576b"
            ],
            [
             0.6666666666666666,
             "#ed7953"
            ],
            [
             0.7777777777777778,
             "#fb9f3a"
            ],
            [
             0.8888888888888888,
             "#fdca26"
            ],
            [
             1,
             "#f0f921"
            ]
           ],
           "sequentialminus": [
            [
             0,
             "#0d0887"
            ],
            [
             0.1111111111111111,
             "#46039f"
            ],
            [
             0.2222222222222222,
             "#7201a8"
            ],
            [
             0.3333333333333333,
             "#9c179e"
            ],
            [
             0.4444444444444444,
             "#bd3786"
            ],
            [
             0.5555555555555556,
             "#d8576b"
            ],
            [
             0.6666666666666666,
             "#ed7953"
            ],
            [
             0.7777777777777778,
             "#fb9f3a"
            ],
            [
             0.8888888888888888,
             "#fdca26"
            ],
            [
             1,
             "#f0f921"
            ]
           ]
          },
          "colorway": [
           "#636efa",
           "#EF553B",
           "#00cc96",
           "#ab63fa",
           "#FFA15A",
           "#19d3f3",
           "#FF6692",
           "#B6E880",
           "#FF97FF",
           "#FECB52"
          ],
          "font": {
           "color": "#2a3f5f"
          },
          "geo": {
           "bgcolor": "white",
           "lakecolor": "white",
           "landcolor": "#E5ECF6",
           "showlakes": true,
           "showland": true,
           "subunitcolor": "white"
          },
          "hoverlabel": {
           "align": "left"
          },
          "hovermode": "closest",
          "mapbox": {
           "style": "light"
          },
          "paper_bgcolor": "white",
          "plot_bgcolor": "#E5ECF6",
          "polar": {
           "angularaxis": {
            "gridcolor": "white",
            "linecolor": "white",
            "ticks": ""
           },
           "bgcolor": "#E5ECF6",
           "radialaxis": {
            "gridcolor": "white",
            "linecolor": "white",
            "ticks": ""
           }
          },
          "scene": {
           "xaxis": {
            "backgroundcolor": "#E5ECF6",
            "gridcolor": "white",
            "gridwidth": 2,
            "linecolor": "white",
            "showbackground": true,
            "ticks": "",
            "zerolinecolor": "white"
           },
           "yaxis": {
            "backgroundcolor": "#E5ECF6",
            "gridcolor": "white",
            "gridwidth": 2,
            "linecolor": "white",
            "showbackground": true,
            "ticks": "",
            "zerolinecolor": "white"
           },
           "zaxis": {
            "backgroundcolor": "#E5ECF6",
            "gridcolor": "white",
            "gridwidth": 2,
            "linecolor": "white",
            "showbackground": true,
            "ticks": "",
            "zerolinecolor": "white"
           }
          },
          "shapedefaults": {
           "line": {
            "color": "#2a3f5f"
           }
          },
          "ternary": {
           "aaxis": {
            "gridcolor": "white",
            "linecolor": "white",
            "ticks": ""
           },
           "baxis": {
            "gridcolor": "white",
            "linecolor": "white",
            "ticks": ""
           },
           "bgcolor": "#E5ECF6",
           "caxis": {
            "gridcolor": "white",
            "linecolor": "white",
            "ticks": ""
           }
          },
          "title": {
           "x": 0.05
          },
          "xaxis": {
           "automargin": true,
           "gridcolor": "white",
           "linecolor": "white",
           "ticks": "",
           "title": {
            "standoff": 15
           },
           "zerolinecolor": "white",
           "zerolinewidth": 2
          },
          "yaxis": {
           "automargin": true,
           "gridcolor": "white",
           "linecolor": "white",
           "ticks": "",
           "title": {
            "standoff": 15
           },
           "zerolinecolor": "white",
           "zerolinewidth": 2
          }
         }
        },
        "title": {
         "text": "Confusion Matrix for KNN Classification (k = 4)<br>Total missclassified Images: 9",
         "x": 0.5,
         "xanchor": "center",
         "y": 0.925,
         "yanchor": "top"
        },
        "width": 900,
        "xaxis": {
         "dtick": 1,
         "gridcolor": "rgb(0, 0, 0)",
         "side": "bottom",
         "ticks": "",
         "title": {
          "text": "Predicted Labels"
         }
        },
        "yaxis": {
         "dtick": 1,
         "ticks": "",
         "ticksuffix": "  ",
         "title": {
          "text": "True Labels"
         }
        }
       }
      }
     },
     "metadata": {},
     "output_type": "display_data"
    }
   ],
   "source": [
    "from functions.knn import knn_classifier\n",
    "\n",
    "k = 4 # Number of neighbors to consider\n",
    "predictions = knn_classifier(train_reduced, train_labels, test_reduced, test_labels, k)\n",
    "\n",
    "# Here is a simple example of calculating accuracy:\n",
    "# test_labels is only needed for evaluating the model\n",
    "# therefore we check if it exists in the global scope (dictionary of all variables)\n",
    "\n",
    "\n",
    "# Convert them to NumPy arrays if they aren’t already:\n",
    "true_labels = np.array(test_labels)\n",
    "pred_labels = np.array(predictions)\n",
    "\n",
    "# Compute the confusion matrix. It will have shape (n_classes, n_classes).\n",
    "cm = confusion_matrix(true_labels, pred_labels)\n",
    "\n",
    "# Optional: Determine the unique class labels for better tick labeling.\n",
    "classes = np.unique(np.concatenate((true_labels, pred_labels)))\n",
    "\n",
    "# plt.figure(figsize=(8, 6))\n",
    "# sns.heatmap(cm, annot=True, fmt='d', cmap='Blues',\n",
    "#            xticklabels=classes, yticklabels=classes, cbar=False)\n",
    "# plt.xlabel('Predicted Labels')\n",
    "# plt.ylabel('True Labels')\n",
    "# plt.title(f\"Confusion Matrix for KNN Classification (k = {k})\")\n",
    "# plt.show()\n",
    "\n",
    "\n",
    "# Create annotation text\n",
    "annotations = [[str(cm[i][j]) for j in range(len(classes))] for i in range(len(classes))]\n",
    "\n",
    "# Compute false annotations (misclassified entries)\n",
    "false_annotations = np.sum(cm) - np.trace(cm)  # Sum of non-diagonal entries\n",
    "\n",
    "# Compute missing annotations (count where diagonal != 3)\n",
    "# expected_value = 3  # Expected value on the diagonal\n",
    "# missing_annotations = np.sum(cm.diagonal() != expected_value)\n",
    "\n",
    "# Generate heatmap using Plotly\n",
    "fig = ff.create_annotated_heatmap(z=cm, x=classes.tolist(), y=classes.tolist(), \n",
    "                                  annotation_text=annotations, colorscale='Blues')\n",
    "# Set labels\n",
    "fig.update_layout(title={\n",
    "        \"text\": f\"Confusion Matrix for KNN Classification (k = {k})<br>\"\n",
    "        f\"Total missclassified Images: {false_annotations}\",\n",
    "        \"y\": 0.925,  # Adjust the vertical position (higher value moves it further up)\n",
    "        \"x\": 0.5,   # Keep it centered\n",
    "        \"xanchor\": \"center\",\n",
    "        \"yanchor\": \"top\"},\n",
    "    xaxis_title=\"Predicted Labels\", \n",
    "    yaxis_title=\"True Labels\",\n",
    "    autosize=False, width=900, height=650,\n",
    "    xaxis=dict(side=\"bottom\")\n",
    ")\n",
    "fig.show()"
   ]
  },
  {
   "cell_type": "code",
   "execution_count": null,
   "id": "16095d25",
   "metadata": {},
   "outputs": [
    {
     "data": {
      "text/plain": [
       "array(['subject01', 'subject12', 'subject01', 'subject02', 'subject02',\n",
       "       'subject09', 'subject03', 'subject03', 'subject03', 'subject04',\n",
       "       'subject04', 'subject04', 'subject05', 'subject05', 'subject12',\n",
       "       'subject06', 'subject06', 'subject06', 'subject10', 'subject07',\n",
       "       'subject15', 'subject15', 'subject07', 'subject08', 'subject08',\n",
       "       'subject09', 'subject09', 'subject10', 'subject10', 'subject10',\n",
       "       'subject11', 'subject11', 'subject11', 'subject12', 'subject12',\n",
       "       'subject12', 'subject13', 'subject13', 'subject13', 'subject14',\n",
       "       'subject14', 'subject15', 'subject15', 'subject15', 'subject15'],\n",
       "      dtype='<U9')"
      ]
     },
     "execution_count": 5,
     "metadata": {},
     "output_type": "execute_result"
    }
   ],
   "source": [
    "pred_labels"
   ]
  },
  {
   "cell_type": "markdown",
   "id": "285b2eac",
   "metadata": {},
   "source": [
    "---\n",
    "\n",
    "## <a id=\"testing\"></a> 4. Model testing"
   ]
  },
  {
   "cell_type": "code",
   "execution_count": null,
   "id": "dc663ef8",
   "metadata": {},
   "outputs": [
    {
     "name": "stdout",
     "output_type": "stream",
     "text": [
      "Size: (320, 243)\n"
     ]
    },
    {
     "data": {
      "text/plain": [
       "array([0.27407357, 0.17957236, 0.09242091, 0.07053633, 0.03591147,\n",
       "       0.03177288, 0.03045812, 0.02183803, 0.01975028, 0.01655025,\n",
       "       0.01348408, 0.01210151, 0.0102398 , 0.00946979, 0.00846738,\n",
       "       0.00808852, 0.00756513, 0.00714795, 0.00697722, 0.00676075,\n",
       "       0.00602336, 0.00573297, 0.00521017, 0.00507832, 0.00473002,\n",
       "       0.00449106, 0.00423566, 0.00413113, 0.00411027, 0.00375724,\n",
       "       0.003584  , 0.00325566, 0.00316609, 0.00315311, 0.00289065,\n",
       "       0.00275958, 0.00255357, 0.0024164 , 0.00237777, 0.0022914 ,\n",
       "       0.00222832, 0.00215829, 0.00208911, 0.00201047, 0.00199196,\n",
       "       0.00186579, 0.00183396, 0.00172344, 0.00170521, 0.00162351,\n",
       "       0.00161387, 0.00160609, 0.00154273, 0.00150783, 0.00144064,\n",
       "       0.00141693, 0.00137467, 0.00123804, 0.00120509, 0.00119234,\n",
       "       0.00115323, 0.00113341, 0.00107103, 0.00102888, 0.00100939,\n",
       "       0.00100876, 0.00098301, 0.0009241 , 0.00092142, 0.00089062,\n",
       "       0.00086895, 0.00083401, 0.00082126, 0.00079317, 0.00076711,\n",
       "       0.00072145, 0.00070318, 0.00068956, 0.00066207, 0.00065062,\n",
       "       0.0006406 , 0.00062511, 0.00061368, 0.00058262, 0.00054945,\n",
       "       0.00054026, 0.00053686, 0.00051938, 0.00051099, 0.00049278,\n",
       "       0.00048246, 0.00047408, 0.00046073, 0.00044747, 0.00043146,\n",
       "       0.00041346, 0.00040691, 0.00038787, 0.00038085, 0.00036482],\n",
       "      dtype=float32)"
      ]
     },
     "execution_count": 12,
     "metadata": {},
     "output_type": "execute_result"
    }
   ],
   "source": [
    "img_check = Image.open(\"datasets/subject01.glasses.gif\")\n",
    "print(f\"Size: {img_check.size}\")\n",
    "\n",
    "variance_explained_general"
   ]
  },
  {
   "cell_type": "code",
   "execution_count": null,
   "id": "9b45588e",
   "metadata": {},
   "outputs": [
    {
     "name": "stdout",
     "output_type": "stream",
     "text": [
      "final_test shape: (45, 77760)\n",
      "test_images original shape: (45, 243, 320)\n",
      "Total misclassified images found: 9\n",
      "[1, 5, 14, 18, 20, 21, 22, 24, 41]\n"
     ]
    },
    {
     "data": {
      "image/png": "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",
      "text/plain": [
       "<Figure size 1200x1200 with 9 Axes>"
      ]
     },
     "metadata": {},
     "output_type": "display_data"
    }
   ],
   "source": [
    "# first we rescale the image to the original size of the training images\n",
    "image_height = 243\n",
    "image_width = 320\n",
    "original_shape_test_images = test_arr.reshape(-1, image_height, image_width)\n",
    "print(f\"final_test shape: {test_arr.shape}\")\n",
    "print(f\"test_images original shape: {original_shape_test_images.shape}\")\n",
    "\n",
    "# Determine misclassified indices\n",
    "misclassified_indices = [i for i, (true, pred) in enumerate(zip(test_labels, predicted_labels)) if true != pred]\n",
    "# Print the number of misclassified images and their indices\n",
    "print(f\"Total misclassified images found: {len(misclassified_indices)}\")\n",
    "print(misclassified_indices)\n",
    "# Let's plot up to 16 misclassified images (or fewer if not available)\n",
    "num_to_plot = min(16, len(misclassified_indices))\n",
    "# for this a plot with subplots is created\n",
    "plt.figure(figsize=(12, 12))\n",
    "for idx, mis_idx in enumerate(misclassified_indices[:num_to_plot]):\n",
    "    plt.subplot(4, 4, idx+1)\n",
    "    plt.imshow(original_shape_test_images[mis_idx], cmap='gray') # assuming grayscale images\n",
    "    plt.title(f\"True: {test_labels[mis_idx]}\\nPredicted: {predicted_labels[mis_idx]}\")\n",
    "    plt.axis('off')\n",
    "plt.suptitle(\"Misclassified Test Images\", fontsize=16)\n",
    "plt.tight_layout(rect=[0, 0.03, 1, 0.95])\n",
    "plt.show()"
   ]
  },
  {
   "cell_type": "markdown",
   "id": "930d6ba8",
   "metadata": {},
   "source": [
    "---\n",
    "\n",
    "## <a id=\"accuracy\"></a> 5. Accuracy evaluation"
   ]
  },
  {
   "cell_type": "markdown",
   "id": "0add2f5e",
   "metadata": {},
   "source": [
    "In section 5 we perform some evaluations in order to optimize our output. As we ran our model before for demonstration, we already used the best parameters based on the evaluations below. Therefore, this section will show why the chosen parameters are the best for our Image analysis model."
   ]
  },
  {
   "cell_type": "markdown",
   "id": "686f9d09",
   "metadata": {},
   "source": [
    "### 5.1  How to split the dataset?\n",
    "\n",
    "The results depend on the way you choose to split the dataset. If you use not enough images for testing, the model might not recongnize unseen images correctly. TEXT ERWEITERN\n",
    "Therefore, we evaluated what kind of splitting is the most efficient one: \n",
    "\n",
    "\n",
    "durchlaufen lassen für accuracy gegen anzahl der train images als plot => scatter plot oder boxplot"
   ]
  },
  {
   "cell_type": "code",
   "execution_count": null,
   "metadata": {},
   "outputs": [],
   "source": []
  },
  {
   "cell_type": "markdown",
   "id": "069bd5cc",
   "metadata": {},
   "source": [
    "### 5.2 Finding perfect amount of principal components\n",
    "\n",
    "After evaluating the dataset splitting, we now want to find out which amount of pricipal components (PC) is the one, which gives us the best accuracy and still processes the data fast. Based on WHAT???( Source needed) we defined a threshold of ... % to be the perfect variance. Therefore we choose .... PCs. The curve shows a horizontal asymptotic behavior towards one. It increases exponentially in the beginning. As the number of components increases, the cumulative explained variance ratio continues to grow, but at a slower rate."
   ]
  },
  {
   "cell_type": "code",
   "execution_count": null,
   "id": "36483730",
   "metadata": {},
   "outputs": [
    {
     "name": "stdout",
     "output_type": "stream",
     "text": [
      "Succesfully reduced Matrix from (120, 77760) to (120, 100)\n",
      "\n"
     ]
    },
    {
     "data": {
      "image/png": "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",
      "text/plain": [
       "<Figure size 800x500 with 1 Axes>"
      ]
     },
     "metadata": {},
     "output_type": "display_data"
    },
    {
     "name": "stdout",
     "output_type": "stream",
     "text": [
      "Total explained variance by 40 PCs: 93.91%\n"
     ]
    }
   ],
   "source": [
    "V_reduced_general, train_reduced_general, variance_explained_general = svd_pca(final_train,100)\n",
    "\n",
    "plt.figure(figsize=(8, 5))\n",
    "plt.plot(range(1, 100+1), np.cumsum(variance_explained_general), marker='', linestyle='-', color='b')\n",
    "plt.axhline(y=0.9401, color='r', linestyle='--', label='40 PCs')\n",
    "plt.axvline(x=40, color='r', linestyle='--', label='40 PCs')\n",
    "plt.title(\"Cumulative variance explained by the numbers of principal components\")\n",
    "plt.xlabel(\"Number of principal component\")\n",
    "plt.ylabel(\"variance explained (%)\")\n",
    "# plt.xticks(n) \n",
    "plt.grid(True)\n",
    "plt.show()\n",
    "\n",
    "print(f\"Total explained variance by 40 PCs: {np.sum(variance_explained_general[:40])* 100:.2f}%\")\n",
    "# print(f\"Explained variance ratio by first 5 components:\\n {variance_explained[:5]}\\n\")"
   ]
  },
  {
   "cell_type": "markdown",
   "id": "05a44a79",
   "metadata": {},
   "source": [
    "### 5.3 Finding the best k\n",
    "\n",
    "In the following section we focused on evaluating, which amount of nearest neighbors k leads to the highest accuracy"
   ]
  },
  {
   "cell_type": "code",
   "execution_count": null,
   "id": "8886746c",
   "metadata": {},
   "outputs": [
    {
     "name": "stdout",
     "output_type": "stream",
     "text": [
      "Evaluation of best \u001b[3m\u001b[1mk\u001b[0m for:\n",
      "\u001b[3m\u001b[1m120\u001b[0m training images and \u001b[3m\u001b[1m45\u001b[0m test images and \u001b[3m\u001b[1m40\u001b[0m principal components\n",
      "k = 2: Classification Accuracy = 73.33%\n",
      "k = 3: Classification Accuracy = 77.78%\n",
      "k = 4: Classification Accuracy = 77.78%\n",
      "k = 5: Classification Accuracy = 73.33%\n",
      "k = 6: Classification Accuracy = 75.56%\n",
      "k = 7: Classification Accuracy = 71.11%\n",
      "k = 8: Classification Accuracy = 66.67%\n",
      "k = 9: Classification Accuracy = 68.89%\n",
      "k = 10: Classification Accuracy = 68.89%\n",
      "k = 11: Classification Accuracy = 68.89%\n",
      "k = 12: Classification Accuracy = 68.89%\n",
      "k = 13: Classification Accuracy = 73.33%\n",
      "k = 14: Classification Accuracy = 64.44%\n",
      "k = 15: Classification Accuracy = 57.78%\n",
      "k = 16: Classification Accuracy = 55.56%\n",
      "k = 17: Classification Accuracy = 53.33%\n",
      "k = 18: Classification Accuracy = 48.89%\n",
      "k = 19: Classification Accuracy = 42.22%\n",
      "k = 20: Classification Accuracy = 40.00%\n",
      "\n",
      "Best k = 3 with accuracy: \u001b[1m77.78%\u001b[0m\n"
     ]
    },
    {
     "data": {
      "image/png": "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",
      "text/plain": [
       "<Figure size 800x500 with 1 Axes>"
      ]
     },
     "metadata": {},
     "output_type": "display_data"
    }
   ],
   "source": [
    "# Dictionary to store accuracies for each k value.\n",
    "accuracy_dict = {}\n",
    "\n",
    "#\\033[1m stands for bold;\\033[3m stands for italic \\033[0m resets the formatting to normal.\n",
    "print(f\"Evaluation of best \\033[3m\\033[1mk\\033[0m for:\")\n",
    "print(f\"\\033[3m\\033[1m{len(train_reduced)}\\033[0m training images and \\033[3m\\033[1m{len(test_reduced)}\\033[0m test images and \\033[3m\\033[1m{n_components}\\033[0m principal components\")\n",
    "\n",
    "# loop through k values from 2 to 20, as k = 1 \n",
    "for k in range(2, 21):\n",
    "    predicted_labels = knn_classifier(train_reduced, train_labels, test_reduced, k)\n",
    "    accuracy = np.mean(np.array(predicted_labels) == np.array(test_labels))\n",
    "    # assigns the value of accuracy to the key k in the dictionary accuracy_dict.\n",
    "    # This means for each value of k (the number of neighbors in KNN), you store the corresponding classification accuracy.\n",
    "    accuracy_dict[k] = accuracy\n",
    "    print(f\"k = {k}: Classification Accuracy = {accuracy * 100:.2f}%\")\n",
    "\n",
    "# Identify the best k value based on the highest accuracy\n",
    "best_k = max(accuracy_dict, key=accuracy_dict.get)\n",
    "highest_accuracy = accuracy_dict[best_k]\n",
    "print(f\"\\nBest k = {best_k} with accuracy: \\033[1m{highest_accuracy * 100:.2f}%\\033[0m\")\n",
    "\n",
    "# First, sort the dictionary keys (k values) for plotting in order.\n",
    "k_values = sorted(accuracy_dict.keys())\n",
    "accuracy_values = [accuracy_dict[k] for k in k_values]\n",
    "\n",
    "# Create the plot.\n",
    "plt.figure(figsize=(8, 5))\n",
    "plt.plot(k_values, accuracy_values, marker='o', linestyle='-', color='b')\n",
    "plt.scatter([best_k], [highest_accuracy], color='r', s=50, zorder=5, label='Best Accuracy')\n",
    "# Annotate the plot\n",
    "# plt.title(\"KNN Classification Accuracy vs. k\")\n",
    "plt.xlabel(\"Number of Neighbors (k)\")\n",
    "plt.ylabel(\"Classification Accuracy\")\n",
    "plt.xticks(k_values)  # Set x-ticks to be the k values\n",
    "plt.grid(True)\n",
    "plt.show()"
   ]
  },
  {
   "cell_type": "markdown",
   "id": "cfb70e98",
   "metadata": {},
   "source": [
    "---\n",
    "\n",
    "## <a id=\"further-analysis\"></a> 6. Further analysis"
   ]
  },
  {
   "cell_type": "markdown",
   "id": "a37345c7",
   "metadata": {},
   "source": [
    "\n"
   ]
  },
  {
   "cell_type": "code",
   "execution_count": null,
   "id": "839f2c2a",
   "metadata": {},
   "outputs": [],
   "source": [
    "# for MacOS users, the path separator is a forward slash, please uncomment the following line:\n",
    "# %run functions/furtheranalysis.py\n",
    "\n",
    "%run functions\\furtheranalysis.py"
   ]
  }
 ]

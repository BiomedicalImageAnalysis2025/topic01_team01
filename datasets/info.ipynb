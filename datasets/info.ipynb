{
 "cells": [
  {
   "cell_type": "markdown",
   "id": "a43cc4d8",
   "metadata": {},
   "source": [
    "Folder with our datasets and other stuff related to them"
   ]
  }
 ],
 "metadata": {
  "language_info": {
   "name": "python"
  }
 },
 "nbformat": 4,
 "nbformat_minor": 5
}
